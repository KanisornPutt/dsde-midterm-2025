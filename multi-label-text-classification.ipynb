{
 "cells": [
  {
   "cell_type": "markdown",
   "id": "1d6e778c",
   "metadata": {
    "id": "PeRNL8O5EmXD",
    "papermill": {
     "duration": 0.015761,
     "end_time": "2025-03-12T01:10:14.116503",
     "exception": false,
     "start_time": "2025-03-12T01:10:14.100742",
     "status": "completed"
    },
    "tags": []
   },
   "source": [
    "# Multi-Label Text Classification\n",
    "Kanisorn Puttaruska 6530049421"
   ]
  },
  {
   "cell_type": "code",
   "execution_count": 1,
   "id": "c3603c94",
   "metadata": {
    "execution": {
     "iopub.execute_input": "2025-03-12T01:10:14.146655Z",
     "iopub.status.busy": "2025-03-12T01:10:14.146182Z",
     "iopub.status.idle": "2025-03-12T01:10:14.952399Z",
     "shell.execute_reply": "2025-03-12T01:10:14.951404Z"
    },
    "papermill": {
     "duration": 0.822756,
     "end_time": "2025-03-12T01:10:14.953865",
     "exception": false,
     "start_time": "2025-03-12T01:10:14.131109",
     "status": "completed"
    },
    "tags": []
   },
   "outputs": [
    {
     "name": "stdout",
     "output_type": "stream",
     "text": [
      "/kaggle/input/2110446-dsde-2024-2/sample_submission.csv\n",
      "/kaggle/input/2110446-dsde-2024-2/train.csv\n",
      "/kaggle/input/2110446-dsde-2024-2/test.csv\n"
     ]
    }
   ],
   "source": [
    "# This Python 3 environment comes with many helpful analytics libraries installed\n",
    "# It is defined by the kaggle/python Docker image: https://github.com/kaggle/docker-python\n",
    "# For example, here's several helpful packages to load\n",
    "\n",
    "import numpy as np # linear algebra\n",
    "import pandas as pd # data processing, CSV file I/O (e.g. pd.read_csv)\n",
    "\n",
    "# Input data files are available in the read-only \"../input/\" directory\n",
    "# For example, running this (by clicking run or pressing Shift+Enter) will list all files under the input directory\n",
    "\n",
    "import os\n",
    "for dirname, _, filenames in os.walk('/kaggle/input'):\n",
    "    for filename in filenames:\n",
    "        print(os.path.join(dirname, filename))\n",
    "\n",
    "# You can write up to 20GB to the current directory (/kaggle/working/) that gets preserved as output when you create a version using \"Save & Run All\" \n",
    "# You can also write temporary files to /kaggle/temp/, but they won't be saved outside of the current session"
   ]
  },
  {
   "cell_type": "code",
   "execution_count": 2,
   "id": "4b41ed83",
   "metadata": {
    "execution": {
     "iopub.execute_input": "2025-03-12T01:10:14.985796Z",
     "iopub.status.busy": "2025-03-12T01:10:14.985450Z",
     "iopub.status.idle": "2025-03-12T01:10:15.373625Z",
     "shell.execute_reply": "2025-03-12T01:10:15.372917Z"
    },
    "id": "M3D2UGRuQ_QQ",
    "outputId": "d117b4d4-d291-4053-e1a1-1cbfc2638a49",
    "papermill": {
     "duration": 0.40608,
     "end_time": "2025-03-12T01:10:15.375067",
     "exception": false,
     "start_time": "2025-03-12T01:10:14.968987",
     "status": "completed"
    },
    "tags": []
   },
   "outputs": [],
   "source": [
    "from huggingface_hub import notebook_login\n",
    "#notebook_login()"
   ]
  },
  {
   "cell_type": "code",
   "execution_count": 3,
   "id": "a0161021",
   "metadata": {
    "execution": {
     "iopub.execute_input": "2025-03-12T01:10:15.405621Z",
     "iopub.status.busy": "2025-03-12T01:10:15.405390Z",
     "iopub.status.idle": "2025-03-12T01:10:19.880280Z",
     "shell.execute_reply": "2025-03-12T01:10:19.879346Z"
    },
    "papermill": {
     "duration": 4.491627,
     "end_time": "2025-03-12T01:10:19.881890",
     "exception": false,
     "start_time": "2025-03-12T01:10:15.390263",
     "status": "completed"
    },
    "tags": []
   },
   "outputs": [],
   "source": [
    "%%capture\n",
    "!pip install wandb"
   ]
  },
  {
   "cell_type": "code",
   "execution_count": 4,
   "id": "4e6cec38",
   "metadata": {
    "execution": {
     "iopub.execute_input": "2025-03-12T01:10:19.912647Z",
     "iopub.status.busy": "2025-03-12T01:10:19.912375Z",
     "iopub.status.idle": "2025-03-12T01:10:24.212172Z",
     "shell.execute_reply": "2025-03-12T01:10:24.211233Z"
    },
    "papermill": {
     "duration": 4.316805,
     "end_time": "2025-03-12T01:10:24.213736",
     "exception": false,
     "start_time": "2025-03-12T01:10:19.896931",
     "status": "completed"
    },
    "tags": []
   },
   "outputs": [
    {
     "name": "stdout",
     "output_type": "stream",
     "text": [
      "\u001b[34m\u001b[1mwandb\u001b[0m: \u001b[33mWARNING\u001b[0m If you're specifying your api key in code, ensure this code is not shared publicly.\r\n",
      "\u001b[34m\u001b[1mwandb\u001b[0m: \u001b[33mWARNING\u001b[0m Consider setting the WANDB_API_KEY environment variable, or running `wandb login` from the command line.\r\n",
      "\u001b[34m\u001b[1mwandb\u001b[0m: Appending key for api.wandb.ai to your netrc file: /root/.netrc\r\n"
     ]
    }
   ],
   "source": [
    "import wandb\n",
    "!wandb login \"c9012dd7d55c154a87dc2d69a39ca5cfdc6cdc5f\" "
   ]
  },
  {
   "cell_type": "code",
   "execution_count": 5,
   "id": "f305301d",
   "metadata": {
    "execution": {
     "iopub.execute_input": "2025-03-12T01:10:24.245059Z",
     "iopub.status.busy": "2025-03-12T01:10:24.244778Z",
     "iopub.status.idle": "2025-03-12T01:10:24.250570Z",
     "shell.execute_reply": "2025-03-12T01:10:24.249785Z"
    },
    "papermill": {
     "duration": 0.022465,
     "end_time": "2025-03-12T01:10:24.251735",
     "exception": false,
     "start_time": "2025-03-12T01:10:24.229270",
     "status": "completed"
    },
    "tags": []
   },
   "outputs": [
    {
     "name": "stdout",
     "output_type": "stream",
     "text": [
      "Model: clicknext/phayathaibert\n"
     ]
    }
   ],
   "source": [
    "# Hyperparameters\n",
    "MAX_LENGTH = 128\n",
    "NUM_EPOCHS = 1\n",
    "BATCH_SIZE = 32\n",
    "THRESHOLD = 0.5\n",
    "RANDOM_STATE = 49\n",
    "oversampling_target = 5000\n",
    "\n",
    "undersampling_theshold = 10000000 # no downsampling\n",
    "a = 0.5\n",
    "b = 0.05\n",
    "\n",
    "\"\"\"\n",
    "\"clicknext/phayathaibert\"\n",
    "\"airesearch/wangchanberta-base-att-spm-uncased\"\n",
    "\"\"\"\n",
    "\n",
    "model_name = \"clicknext/phayathaibert\"\n",
    "\n",
    "print(f\"Model: {model_name}\")"
   ]
  },
  {
   "cell_type": "markdown",
   "id": "32b3207b",
   "metadata": {
    "id": "8r4KF8mAEmXG",
    "papermill": {
     "duration": 0.014818,
     "end_time": "2025-03-12T01:10:24.281279",
     "exception": false,
     "start_time": "2025-03-12T01:10:24.266461",
     "status": "completed"
    },
    "tags": []
   },
   "source": [
    "## Import and Install Libraries"
   ]
  },
  {
   "cell_type": "code",
   "execution_count": 6,
   "id": "b416758e",
   "metadata": {
    "execution": {
     "iopub.execute_input": "2025-03-12T01:10:24.310906Z",
     "iopub.status.busy": "2025-03-12T01:10:24.310686Z",
     "iopub.status.idle": "2025-03-12T01:10:27.937157Z",
     "shell.execute_reply": "2025-03-12T01:10:27.936036Z"
    },
    "papermill": {
     "duration": 3.643048,
     "end_time": "2025-03-12T01:10:27.938703",
     "exception": false,
     "start_time": "2025-03-12T01:10:24.295655",
     "status": "completed"
    },
    "tags": []
   },
   "outputs": [],
   "source": [
    "%%capture\n",
    "!pip install datasets evaluate transformers"
   ]
  },
  {
   "cell_type": "code",
   "execution_count": 7,
   "id": "b0183ca6",
   "metadata": {
    "execution": {
     "iopub.execute_input": "2025-03-12T01:10:27.968882Z",
     "iopub.status.busy": "2025-03-12T01:10:27.968636Z",
     "iopub.status.idle": "2025-03-12T01:10:53.318441Z",
     "shell.execute_reply": "2025-03-12T01:10:53.317727Z"
    },
    "id": "ujNrBCIHEmXH",
    "papermill": {
     "duration": 25.366356,
     "end_time": "2025-03-12T01:10:53.319982",
     "exception": false,
     "start_time": "2025-03-12T01:10:27.953626",
     "status": "completed"
    },
    "tags": []
   },
   "outputs": [],
   "source": [
    "%matplotlib inline\n",
    "import numpy as np\n",
    "import matplotlib.pyplot as plt\n",
    "import pandas as pd\n",
    "import re\n",
    "import torch\n",
    "from tqdm import tqdm\n",
    "\n",
    "from IPython.display import display\n",
    "\n",
    "from sklearn.utils import resample \n",
    "from sklearn.model_selection import train_test_split\n",
    "from datasets import Dataset, DatasetDict\n",
    "\n",
    "from transformers import AutoTokenizer, AutoModelForSequenceClassification, TrainingArguments, Trainer\n",
    "from evaluate import load"
   ]
  },
  {
   "cell_type": "markdown",
   "id": "70f51697",
   "metadata": {
    "id": "yDwi-Ko9EmXJ",
    "papermill": {
     "duration": 0.014361,
     "end_time": "2025-03-12T01:10:53.350028",
     "exception": false,
     "start_time": "2025-03-12T01:10:53.335667",
     "status": "completed"
    },
    "tags": []
   },
   "source": [
    "# Load Dataset"
   ]
  },
  {
   "cell_type": "code",
   "execution_count": 8,
   "id": "565a774b",
   "metadata": {
    "execution": {
     "iopub.execute_input": "2025-03-12T01:10:53.380190Z",
     "iopub.status.busy": "2025-03-12T01:10:53.379618Z",
     "iopub.status.idle": "2025-03-12T01:10:56.901035Z",
     "shell.execute_reply": "2025-03-12T01:10:56.900268Z"
    },
    "id": "x73rJfVHEmXK",
    "papermill": {
     "duration": 3.538145,
     "end_time": "2025-03-12T01:10:56.902612",
     "exception": false,
     "start_time": "2025-03-12T01:10:53.364467",
     "status": "completed"
    },
    "tags": []
   },
   "outputs": [],
   "source": [
    "dataset_path = '/kaggle/input/2110446-dsde-2024-2/'\n",
    "df_train = pd.read_csv(dataset_path + \"/train.csv\")\n",
    "df_test = pd.read_csv(dataset_path + \"/test.csv\")"
   ]
  },
  {
   "cell_type": "code",
   "execution_count": 9,
   "id": "271cfa76",
   "metadata": {
    "execution": {
     "iopub.execute_input": "2025-03-12T01:10:56.932856Z",
     "iopub.status.busy": "2025-03-12T01:10:56.932611Z",
     "iopub.status.idle": "2025-03-12T01:10:56.955783Z",
     "shell.execute_reply": "2025-03-12T01:10:56.955026Z"
    },
    "id": "aZb6Fq8zEmXL",
    "outputId": "f7b15a0b-f536-4f6c-8fdb-97e85a7f3245",
    "papermill": {
     "duration": 0.039612,
     "end_time": "2025-03-12T01:10:56.957090",
     "exception": false,
     "start_time": "2025-03-12T01:10:56.917478",
     "status": "completed"
    },
    "tags": []
   },
   "outputs": [
    {
     "data": {
      "text/html": [
       "<div>\n",
       "<style scoped>\n",
       "    .dataframe tbody tr th:only-of-type {\n",
       "        vertical-align: middle;\n",
       "    }\n",
       "\n",
       "    .dataframe tbody tr th {\n",
       "        vertical-align: top;\n",
       "    }\n",
       "\n",
       "    .dataframe thead th {\n",
       "        text-align: right;\n",
       "    }\n",
       "</style>\n",
       "<table border=\"1\" class=\"dataframe\">\n",
       "  <thead>\n",
       "    <tr style=\"text-align: right;\">\n",
       "      <th></th>\n",
       "      <th>id</th>\n",
       "      <th>comment</th>\n",
       "      <th>สำนักงานตำรวจแห่งชาติ</th>\n",
       "      <th>การรถไฟฟ้าขนส่งมวลชนแห่งประเทศไทย</th>\n",
       "      <th>สภาเด็กและเยาวชนกรุงเทพมหานคร</th>\n",
       "      <th>กรมควบคุมมลพิษ</th>\n",
       "      <th>กรมสรรพสามิต</th>\n",
       "      <th>การไฟฟ้านครหลวง</th>\n",
       "      <th>กรมทางหลวง</th>\n",
       "      <th>สำนักงานประกันสุขภาพแห่งชาติ</th>\n",
       "      <th>การประปานครหลวง</th>\n",
       "      <th>คณะกรรมการการพัฒนาเศรษฐกิจ</th>\n",
       "      <th>กระทรวงการท่องเที่ยวและกีฬา</th>\n",
       "      <th>สำนักงาน กสทช. ศูนย์รับแจ้งปัญหา 1200</th>\n",
       "    </tr>\n",
       "  </thead>\n",
       "  <tbody>\n",
       "    <tr>\n",
       "      <th>0</th>\n",
       "      <td>0</td>\n",
       "      <td>บริเวณนราธิวาส  แยกถนนจันทน์ ใกล้สวนสาธารณะช่อ...</td>\n",
       "      <td>0</td>\n",
       "      <td>0</td>\n",
       "      <td>0</td>\n",
       "      <td>0</td>\n",
       "      <td>0</td>\n",
       "      <td>0</td>\n",
       "      <td>0</td>\n",
       "      <td>0</td>\n",
       "      <td>0</td>\n",
       "      <td>0</td>\n",
       "      <td>0</td>\n",
       "      <td>0</td>\n",
       "    </tr>\n",
       "    <tr>\n",
       "      <th>1</th>\n",
       "      <td>1</td>\n",
       "      <td>บริเวณสะพานสามถนนจันทน์ เป็นจุดเปลี่ยนถ่ายสองแ...</td>\n",
       "      <td>0</td>\n",
       "      <td>0</td>\n",
       "      <td>0</td>\n",
       "      <td>0</td>\n",
       "      <td>0</td>\n",
       "      <td>0</td>\n",
       "      <td>0</td>\n",
       "      <td>0</td>\n",
       "      <td>0</td>\n",
       "      <td>0</td>\n",
       "      <td>0</td>\n",
       "      <td>0</td>\n",
       "    </tr>\n",
       "    <tr>\n",
       "      <th>2</th>\n",
       "      <td>2</td>\n",
       "      <td>เรื่องทางม้าลายหายไป บริเวณสี่แยกถนนจันทร์-เซน...</td>\n",
       "      <td>0</td>\n",
       "      <td>0</td>\n",
       "      <td>0</td>\n",
       "      <td>0</td>\n",
       "      <td>0</td>\n",
       "      <td>0</td>\n",
       "      <td>0</td>\n",
       "      <td>0</td>\n",
       "      <td>0</td>\n",
       "      <td>0</td>\n",
       "      <td>0</td>\n",
       "      <td>0</td>\n",
       "    </tr>\n",
       "    <tr>\n",
       "      <th>3</th>\n",
       "      <td>3</td>\n",
       "      <td>ปัญหาน้ำท่วมในซอยสวนพลู 1</td>\n",
       "      <td>0</td>\n",
       "      <td>0</td>\n",
       "      <td>0</td>\n",
       "      <td>0</td>\n",
       "      <td>0</td>\n",
       "      <td>0</td>\n",
       "      <td>0</td>\n",
       "      <td>0</td>\n",
       "      <td>0</td>\n",
       "      <td>0</td>\n",
       "      <td>0</td>\n",
       "      <td>0</td>\n",
       "    </tr>\n",
       "    <tr>\n",
       "      <th>4</th>\n",
       "      <td>4</td>\n",
       "      <td>1. ซ่อมสายไฟ กรีดขวางทางเท้า</td>\n",
       "      <td>0</td>\n",
       "      <td>0</td>\n",
       "      <td>0</td>\n",
       "      <td>0</td>\n",
       "      <td>0</td>\n",
       "      <td>0</td>\n",
       "      <td>0</td>\n",
       "      <td>0</td>\n",
       "      <td>0</td>\n",
       "      <td>0</td>\n",
       "      <td>0</td>\n",
       "      <td>0</td>\n",
       "    </tr>\n",
       "  </tbody>\n",
       "</table>\n",
       "</div>"
      ],
      "text/plain": [
       "   id                                            comment  \\\n",
       "0   0  บริเวณนราธิวาส  แยกถนนจันทน์ ใกล้สวนสาธารณะช่อ...   \n",
       "1   1  บริเวณสะพานสามถนนจันทน์ เป็นจุดเปลี่ยนถ่ายสองแ...   \n",
       "2   2  เรื่องทางม้าลายหายไป บริเวณสี่แยกถนนจันทร์-เซน...   \n",
       "3   3                          ปัญหาน้ำท่วมในซอยสวนพลู 1   \n",
       "4   4                       1. ซ่อมสายไฟ กรีดขวางทางเท้า   \n",
       "\n",
       "   สำนักงานตำรวจแห่งชาติ  การรถไฟฟ้าขนส่งมวลชนแห่งประเทศไทย  \\\n",
       "0                      0                                  0   \n",
       "1                      0                                  0   \n",
       "2                      0                                  0   \n",
       "3                      0                                  0   \n",
       "4                      0                                  0   \n",
       "\n",
       "   สภาเด็กและเยาวชนกรุงเทพมหานคร  กรมควบคุมมลพิษ  กรมสรรพสามิต  \\\n",
       "0                              0               0             0   \n",
       "1                              0               0             0   \n",
       "2                              0               0             0   \n",
       "3                              0               0             0   \n",
       "4                              0               0             0   \n",
       "\n",
       "   การไฟฟ้านครหลวง  กรมทางหลวง  สำนักงานประกันสุขภาพแห่งชาติ  การประปานครหลวง  \\\n",
       "0                0           0                             0                0   \n",
       "1                0           0                             0                0   \n",
       "2                0           0                             0                0   \n",
       "3                0           0                             0                0   \n",
       "4                0           0                             0                0   \n",
       "\n",
       "   คณะกรรมการการพัฒนาเศรษฐกิจ  กระทรวงการท่องเที่ยวและกีฬา  \\\n",
       "0                           0                            0   \n",
       "1                           0                            0   \n",
       "2                           0                            0   \n",
       "3                           0                            0   \n",
       "4                           0                            0   \n",
       "\n",
       "   สำนักงาน กสทช. ศูนย์รับแจ้งปัญหา 1200  \n",
       "0                                      0  \n",
       "1                                      0  \n",
       "2                                      0  \n",
       "3                                      0  \n",
       "4                                      0  "
      ]
     },
     "execution_count": 9,
     "metadata": {},
     "output_type": "execute_result"
    }
   ],
   "source": [
    "df_train.head()"
   ]
  },
  {
   "cell_type": "code",
   "execution_count": 10,
   "id": "883fd837",
   "metadata": {
    "execution": {
     "iopub.execute_input": "2025-03-12T01:10:56.988133Z",
     "iopub.status.busy": "2025-03-12T01:10:56.987906Z",
     "iopub.status.idle": "2025-03-12T01:10:56.994575Z",
     "shell.execute_reply": "2025-03-12T01:10:56.993773Z"
    },
    "id": "94BxlT9qEmXM",
    "outputId": "d31fbf72-b5a9-4e12-d24f-29d083987f2e",
    "papermill": {
     "duration": 0.023682,
     "end_time": "2025-03-12T01:10:56.995808",
     "exception": false,
     "start_time": "2025-03-12T01:10:56.972126",
     "status": "completed"
    },
    "tags": []
   },
   "outputs": [
    {
     "data": {
      "text/html": [
       "<div>\n",
       "<style scoped>\n",
       "    .dataframe tbody tr th:only-of-type {\n",
       "        vertical-align: middle;\n",
       "    }\n",
       "\n",
       "    .dataframe tbody tr th {\n",
       "        vertical-align: top;\n",
       "    }\n",
       "\n",
       "    .dataframe thead th {\n",
       "        text-align: right;\n",
       "    }\n",
       "</style>\n",
       "<table border=\"1\" class=\"dataframe\">\n",
       "  <thead>\n",
       "    <tr style=\"text-align: right;\">\n",
       "      <th></th>\n",
       "      <th>id</th>\n",
       "      <th>comment</th>\n",
       "    </tr>\n",
       "  </thead>\n",
       "  <tbody>\n",
       "    <tr>\n",
       "      <th>0</th>\n",
       "      <td>0</td>\n",
       "      <td>ไม่มีทางเท้าคนเดินจากสะพานกรุงธนบุรีไปวัดราชผา...</td>\n",
       "    </tr>\n",
       "    <tr>\n",
       "      <th>1</th>\n",
       "      <td>1</td>\n",
       "      <td>อันนี้ภาพทางเข้าถ่ายไว้นานแล้วค่ะ ในซอยถนนจะเป...</td>\n",
       "    </tr>\n",
       "    <tr>\n",
       "      <th>2</th>\n",
       "      <td>2</td>\n",
       "      <td>ขยะที่แยกสะพานควาย</td>\n",
       "    </tr>\n",
       "    <tr>\n",
       "      <th>3</th>\n",
       "      <td>3</td>\n",
       "      <td>ช่วงเร่งคืนพื้นที่ช่องจราจรถนนแจ้งวัฒนะ ช่วงวิ...</td>\n",
       "    </tr>\n",
       "    <tr>\n",
       "      <th>4</th>\n",
       "      <td>4</td>\n",
       "      <td>- ไฟถนนไม่ติด เป็นทางยาว คนเดินถนนลำบากมาก ถนน...</td>\n",
       "    </tr>\n",
       "  </tbody>\n",
       "</table>\n",
       "</div>"
      ],
      "text/plain": [
       "   id                                            comment\n",
       "0   0  ไม่มีทางเท้าคนเดินจากสะพานกรุงธนบุรีไปวัดราชผา...\n",
       "1   1  อันนี้ภาพทางเข้าถ่ายไว้นานแล้วค่ะ ในซอยถนนจะเป...\n",
       "2   2                                 ขยะที่แยกสะพานควาย\n",
       "3   3  ช่วงเร่งคืนพื้นที่ช่องจราจรถนนแจ้งวัฒนะ ช่วงวิ...\n",
       "4   4  - ไฟถนนไม่ติด เป็นทางยาว คนเดินถนนลำบากมาก ถนน..."
      ]
     },
     "execution_count": 10,
     "metadata": {},
     "output_type": "execute_result"
    }
   ],
   "source": [
    "df_test.head()"
   ]
  },
  {
   "cell_type": "code",
   "execution_count": 11,
   "id": "c85550fb",
   "metadata": {
    "execution": {
     "iopub.execute_input": "2025-03-12T01:10:57.027130Z",
     "iopub.status.busy": "2025-03-12T01:10:57.026887Z",
     "iopub.status.idle": "2025-03-12T01:10:57.031531Z",
     "shell.execute_reply": "2025-03-12T01:10:57.030756Z"
    },
    "papermill": {
     "duration": 0.021102,
     "end_time": "2025-03-12T01:10:57.032767",
     "exception": false,
     "start_time": "2025-03-12T01:10:57.011665",
     "status": "completed"
    },
    "tags": []
   },
   "outputs": [
    {
     "data": {
      "text/plain": [
       "['สำนักงานตำรวจแห่งชาติ',\n",
       " 'การรถไฟฟ้าขนส่งมวลชนแห่งประเทศไทย',\n",
       " 'สภาเด็กและเยาวชนกรุงเทพมหานคร',\n",
       " 'กรมควบคุมมลพิษ',\n",
       " 'กรมสรรพสามิต',\n",
       " 'การไฟฟ้านครหลวง',\n",
       " 'กรมทางหลวง',\n",
       " 'สำนักงานประกันสุขภาพแห่งชาติ',\n",
       " 'การประปานครหลวง',\n",
       " 'คณะกรรมการการพัฒนาเศรษฐกิจ',\n",
       " 'กระทรวงการท่องเที่ยวและกีฬา',\n",
       " 'สำนักงาน กสทช. ศูนย์รับแจ้งปัญหา 1200']"
      ]
     },
     "execution_count": 11,
     "metadata": {},
     "output_type": "execute_result"
    }
   ],
   "source": [
    "label_cols = df_train.columns[2:].values.tolist()\n",
    "label_cols"
   ]
  },
  {
   "cell_type": "markdown",
   "id": "f444f034",
   "metadata": {
    "papermill": {
     "duration": 0.014637,
     "end_time": "2025-03-12T01:10:57.062297",
     "exception": false,
     "start_time": "2025-03-12T01:10:57.047660",
     "status": "completed"
    },
    "tags": []
   },
   "source": [
    "# Data Preparation"
   ]
  },
  {
   "cell_type": "code",
   "execution_count": 12,
   "id": "406b6e5f",
   "metadata": {
    "execution": {
     "iopub.execute_input": "2025-03-12T01:10:57.092797Z",
     "iopub.status.busy": "2025-03-12T01:10:57.092577Z",
     "iopub.status.idle": "2025-03-12T01:10:57.403698Z",
     "shell.execute_reply": "2025-03-12T01:10:57.402863Z"
    },
    "id": "uQ69kxmcEmXN",
    "outputId": "a7222e3f-9005-4b39-cd2d-7d59896558d7",
    "papermill": {
     "duration": 0.327907,
     "end_time": "2025-03-12T01:10:57.405056",
     "exception": false,
     "start_time": "2025-03-12T01:10:57.077149",
     "status": "completed"
    },
    "tags": []
   },
   "outputs": [
    {
     "data": {
      "image/png": "[encoded data removed]",
      "text/plain": [
       "<Figure size 1000x500 with 1 Axes>"
      ]
     },
     "metadata": {},
     "output_type": "display_data"
    }
   ],
   "source": [
    "# count label\n",
    "int_label = np.arange(0,12)\n",
    "plt.figure(figsize=(10, 5))\n",
    "bars = plt.bar(int_label, df_train.iloc[:, 2:].sum())\n",
    "\n",
    "# Display the count above each bar\n",
    "for bar in bars:\n",
    "    yval = bar.get_height()\n",
    "    plt.text(bar.get_x() + bar.get_width()/2, yval + 0.05, int(yval), ha='center', va='bottom')\n",
    "\n",
    "plt.xticks(int_label)\n",
    "plt.xlabel('Columns Index')\n",
    "plt.ylabel('Number of Records')\n",
    "plt.title('Numbers of records for each label')\n",
    "plt.show()"
   ]
  },
  {
   "cell_type": "markdown",
   "id": "c2382337",
   "metadata": {
    "papermill": {
     "duration": 0.015458,
     "end_time": "2025-03-12T01:10:57.436656",
     "exception": false,
     "start_time": "2025-03-12T01:10:57.421198",
     "status": "completed"
    },
    "tags": []
   },
   "source": [
    "## Oversampling Data "
   ]
  },
  {
   "cell_type": "code",
   "execution_count": 13,
   "id": "e42606a2",
   "metadata": {
    "execution": {
     "iopub.execute_input": "2025-03-12T01:10:57.508772Z",
     "iopub.status.busy": "2025-03-12T01:10:57.508474Z",
     "iopub.status.idle": "2025-03-12T01:10:57.662375Z",
     "shell.execute_reply": "2025-03-12T01:10:57.661483Z"
    },
    "papermill": {
     "duration": 0.211894,
     "end_time": "2025-03-12T01:10:57.664100",
     "exception": false,
     "start_time": "2025-03-12T01:10:57.452206",
     "status": "completed"
    },
    "tags": []
   },
   "outputs": [
    {
     "name": "stderr",
     "output_type": "stream",
     "text": [
      "Oversampling Progress: 100%|██████████| 9/9 [00:00<00:00, 68.64it/s]"
     ]
    },
    {
     "name": "stdout",
     "output_type": "stream",
     "text": [
      "Oversampling completed. New dataset size: (228520, 14)\n"
     ]
    },
    {
     "name": "stderr",
     "output_type": "stream",
     "text": [
      "\n"
     ]
    }
   ],
   "source": [
    "# Identify columns with fewer than 100 records\n",
    "label_counts = df_train.iloc[:, 2:].sum()\n",
    "underrepresented_labels = label_counts[label_counts < oversampling_target].index\n",
    "\n",
    "# Create a copy of the original dataset\n",
    "df_oversampled = df_train.copy()\n",
    "\n",
    "# Use tqdm to track progress\n",
    "for label in tqdm(underrepresented_labels, desc=\"Oversampling Progress\"):\n",
    "    # Select rows where this label is present\n",
    "    subset = df_train[df_train[label] == 1]\n",
    "    \n",
    "    sample_target = oversampling_target\n",
    "    \n",
    "    # sample based on the number of records\n",
    " #   if len(subset) < 50 :\n",
    " #       sample_target = int(len(subset) * 150)\n",
    " #   elif len(subset) < 100 :\n",
    " #       sample_target = int(len(subset) * 50)\n",
    " #   else :\n",
    " #       sample_target = oversampling_target\n",
    "    \n",
    "    # Oversample with replacement\n",
    "    oversampled_subset = resample(subset, \n",
    "                                  replace=True, \n",
    "                                  n_samples=sample_target - len(subset),\n",
    "                                  random_state=RANDOM_STATE)\n",
    "    \n",
    "    # Append to the original dataset\n",
    "    df_oversampled = pd.concat([df_oversampled, oversampled_subset], ignore_index=True)\n",
    "\n",
    "print(f\"Oversampling completed. New dataset size: {df_oversampled.shape}\")\n"
   ]
  },
  {
   "cell_type": "code",
   "execution_count": 14,
   "id": "f774dc75",
   "metadata": {
    "execution": {
     "iopub.execute_input": "2025-03-12T01:10:57.697167Z",
     "iopub.status.busy": "2025-03-12T01:10:57.696920Z",
     "iopub.status.idle": "2025-03-12T01:10:57.906488Z",
     "shell.execute_reply": "2025-03-12T01:10:57.905597Z"
    },
    "papermill": {
     "duration": 0.228045,
     "end_time": "2025-03-12T01:10:57.908510",
     "exception": false,
     "start_time": "2025-03-12T01:10:57.680465",
     "status": "completed"
    },
    "tags": []
   },
   "outputs": [
    {
     "data": {
      "image/png": "[encoded data removed]",
      "text/plain": [
       "<Figure size 800x400 with 1 Axes>"
      ]
     },
     "metadata": {},
     "output_type": "display_data"
    }
   ],
   "source": [
    "# count label\n",
    "\n",
    "int_label = np.arange(0,12)\n",
    "plt.figure(figsize=(8, 4))\n",
    "bars = plt.bar(int_label, df_oversampled.iloc[:, 2:].sum())\n",
    "\n",
    "# Display the count above each bar\n",
    "for bar in bars:\n",
    "    yval = bar.get_height()\n",
    "    plt.text(bar.get_x() + bar.get_width()/2, yval + 0.05, int(yval), ha='center', va='bottom')\n",
    "\n",
    "plt.xticks(int_label)\n",
    "plt.xlabel('Columns Index')\n",
    "plt.ylabel('Number of Records')\n",
    "plt.title('Numbers of records for each label after Oversampling')\n",
    "plt.show()"
   ]
  },
  {
   "cell_type": "code",
   "execution_count": 15,
   "id": "3a7eb944",
   "metadata": {
    "execution": {
     "iopub.execute_input": "2025-03-12T01:10:57.950117Z",
     "iopub.status.busy": "2025-03-12T01:10:57.949844Z",
     "iopub.status.idle": "2025-03-12T01:10:57.953059Z",
     "shell.execute_reply": "2025-03-12T01:10:57.952308Z"
    },
    "papermill": {
     "duration": 0.022721,
     "end_time": "2025-03-12T01:10:57.954267",
     "exception": false,
     "start_time": "2025-03-12T01:10:57.931546",
     "status": "completed"
    },
    "tags": []
   },
   "outputs": [],
   "source": [
    "og_df_train = df_train\n",
    "df_train = df_oversampled"
   ]
  },
  {
   "cell_type": "code",
   "execution_count": 16,
   "id": "e8058339",
   "metadata": {
    "execution": {
     "iopub.execute_input": "2025-03-12T01:10:57.989671Z",
     "iopub.status.busy": "2025-03-12T01:10:57.989438Z",
     "iopub.status.idle": "2025-03-12T01:10:58.002132Z",
     "shell.execute_reply": "2025-03-12T01:10:58.001366Z"
    },
    "id": "Xb3rj_eEEmXN",
    "outputId": "f48b407c-afc4-4194-f3df-b5e82388cad0",
    "papermill": {
     "duration": 0.031618,
     "end_time": "2025-03-12T01:10:58.003500",
     "exception": false,
     "start_time": "2025-03-12T01:10:57.971882",
     "status": "completed"
    },
    "tags": []
   },
   "outputs": [
    {
     "data": {
      "text/html": [
       "<div>\n",
       "<style scoped>\n",
       "    .dataframe tbody tr th:only-of-type {\n",
       "        vertical-align: middle;\n",
       "    }\n",
       "\n",
       "    .dataframe tbody tr th {\n",
       "        vertical-align: top;\n",
       "    }\n",
       "\n",
       "    .dataframe thead th {\n",
       "        text-align: right;\n",
       "    }\n",
       "</style>\n",
       "<table border=\"1\" class=\"dataframe\">\n",
       "  <thead>\n",
       "    <tr style=\"text-align: right;\">\n",
       "      <th></th>\n",
       "      <th>Label</th>\n",
       "      <th>Counts</th>\n",
       "    </tr>\n",
       "  </thead>\n",
       "  <tbody>\n",
       "    <tr>\n",
       "      <th>0</th>\n",
       "      <td>สำนักงานตำรวจแห่งชาติ</td>\n",
       "      <td>49944</td>\n",
       "    </tr>\n",
       "    <tr>\n",
       "      <th>1</th>\n",
       "      <td>การรถไฟฟ้าขนส่งมวลชนแห่งประเทศไทย</td>\n",
       "      <td>5009</td>\n",
       "    </tr>\n",
       "    <tr>\n",
       "      <th>2</th>\n",
       "      <td>สภาเด็กและเยาวชนกรุงเทพมหานคร</td>\n",
       "      <td>5000</td>\n",
       "    </tr>\n",
       "    <tr>\n",
       "      <th>3</th>\n",
       "      <td>กรมควบคุมมลพิษ</td>\n",
       "      <td>5003</td>\n",
       "    </tr>\n",
       "    <tr>\n",
       "      <th>4</th>\n",
       "      <td>กรมสรรพสามิต</td>\n",
       "      <td>5000</td>\n",
       "    </tr>\n",
       "    <tr>\n",
       "      <th>5</th>\n",
       "      <td>การไฟฟ้านครหลวง</td>\n",
       "      <td>34576</td>\n",
       "    </tr>\n",
       "    <tr>\n",
       "      <th>6</th>\n",
       "      <td>กรมทางหลวง</td>\n",
       "      <td>7225</td>\n",
       "    </tr>\n",
       "    <tr>\n",
       "      <th>7</th>\n",
       "      <td>สำนักงานประกันสุขภาพแห่งชาติ</td>\n",
       "      <td>5000</td>\n",
       "    </tr>\n",
       "    <tr>\n",
       "      <th>8</th>\n",
       "      <td>การประปานครหลวง</td>\n",
       "      <td>5065</td>\n",
       "    </tr>\n",
       "    <tr>\n",
       "      <th>9</th>\n",
       "      <td>คณะกรรมการการพัฒนาเศรษฐกิจ</td>\n",
       "      <td>5543</td>\n",
       "    </tr>\n",
       "    <tr>\n",
       "      <th>10</th>\n",
       "      <td>กระทรวงการท่องเที่ยวและกีฬา</td>\n",
       "      <td>5000</td>\n",
       "    </tr>\n",
       "    <tr>\n",
       "      <th>11</th>\n",
       "      <td>สำนักงาน กสทช. ศูนย์รับแจ้งปัญหา 1200</td>\n",
       "      <td>5001</td>\n",
       "    </tr>\n",
       "  </tbody>\n",
       "</table>\n",
       "</div>"
      ],
      "text/plain": [
       "                                    Label  Counts\n",
       "0                   สำนักงานตำรวจแห่งชาติ   49944\n",
       "1       การรถไฟฟ้าขนส่งมวลชนแห่งประเทศไทย    5009\n",
       "2           สภาเด็กและเยาวชนกรุงเทพมหานคร    5000\n",
       "3                          กรมควบคุมมลพิษ    5003\n",
       "4                            กรมสรรพสามิต    5000\n",
       "5                         การไฟฟ้านครหลวง   34576\n",
       "6                              กรมทางหลวง    7225\n",
       "7            สำนักงานประกันสุขภาพแห่งชาติ    5000\n",
       "8                         การประปานครหลวง    5065\n",
       "9              คณะกรรมการการพัฒนาเศรษฐกิจ    5543\n",
       "10            กระทรวงการท่องเที่ยวและกีฬา    5000\n",
       "11  สำนักงาน กสทช. ศูนย์รับแจ้งปัญหา 1200    5001"
      ]
     },
     "execution_count": 16,
     "metadata": {},
     "output_type": "execute_result"
    }
   ],
   "source": [
    "data = []\n",
    "\n",
    "# Loop through columns and collect index, label, and counts\n",
    "for index, column in enumerate(df_train.columns[2:].values):\n",
    "    data.append([column, df_train[column].sum()])\n",
    "\n",
    "# Create a DataFrame\n",
    "df_summary = pd.DataFrame(data, columns=[\"Label\", \"Counts\"])\n",
    "\n",
    "# Print DataFrame in a readable format\n",
    "df_summary"
   ]
  },
  {
   "cell_type": "markdown",
   "id": "9d48c21f",
   "metadata": {
    "id": "BkFnxuxNEmXO",
    "papermill": {
     "duration": 0.016311,
     "end_time": "2025-03-12T01:10:58.036452",
     "exception": false,
     "start_time": "2025-03-12T01:10:58.020141",
     "status": "completed"
    },
    "tags": []
   },
   "source": [
    "## Create new dataset with `comment` and `label` of list of ones and zeros of classes"
   ]
  },
  {
   "cell_type": "code",
   "execution_count": 17,
   "id": "a44c2b56",
   "metadata": {
    "execution": {
     "iopub.execute_input": "2025-03-12T01:10:58.070326Z",
     "iopub.status.busy": "2025-03-12T01:10:58.070069Z",
     "iopub.status.idle": "2025-03-12T01:10:58.558646Z",
     "shell.execute_reply": "2025-03-12T01:10:58.557741Z"
    },
    "papermill": {
     "duration": 0.507091,
     "end_time": "2025-03-12T01:10:58.560000",
     "exception": false,
     "start_time": "2025-03-12T01:10:58.052909",
     "status": "completed"
    },
    "tags": []
   },
   "outputs": [
    {
     "data": {
      "text/html": [
       "<div>\n",
       "<style scoped>\n",
       "    .dataframe tbody tr th:only-of-type {\n",
       "        vertical-align: middle;\n",
       "    }\n",
       "\n",
       "    .dataframe tbody tr th {\n",
       "        vertical-align: top;\n",
       "    }\n",
       "\n",
       "    .dataframe thead th {\n",
       "        text-align: right;\n",
       "    }\n",
       "</style>\n",
       "<table border=\"1\" class=\"dataframe\">\n",
       "  <thead>\n",
       "    <tr style=\"text-align: right;\">\n",
       "      <th></th>\n",
       "      <th>id</th>\n",
       "      <th>comment</th>\n",
       "      <th>label</th>\n",
       "    </tr>\n",
       "  </thead>\n",
       "  <tbody>\n",
       "    <tr>\n",
       "      <th>0</th>\n",
       "      <td>0</td>\n",
       "      <td>บริเวณนราธิวาส  แยกถนนจันทน์ ใกล้สวนสาธารณะช่อ...</td>\n",
       "      <td>[0, 0, 0, 0, 0, 0, 0, 0, 0, 0, 0, 0]</td>\n",
       "    </tr>\n",
       "    <tr>\n",
       "      <th>1</th>\n",
       "      <td>1</td>\n",
       "      <td>บริเวณสะพานสามถนนจันทน์ เป็นจุดเปลี่ยนถ่ายสองแ...</td>\n",
       "      <td>[0, 0, 0, 0, 0, 0, 0, 0, 0, 0, 0, 0]</td>\n",
       "    </tr>\n",
       "    <tr>\n",
       "      <th>2</th>\n",
       "      <td>2</td>\n",
       "      <td>เรื่องทางม้าลายหายไป บริเวณสี่แยกถนนจันทร์-เซน...</td>\n",
       "      <td>[0, 0, 0, 0, 0, 0, 0, 0, 0, 0, 0, 0]</td>\n",
       "    </tr>\n",
       "    <tr>\n",
       "      <th>3</th>\n",
       "      <td>3</td>\n",
       "      <td>ปัญหาน้ำท่วมในซอยสวนพลู 1</td>\n",
       "      <td>[0, 0, 0, 0, 0, 0, 0, 0, 0, 0, 0, 0]</td>\n",
       "    </tr>\n",
       "    <tr>\n",
       "      <th>4</th>\n",
       "      <td>4</td>\n",
       "      <td>1. ซ่อมสายไฟ กรีดขวางทางเท้า</td>\n",
       "      <td>[0, 0, 0, 0, 0, 0, 0, 0, 0, 0, 0, 0]</td>\n",
       "    </tr>\n",
       "  </tbody>\n",
       "</table>\n",
       "</div>"
      ],
      "text/plain": [
       "   id                                            comment  \\\n",
       "0   0  บริเวณนราธิวาส  แยกถนนจันทน์ ใกล้สวนสาธารณะช่อ...   \n",
       "1   1  บริเวณสะพานสามถนนจันทน์ เป็นจุดเปลี่ยนถ่ายสองแ...   \n",
       "2   2  เรื่องทางม้าลายหายไป บริเวณสี่แยกถนนจันทร์-เซน...   \n",
       "3   3                          ปัญหาน้ำท่วมในซอยสวนพลู 1   \n",
       "4   4                       1. ซ่อมสายไฟ กรีดขวางทางเท้า   \n",
       "\n",
       "                                  label  \n",
       "0  [0, 0, 0, 0, 0, 0, 0, 0, 0, 0, 0, 0]  \n",
       "1  [0, 0, 0, 0, 0, 0, 0, 0, 0, 0, 0, 0]  \n",
       "2  [0, 0, 0, 0, 0, 0, 0, 0, 0, 0, 0, 0]  \n",
       "3  [0, 0, 0, 0, 0, 0, 0, 0, 0, 0, 0, 0]  \n",
       "4  [0, 0, 0, 0, 0, 0, 0, 0, 0, 0, 0, 0]  "
      ]
     },
     "execution_count": 17,
     "metadata": {},
     "output_type": "execute_result"
    }
   ],
   "source": [
    "df_train['label'] = df_train.iloc[:, 2:14].values.tolist()\n",
    "df_train.drop(df_train.columns[2:14], axis=1, inplace=True)\n",
    "df_train.head()\n"
   ]
  },
  {
   "cell_type": "code",
   "execution_count": 18,
   "id": "466a3246",
   "metadata": {
    "execution": {
     "iopub.execute_input": "2025-03-12T01:10:58.606032Z",
     "iopub.status.busy": "2025-03-12T01:10:58.605562Z",
     "iopub.status.idle": "2025-03-12T01:10:58.833872Z",
     "shell.execute_reply": "2025-03-12T01:10:58.833215Z"
    },
    "id": "_3vykqGBEmXP",
    "outputId": "d32f90ba-9b60-4071-d874-62f8d714b031",
    "papermill": {
     "duration": 0.257583,
     "end_time": "2025-03-12T01:10:58.835274",
     "exception": false,
     "start_time": "2025-03-12T01:10:58.577691",
     "status": "completed"
    },
    "tags": []
   },
   "outputs": [
    {
     "data": {
      "text/html": [
       "<div>\n",
       "<style scoped>\n",
       "    .dataframe tbody tr th:only-of-type {\n",
       "        vertical-align: middle;\n",
       "    }\n",
       "\n",
       "    .dataframe tbody tr th {\n",
       "        vertical-align: top;\n",
       "    }\n",
       "\n",
       "    .dataframe thead th {\n",
       "        text-align: right;\n",
       "    }\n",
       "</style>\n",
       "<table border=\"1\" class=\"dataframe\">\n",
       "  <thead>\n",
       "    <tr style=\"text-align: right;\">\n",
       "      <th></th>\n",
       "      <th>label_tuple</th>\n",
       "      <th>comment</th>\n",
       "    </tr>\n",
       "  </thead>\n",
       "  <tbody>\n",
       "    <tr>\n",
       "      <th>0</th>\n",
       "      <td>(0, 0, 0, 0, 0, 0, 0, 0, 0, 0, 0, 0)</td>\n",
       "      <td>102333</td>\n",
       "    </tr>\n",
       "    <tr>\n",
       "      <th>1</th>\n",
       "      <td>(1, 0, 0, 0, 0, 0, 0, 0, 0, 0, 0, 0)</td>\n",
       "      <td>42212</td>\n",
       "    </tr>\n",
       "    <tr>\n",
       "      <th>2</th>\n",
       "      <td>(0, 0, 0, 0, 0, 1, 0, 0, 0, 0, 0, 0)</td>\n",
       "      <td>32543</td>\n",
       "    </tr>\n",
       "    <tr>\n",
       "      <th>3</th>\n",
       "      <td>(0, 0, 0, 0, 0, 0, 1, 0, 0, 0, 0, 0)</td>\n",
       "      <td>5803</td>\n",
       "    </tr>\n",
       "    <tr>\n",
       "      <th>4</th>\n",
       "      <td>(0, 0, 0, 0, 0, 0, 0, 0, 0, 1, 0, 0)</td>\n",
       "      <td>4807</td>\n",
       "    </tr>\n",
       "    <tr>\n",
       "      <th>...</th>\n",
       "      <td>...</td>\n",
       "      <td>...</td>\n",
       "    </tr>\n",
       "    <tr>\n",
       "      <th>68</th>\n",
       "      <td>(1, 0, 0, 0, 0, 0, 1, 0, 0, 0, 0, 1)</td>\n",
       "      <td>1</td>\n",
       "    </tr>\n",
       "    <tr>\n",
       "      <th>69</th>\n",
       "      <td>(1, 0, 0, 0, 0, 1, 0, 0, 0, 0, 0, 1)</td>\n",
       "      <td>1</td>\n",
       "    </tr>\n",
       "    <tr>\n",
       "      <th>70</th>\n",
       "      <td>(1, 0, 0, 0, 0, 1, 0, 0, 0, 1, 0, 0)</td>\n",
       "      <td>1</td>\n",
       "    </tr>\n",
       "    <tr>\n",
       "      <th>71</th>\n",
       "      <td>(1, 0, 0, 0, 0, 1, 1, 0, 0, 0, 0, 0)</td>\n",
       "      <td>1</td>\n",
       "    </tr>\n",
       "    <tr>\n",
       "      <th>72</th>\n",
       "      <td>(1, 1, 0, 0, 0, 1, 1, 0, 0, 0, 0, 0)</td>\n",
       "      <td>1</td>\n",
       "    </tr>\n",
       "  </tbody>\n",
       "</table>\n",
       "<p>73 rows × 2 columns</p>\n",
       "</div>"
      ],
      "text/plain": [
       "                             label_tuple  comment\n",
       "0   (0, 0, 0, 0, 0, 0, 0, 0, 0, 0, 0, 0)   102333\n",
       "1   (1, 0, 0, 0, 0, 0, 0, 0, 0, 0, 0, 0)    42212\n",
       "2   (0, 0, 0, 0, 0, 1, 0, 0, 0, 0, 0, 0)    32543\n",
       "3   (0, 0, 0, 0, 0, 0, 1, 0, 0, 0, 0, 0)     5803\n",
       "4   (0, 0, 0, 0, 0, 0, 0, 0, 0, 1, 0, 0)     4807\n",
       "..                                   ...      ...\n",
       "68  (1, 0, 0, 0, 0, 0, 1, 0, 0, 0, 0, 1)        1\n",
       "69  (1, 0, 0, 0, 0, 1, 0, 0, 0, 0, 0, 1)        1\n",
       "70  (1, 0, 0, 0, 0, 1, 0, 0, 0, 1, 0, 0)        1\n",
       "71  (1, 0, 0, 0, 0, 1, 1, 0, 0, 0, 0, 0)        1\n",
       "72  (1, 1, 0, 0, 0, 1, 1, 0, 0, 0, 0, 0)        1\n",
       "\n",
       "[73 rows x 2 columns]"
      ]
     },
     "metadata": {},
     "output_type": "display_data"
    }
   ],
   "source": [
    "# Convert the lists in the 'label' column to tuples\n",
    "df_train['label_tuple'] = df_train['label'].apply(tuple)\n",
    "\n",
    "# Group by the new 'label_tuple' column\n",
    "class_count = df_train.groupby(['label_tuple'])['comment'].count().sort_values(ascending=False).reset_index()\n",
    "display(class_count)\n",
    "df_train.drop(columns=['label_tuple'], inplace=True)"
   ]
  },
  {
   "cell_type": "markdown",
   "id": "b0446bfc",
   "metadata": {
    "papermill": {
     "duration": 0.016738,
     "end_time": "2025-03-12T01:10:58.870201",
     "exception": false,
     "start_time": "2025-03-12T01:10:58.853463",
     "status": "completed"
    },
    "tags": []
   },
   "source": [
    "## Undersampling Overrepresented Data"
   ]
  },
  {
   "cell_type": "code",
   "execution_count": 19,
   "id": "5804bfcb",
   "metadata": {
    "execution": {
     "iopub.execute_input": "2025-03-12T01:10:58.904991Z",
     "iopub.status.busy": "2025-03-12T01:10:58.904730Z",
     "iopub.status.idle": "2025-03-12T01:10:59.368238Z",
     "shell.execute_reply": "2025-03-12T01:10:59.367236Z"
    },
    "papermill": {
     "duration": 0.482374,
     "end_time": "2025-03-12T01:10:59.369504",
     "exception": false,
     "start_time": "2025-03-12T01:10:58.887130",
     "status": "completed"
    },
    "tags": []
   },
   "outputs": [
    {
     "name": "stderr",
     "output_type": "stream",
     "text": [
      "<ipython-input-19-45db1a998301>:19: DeprecationWarning: DataFrameGroupBy.apply operated on the grouping columns. This behavior is deprecated, and in a future version of pandas the grouping columns will be excluded from the operation. Either pass `include_groups=False` to exclude the groupings or explicitly select the grouping columns after groupby to silence this warning.\n",
      "  df_downsampled = df_oversampled.groupby('label_tuple', group_keys=False).apply(downsample_group)\n"
     ]
    },
    {
     "data": {
      "text/html": [
       "<div>\n",
       "<style scoped>\n",
       "    .dataframe tbody tr th:only-of-type {\n",
       "        vertical-align: middle;\n",
       "    }\n",
       "\n",
       "    .dataframe tbody tr th {\n",
       "        vertical-align: top;\n",
       "    }\n",
       "\n",
       "    .dataframe thead th {\n",
       "        text-align: right;\n",
       "    }\n",
       "</style>\n",
       "<table border=\"1\" class=\"dataframe\">\n",
       "  <thead>\n",
       "    <tr style=\"text-align: right;\">\n",
       "      <th></th>\n",
       "      <th>label</th>\n",
       "      <th>comment</th>\n",
       "    </tr>\n",
       "  </thead>\n",
       "  <tbody>\n",
       "    <tr>\n",
       "      <th>0</th>\n",
       "      <td>(0, 0, 0, 0, 0, 0, 0, 0, 0, 0, 0, 0)</td>\n",
       "      <td>102333</td>\n",
       "    </tr>\n",
       "    <tr>\n",
       "      <th>1</th>\n",
       "      <td>(1, 0, 0, 0, 0, 0, 0, 0, 0, 0, 0, 0)</td>\n",
       "      <td>42212</td>\n",
       "    </tr>\n",
       "    <tr>\n",
       "      <th>2</th>\n",
       "      <td>(0, 0, 0, 0, 0, 1, 0, 0, 0, 0, 0, 0)</td>\n",
       "      <td>32543</td>\n",
       "    </tr>\n",
       "    <tr>\n",
       "      <th>3</th>\n",
       "      <td>(0, 0, 0, 0, 0, 0, 1, 0, 0, 0, 0, 0)</td>\n",
       "      <td>5803</td>\n",
       "    </tr>\n",
       "    <tr>\n",
       "      <th>4</th>\n",
       "      <td>(0, 0, 0, 0, 0, 0, 0, 0, 0, 1, 0, 0)</td>\n",
       "      <td>4807</td>\n",
       "    </tr>\n",
       "    <tr>\n",
       "      <th>...</th>\n",
       "      <td>...</td>\n",
       "      <td>...</td>\n",
       "    </tr>\n",
       "    <tr>\n",
       "      <th>68</th>\n",
       "      <td>(1, 0, 0, 0, 0, 0, 1, 0, 0, 0, 0, 1)</td>\n",
       "      <td>1</td>\n",
       "    </tr>\n",
       "    <tr>\n",
       "      <th>69</th>\n",
       "      <td>(1, 0, 0, 0, 0, 1, 0, 0, 0, 0, 0, 1)</td>\n",
       "      <td>1</td>\n",
       "    </tr>\n",
       "    <tr>\n",
       "      <th>70</th>\n",
       "      <td>(1, 0, 0, 0, 0, 1, 0, 0, 0, 1, 0, 0)</td>\n",
       "      <td>1</td>\n",
       "    </tr>\n",
       "    <tr>\n",
       "      <th>71</th>\n",
       "      <td>(1, 0, 0, 0, 0, 1, 1, 0, 0, 0, 0, 0)</td>\n",
       "      <td>1</td>\n",
       "    </tr>\n",
       "    <tr>\n",
       "      <th>72</th>\n",
       "      <td>(1, 1, 0, 0, 0, 1, 1, 0, 0, 0, 0, 0)</td>\n",
       "      <td>1</td>\n",
       "    </tr>\n",
       "  </tbody>\n",
       "</table>\n",
       "<p>73 rows × 2 columns</p>\n",
       "</div>"
      ],
      "text/plain": [
       "                                   label  comment\n",
       "0   (0, 0, 0, 0, 0, 0, 0, 0, 0, 0, 0, 0)   102333\n",
       "1   (1, 0, 0, 0, 0, 0, 0, 0, 0, 0, 0, 0)    42212\n",
       "2   (0, 0, 0, 0, 0, 1, 0, 0, 0, 0, 0, 0)    32543\n",
       "3   (0, 0, 0, 0, 0, 0, 1, 0, 0, 0, 0, 0)     5803\n",
       "4   (0, 0, 0, 0, 0, 0, 0, 0, 0, 1, 0, 0)     4807\n",
       "..                                   ...      ...\n",
       "68  (1, 0, 0, 0, 0, 0, 1, 0, 0, 0, 0, 1)        1\n",
       "69  (1, 0, 0, 0, 0, 1, 0, 0, 0, 0, 0, 1)        1\n",
       "70  (1, 0, 0, 0, 0, 1, 0, 0, 0, 1, 0, 0)        1\n",
       "71  (1, 0, 0, 0, 0, 1, 1, 0, 0, 0, 0, 0)        1\n",
       "72  (1, 1, 0, 0, 0, 1, 1, 0, 0, 0, 0, 0)        1\n",
       "\n",
       "[73 rows x 2 columns]"
      ]
     },
     "metadata": {},
     "output_type": "display_data"
    }
   ],
   "source": [
    "\n",
    "# Convert lists to tuples in the label column\n",
    "df_oversampled['label_tuple'] = df_oversampled['label'].apply(tuple)\n",
    "\n",
    "# Count occurrences of each label\n",
    "class_count = df_oversampled.groupby('label_tuple')['comment'].count().reset_index()\n",
    "\n",
    "# Identify labels with counts above threshold\n",
    "labels_to_downsample = class_count[class_count['comment'] > undersampling_theshold]['label_tuple']\n",
    "\n",
    "# Function to downsample\n",
    "def downsample_group(group):\n",
    "    count = len(group)\n",
    "    if count > undersampling_theshold:\n",
    "        keep_ratio = min(1.0, a * (count ** b))\n",
    "        return group.sample(frac=keep_ratio, random_state=RANDOM_STATE) \n",
    "    return group \n",
    "\n",
    "# Apply downsampling\n",
    "df_downsampled = df_oversampled.groupby('label_tuple', group_keys=False).apply(downsample_group)\n",
    "\n",
    "# Drop temporary column\n",
    "df_downsampled.drop(columns=['label_tuple'], inplace=True)\n",
    "\n",
    "# Display new class count\n",
    "new_class_count = df_downsampled.groupby(df_downsampled['label'].apply(tuple))['comment'].count().sort_values(ascending=False).reset_index()\n",
    "display(new_class_count)\n"
   ]
  },
  {
   "cell_type": "code",
   "execution_count": 20,
   "id": "5c500714",
   "metadata": {
    "execution": {
     "iopub.execute_input": "2025-03-12T01:10:59.405876Z",
     "iopub.status.busy": "2025-03-12T01:10:59.405616Z",
     "iopub.status.idle": "2025-03-12T01:10:59.413911Z",
     "shell.execute_reply": "2025-03-12T01:10:59.413180Z"
    },
    "papermill": {
     "duration": 0.0272,
     "end_time": "2025-03-12T01:10:59.415146",
     "exception": false,
     "start_time": "2025-03-12T01:10:59.387946",
     "status": "completed"
    },
    "tags": []
   },
   "outputs": [
    {
     "data": {
      "text/html": [
       "<div>\n",
       "<style scoped>\n",
       "    .dataframe tbody tr th:only-of-type {\n",
       "        vertical-align: middle;\n",
       "    }\n",
       "\n",
       "    .dataframe tbody tr th {\n",
       "        vertical-align: top;\n",
       "    }\n",
       "\n",
       "    .dataframe thead th {\n",
       "        text-align: right;\n",
       "    }\n",
       "</style>\n",
       "<table border=\"1\" class=\"dataframe\">\n",
       "  <thead>\n",
       "    <tr style=\"text-align: right;\">\n",
       "      <th></th>\n",
       "      <th>id</th>\n",
       "      <th>comment</th>\n",
       "      <th>label</th>\n",
       "    </tr>\n",
       "  </thead>\n",
       "  <tbody>\n",
       "    <tr>\n",
       "      <th>0</th>\n",
       "      <td>0</td>\n",
       "      <td>บริเวณนราธิวาส  แยกถนนจันทน์ ใกล้สวนสาธารณะช่อ...</td>\n",
       "      <td>[0, 0, 0, 0, 0, 0, 0, 0, 0, 0, 0, 0]</td>\n",
       "    </tr>\n",
       "    <tr>\n",
       "      <th>1</th>\n",
       "      <td>1</td>\n",
       "      <td>บริเวณสะพานสามถนนจันทน์ เป็นจุดเปลี่ยนถ่ายสองแ...</td>\n",
       "      <td>[0, 0, 0, 0, 0, 0, 0, 0, 0, 0, 0, 0]</td>\n",
       "    </tr>\n",
       "    <tr>\n",
       "      <th>2</th>\n",
       "      <td>2</td>\n",
       "      <td>เรื่องทางม้าลายหายไป บริเวณสี่แยกถนนจันทร์-เซน...</td>\n",
       "      <td>[0, 0, 0, 0, 0, 0, 0, 0, 0, 0, 0, 0]</td>\n",
       "    </tr>\n",
       "    <tr>\n",
       "      <th>3</th>\n",
       "      <td>3</td>\n",
       "      <td>ปัญหาน้ำท่วมในซอยสวนพลู 1</td>\n",
       "      <td>[0, 0, 0, 0, 0, 0, 0, 0, 0, 0, 0, 0]</td>\n",
       "    </tr>\n",
       "    <tr>\n",
       "      <th>4</th>\n",
       "      <td>4</td>\n",
       "      <td>1. ซ่อมสายไฟ กรีดขวางทางเท้า</td>\n",
       "      <td>[0, 0, 0, 0, 0, 0, 0, 0, 0, 0, 0, 0]</td>\n",
       "    </tr>\n",
       "  </tbody>\n",
       "</table>\n",
       "</div>"
      ],
      "text/plain": [
       "   id                                            comment  \\\n",
       "0   0  บริเวณนราธิวาส  แยกถนนจันทน์ ใกล้สวนสาธารณะช่อ...   \n",
       "1   1  บริเวณสะพานสามถนนจันทน์ เป็นจุดเปลี่ยนถ่ายสองแ...   \n",
       "2   2  เรื่องทางม้าลายหายไป บริเวณสี่แยกถนนจันทร์-เซน...   \n",
       "3   3                          ปัญหาน้ำท่วมในซอยสวนพลู 1   \n",
       "4   4                       1. ซ่อมสายไฟ กรีดขวางทางเท้า   \n",
       "\n",
       "                                  label  \n",
       "0  [0, 0, 0, 0, 0, 0, 0, 0, 0, 0, 0, 0]  \n",
       "1  [0, 0, 0, 0, 0, 0, 0, 0, 0, 0, 0, 0]  \n",
       "2  [0, 0, 0, 0, 0, 0, 0, 0, 0, 0, 0, 0]  \n",
       "3  [0, 0, 0, 0, 0, 0, 0, 0, 0, 0, 0, 0]  \n",
       "4  [0, 0, 0, 0, 0, 0, 0, 0, 0, 0, 0, 0]  "
      ]
     },
     "execution_count": 20,
     "metadata": {},
     "output_type": "execute_result"
    }
   ],
   "source": [
    "df_downsampled.head()"
   ]
  },
  {
   "cell_type": "code",
   "execution_count": 21,
   "id": "a3f0a67e",
   "metadata": {
    "execution": {
     "iopub.execute_input": "2025-03-12T01:10:59.451798Z",
     "iopub.status.busy": "2025-03-12T01:10:59.451592Z",
     "iopub.status.idle": "2025-03-12T01:10:59.475967Z",
     "shell.execute_reply": "2025-03-12T01:10:59.475280Z"
    },
    "papermill": {
     "duration": 0.043557,
     "end_time": "2025-03-12T01:10:59.477502",
     "exception": false,
     "start_time": "2025-03-12T01:10:59.433945",
     "status": "completed"
    },
    "tags": []
   },
   "outputs": [],
   "source": [
    "df_train = df_downsampled.copy()"
   ]
  },
  {
   "cell_type": "code",
   "execution_count": 22,
   "id": "b3f96605",
   "metadata": {
    "execution": {
     "iopub.execute_input": "2025-03-12T01:10:59.513687Z",
     "iopub.status.busy": "2025-03-12T01:10:59.513441Z",
     "iopub.status.idle": "2025-03-12T01:10:59.545832Z",
     "shell.execute_reply": "2025-03-12T01:10:59.544741Z"
    },
    "id": "LpH0l5QTEmXQ",
    "outputId": "8c8c08ea-c07a-43c0-88b4-99d582924df0",
    "papermill": {
     "duration": 0.051752,
     "end_time": "2025-03-12T01:10:59.547165",
     "exception": false,
     "start_time": "2025-03-12T01:10:59.495413",
     "status": "completed"
    },
    "tags": []
   },
   "outputs": [
    {
     "name": "stdout",
     "output_type": "stream",
     "text": [
      "record id 18618\n",
      "สะเก็ดไฟจากการก่อสร้างรถไฟฟ้าตกลงมาข้างล่างที่ถนน ตรงสี่แยกลาดพร้าวรัชดาครับ\n",
      "[0, 1, 0, 0, 0, 0, 0, 0, 0, 0, 0, 0]\n",
      "----------------------------------------------------------------------------------------------------\n",
      "record id 105535\n",
      "ปัญหา: ขอร้องเรียนพฤติกรรมเจ้าหน้าที่เก็บขยะ เมื่อวันที่ 1 ตุลาคม 2566 เวลา 12.00 น. รถขยะได้เข้ามาเก็บขยะ แต่ได้ทำพฤติกรรมไม่เหมาะสม มีการคัดแยกขยะ บีบน้ำขยะ และมีการล้างตัว ทำให้ส่งกลิ่นเหม็นรบกวน\n",
      "ซอย: ลาดพร้าววังหิน 64\n",
      "ถนน: ลาดพร้าว\n",
      "จุดสังเกต: บริเวณท้ายซอยดังกล่าว\n",
      "เขต: ลาดพร้าว\r\n",
      "#1555\n",
      "[0, 0, 0, 0, 0, 0, 0, 0, 0, 0, 0, 0]\n",
      "----------------------------------------------------------------------------------------------------\n",
      "record id 177882\n",
      "(แจ้งครั้งที่ 5(1)/2567) ผมต้องสัญจรผ่านตลาดบางแคทุกวันแล้วก็เห็นเป็นประจำแบบนี้ทุกวันเคยแจ้งเรื่องไปหลายครั้งแล้วก็ไม่ได้พัฒนาขึ้นเลยอยากให้มีตำรวจที่ปฏิบัติหน้าที่จริงๆจังจัง การจราจรติดขัดมาก รถมอเตอร์ไซต์, สามล้อและรถแท็กซี่จอดกีดขวางการจราจรทำให้ รถสัญจรไปมาไม่สะดวกตลอดเวลา\n",
      "[1, 0, 0, 0, 0, 0, 0, 0, 0, 0, 0, 0]\n",
      "----------------------------------------------------------------------------------------------------\n",
      "record id 24962\n",
      "น้ำท่วมเยอะเลย ที่หมู่บ้านเมืองทอง 2/2 ซอยพัฒนาการ 61\n",
      "[0, 0, 0, 0, 0, 0, 0, 0, 0, 0, 0, 0]\n",
      "----------------------------------------------------------------------------------------------------\n",
      "record id 180846\n",
      "วินมอเตอร์ไซค์อยู่ใต้ความดูแลของกรุงเทพ การผ่าไฟแดงและมีผู้โดยสารไปด้วยไม่ควรเกิดขึ้น\n",
      "[1, 0, 0, 0, 0, 0, 0, 0, 0, 0, 0, 0]\n",
      "----------------------------------------------------------------------------------------------------\n"
     ]
    }
   ],
   "source": [
    "sample_df = df_train.sample(frac=1)\n",
    "\n",
    "for record in sample_df.iloc[:5].values:\n",
    "    print(\"record id\",record[0])\n",
    "    print(record[1])\n",
    "    print(record[2])\n",
    "    print(\"-\" * 100)"
   ]
  },
  {
   "cell_type": "markdown",
   "id": "4af6cb09",
   "metadata": {
    "id": "NkE6B30SEmXR",
    "papermill": {
     "duration": 0.017246,
     "end_time": "2025-03-12T01:10:59.582360",
     "exception": false,
     "start_time": "2025-03-12T01:10:59.565114",
     "status": "completed"
    },
    "tags": []
   },
   "source": [
    "## Clean comment data\n",
    "\n",
    "ref: https://www.analyticsvidhya.com/blog/2022/01/text-cleaning-methods-in-nlp/"
   ]
  },
  {
   "cell_type": "code",
   "execution_count": 23,
   "id": "96f9750f",
   "metadata": {
    "execution": {
     "iopub.execute_input": "2025-03-12T01:10:59.617877Z",
     "iopub.status.busy": "2025-03-12T01:10:59.617625Z",
     "iopub.status.idle": "2025-03-12T01:10:59.621377Z",
     "shell.execute_reply": "2025-03-12T01:10:59.620699Z"
    },
    "papermill": {
     "duration": 0.022928,
     "end_time": "2025-03-12T01:10:59.622528",
     "exception": false,
     "start_time": "2025-03-12T01:10:59.599600",
     "status": "completed"
    },
    "tags": []
   },
   "outputs": [],
   "source": [
    "unimportant_words = ['ครับ', 'ค่ะ', 'คะ', 'สวัสดี', 'ผม', 'ๆ' ,'สิ', 'นะ']\n",
    "\n",
    "def remove_unimportant_words(text):\n",
    "    for word in unimportant_words:\n",
    "        text = text.replace(word, '')\n",
    "    return text"
   ]
  },
  {
   "cell_type": "code",
   "execution_count": 24,
   "id": "d867ce24",
   "metadata": {
    "execution": {
     "iopub.execute_input": "2025-03-12T01:10:59.657997Z",
     "iopub.status.busy": "2025-03-12T01:10:59.657786Z",
     "iopub.status.idle": "2025-03-12T01:10:59.661379Z",
     "shell.execute_reply": "2025-03-12T01:10:59.660572Z"
    },
    "id": "pnPyMAG5EmXR",
    "papermill": {
     "duration": 0.02245,
     "end_time": "2025-03-12T01:10:59.662699",
     "exception": false,
     "start_time": "2025-03-12T01:10:59.640249",
     "status": "completed"
    },
    "tags": []
   },
   "outputs": [],
   "source": [
    "def remove_emoji(string):\n",
    "    emoji_pattern = re.compile(\"[\"\n",
    "                           \"\\U0001F600-\\U0001F64F\"  # emoticons\n",
    "                           \"\\U0001F300-\\U0001F5FF\"  # symbols & pictographs\n",
    "                           \"\\U0001F680-\\U0001F6FF\"  # transport & map symbols\n",
    "                           \"\\U0001F1E0-\\U0001F1FF\"  # flags (iOS)\n",
    "                           \"\\U00002702-\\U000027B0\"\n",
    "                           \"\\U000024C2-\\U0001F251\"\n",
    "                           \"]+\", flags=re.UNICODE)\n",
    "    return emoji_pattern.sub(r'', string)"
   ]
  },
  {
   "cell_type": "code",
   "execution_count": 25,
   "id": "235e46cf",
   "metadata": {
    "execution": {
     "iopub.execute_input": "2025-03-12T01:10:59.698173Z",
     "iopub.status.busy": "2025-03-12T01:10:59.697961Z",
     "iopub.status.idle": "2025-03-12T01:10:59.702391Z",
     "shell.execute_reply": "2025-03-12T01:10:59.701738Z"
    },
    "papermill": {
     "duration": 0.023294,
     "end_time": "2025-03-12T01:10:59.703535",
     "exception": false,
     "start_time": "2025-03-12T01:10:59.680241",
     "status": "completed"
    },
    "tags": []
   },
   "outputs": [],
   "source": [
    "# Remove leading/trailing whitespaces and internal multiple spaces\n",
    "def clean_text(text):\n",
    "    text = text.str.lower()\n",
    "    text = text.str.strip() # remove leading/trailing whitespaces\n",
    "    text = text.str.replace(r'http\\S+', 'u', regex=True) # replace URLs with 'u'\n",
    "    text = text.str.replace(\"\\n\", \" \", regex=False)\n",
    "    text = text.str.replace(r'\\b\\d+\\.\\s*', '', regex=True) # remove index numbers\n",
    "    text = text.str.replace(r'[^\\w\\s\\u0E01-\\u0E5B]', '', regex=True)\n",
    "    text = text.str.replace(r'\\s+\\d+\\s+', ' n ', regex=True) # replace all numbers with 'n'\n",
    "    text = text.str.replace(r'\\s+', ' ', regex=True) # remove multiple spaces\n",
    "    text = text.apply(remove_emoji) # remove emojis\n",
    "    text = text.apply(remove_unimportant_words) # remove unimportant words\n",
    "    return text"
   ]
  },
  {
   "cell_type": "code",
   "execution_count": 26,
   "id": "2f9f7afe",
   "metadata": {
    "execution": {
     "iopub.execute_input": "2025-03-12T01:10:59.738952Z",
     "iopub.status.busy": "2025-03-12T01:10:59.738750Z",
     "iopub.status.idle": "2025-03-12T01:10:59.747988Z",
     "shell.execute_reply": "2025-03-12T01:10:59.747296Z"
    },
    "id": "6vTkd6nSEmXS",
    "outputId": "14be2925-4cd9-4932-a59d-a5601e15f664",
    "papermill": {
     "duration": 0.028094,
     "end_time": "2025-03-12T01:10:59.749071",
     "exception": false,
     "start_time": "2025-03-12T01:10:59.720977",
     "status": "completed"
    },
    "tags": []
   },
   "outputs": [
    {
     "name": "stdout",
     "output_type": "stream",
     "text": [
      "ี แจ้งไฟถนนดับ หมายเลขเสาไฟ l n ส่งต่อ กรมทางหลวง ตอม่อ n ถประเสริฐมนูกิจ ขอขอบคุณ เจ้าหน้าที่ทุกท่าน ในการจัดการปัญหานี้\n"
     ]
    }
   ],
   "source": [
    "text = \"\"\"\n",
    "ี📣💡🛣️ แจ้งไฟถนนดับ\n",
    "*️⃣หมายเลขเสาไฟ  L 5/30\n",
    "👉 ส่งต่อ กรมทางหลวง\n",
    "📌ตอม่อ 181\n",
    "🛣️ ถ.ประเสริฐมนูกิจ\n",
    "🙏👩‍🔧 ขอขอบคุณ เจ้าหน้าที่ทุกท่าน\n",
    "ในการจัดการปัญหานี้\n",
    "\"\"\"\n",
    "print(clean_text(pd.Series(text).astype(str))[0][:300])"
   ]
  },
  {
   "cell_type": "code",
   "execution_count": 27,
   "id": "741f1e3f",
   "metadata": {
    "execution": {
     "iopub.execute_input": "2025-03-12T01:10:59.784576Z",
     "iopub.status.busy": "2025-03-12T01:10:59.784368Z",
     "iopub.status.idle": "2025-03-12T01:10:59.830959Z",
     "shell.execute_reply": "2025-03-12T01:10:59.830138Z"
    },
    "id": "FyUzDwjeEmXS",
    "outputId": "5d085069-57be-429c-8c50-f1c9ae3c035e",
    "papermill": {
     "duration": 0.065863,
     "end_time": "2025-03-12T01:10:59.832308",
     "exception": false,
     "start_time": "2025-03-12T01:10:59.766445",
     "status": "completed"
    },
    "tags": []
   },
   "outputs": [
    {
     "data": {
      "text/html": [
       "<div>\n",
       "<style scoped>\n",
       "    .dataframe tbody tr th:only-of-type {\n",
       "        vertical-align: middle;\n",
       "    }\n",
       "\n",
       "    .dataframe tbody tr th {\n",
       "        vertical-align: top;\n",
       "    }\n",
       "\n",
       "    .dataframe thead th {\n",
       "        text-align: right;\n",
       "    }\n",
       "</style>\n",
       "<table border=\"1\" class=\"dataframe\">\n",
       "  <thead>\n",
       "    <tr style=\"text-align: right;\">\n",
       "      <th></th>\n",
       "      <th>comment</th>\n",
       "      <th>clean_comment</th>\n",
       "    </tr>\n",
       "  </thead>\n",
       "  <tbody>\n",
       "    <tr>\n",
       "      <th>190761</th>\n",
       "      <td>รบกวนเจ้าหน้าที่เทศกิจตัดนั้นค้าขายแผงลอย มาลั...</td>\n",
       "      <td>รบกวนเจ้าหน้าที่เทศกิจตัดนั้นค้าขายแผงลอย มาลั...</td>\n",
       "    </tr>\n",
       "    <tr>\n",
       "      <th>118781</th>\n",
       "      <td>ช่างซ่อมฟุตบาต ทางเท้า ในเวลา 23:00 ถึง ตี 4  ...</td>\n",
       "      <td>ช่างซ่อมฟุตบาต ทางเท้า ในเวลา n ถึง ตี n ใกล้แ...</td>\n",
       "    </tr>\n",
       "    <tr>\n",
       "      <th>215395</th>\n",
       "      <td>ขออนุญาตใช้รูปเดิม เพราะปัญหายังไม่ได้แก้ไขแต่...</td>\n",
       "      <td>ขออนุญาตใช้รูปเดิม เพราะปัญหายังไม่ได้แก้ไขแต่...</td>\n",
       "    </tr>\n",
       "    <tr>\n",
       "      <th>220265</th>\n",
       "      <td>ศูนย์เรื่องราวร้องทุกข์ ได้รับการประสานผ่านระบ...</td>\n",
       "      <td>ศูนย์เรื่องราวร้องทุกข์ ได้รับการประสานผ่านระบ...</td>\n",
       "    </tr>\n",
       "    <tr>\n",
       "      <th>186945</th>\n",
       "      <td>ไฟฟ้าส่องสว่างกระพริบๆทำให้เสียสายตาทำให้การสั...</td>\n",
       "      <td>ไฟฟ้าส่องสว่างกระพริบทำให้เสียสายตาทำให้การสัญ...</td>\n",
       "    </tr>\n",
       "  </tbody>\n",
       "</table>\n",
       "</div>"
      ],
      "text/plain": [
       "                                                  comment  \\\n",
       "190761  รบกวนเจ้าหน้าที่เทศกิจตัดนั้นค้าขายแผงลอย มาลั...   \n",
       "118781  ช่างซ่อมฟุตบาต ทางเท้า ในเวลา 23:00 ถึง ตี 4  ...   \n",
       "215395  ขออนุญาตใช้รูปเดิม เพราะปัญหายังไม่ได้แก้ไขแต่...   \n",
       "220265  ศูนย์เรื่องราวร้องทุกข์ ได้รับการประสานผ่านระบ...   \n",
       "186945  ไฟฟ้าส่องสว่างกระพริบๆทำให้เสียสายตาทำให้การสั...   \n",
       "\n",
       "                                            clean_comment  \n",
       "190761  รบกวนเจ้าหน้าที่เทศกิจตัดนั้นค้าขายแผงลอย มาลั...  \n",
       "118781  ช่างซ่อมฟุตบาต ทางเท้า ในเวลา n ถึง ตี n ใกล้แ...  \n",
       "215395  ขออนุญาตใช้รูปเดิม เพราะปัญหายังไม่ได้แก้ไขแต่...  \n",
       "220265  ศูนย์เรื่องราวร้องทุกข์ ได้รับการประสานผ่านระบ...  \n",
       "186945  ไฟฟ้าส่องสว่างกระพริบทำให้เสียสายตาทำให้การสัญ...  "
      ]
     },
     "metadata": {},
     "output_type": "display_data"
    }
   ],
   "source": [
    "sample_df = df_train.sample(frac=1)[:5]\n",
    "\n",
    "sample_df['clean_comment'] = clean_text(sample_df['comment'])\n",
    "display(sample_df[['comment', 'clean_comment']])\n"
   ]
  },
  {
   "cell_type": "code",
   "execution_count": 28,
   "id": "dbed586a",
   "metadata": {
    "execution": {
     "iopub.execute_input": "2025-03-12T01:10:59.868660Z",
     "iopub.status.busy": "2025-03-12T01:10:59.868419Z",
     "iopub.status.idle": "2025-03-12T01:11:08.734001Z",
     "shell.execute_reply": "2025-03-12T01:11:08.733041Z"
    },
    "id": "konPrulcQSWI",
    "papermill": {
     "duration": 8.885428,
     "end_time": "2025-03-12T01:11:08.735660",
     "exception": false,
     "start_time": "2025-03-12T01:10:59.850232",
     "status": "completed"
    },
    "tags": []
   },
   "outputs": [],
   "source": [
    "df_train['comment'] = clean_text(df_train['comment'])"
   ]
  },
  {
   "cell_type": "markdown",
   "id": "2b9925fa",
   "metadata": {
    "id": "MPyHoGA6SbBk",
    "papermill": {
     "duration": 0.017235,
     "end_time": "2025-03-12T01:11:08.771097",
     "exception": false,
     "start_time": "2025-03-12T01:11:08.753862",
     "status": "completed"
    },
    "tags": []
   },
   "source": [
    "Split data"
   ]
  },
  {
   "cell_type": "code",
   "execution_count": 29,
   "id": "bb376c2c",
   "metadata": {
    "execution": {
     "iopub.execute_input": "2025-03-12T01:11:08.807188Z",
     "iopub.status.busy": "2025-03-12T01:11:08.806882Z",
     "iopub.status.idle": "2025-03-12T01:11:08.888917Z",
     "shell.execute_reply": "2025-03-12T01:11:08.887977Z"
    },
    "id": "WrQaldfuSQAp",
    "papermill": {
     "duration": 0.101929,
     "end_time": "2025-03-12T01:11:08.890501",
     "exception": false,
     "start_time": "2025-03-12T01:11:08.788572",
     "status": "completed"
    },
    "tags": []
   },
   "outputs": [],
   "source": [
    "train_texts, val_texts, train_labels, val_labels = train_test_split(df_train['comment'].tolist(), df_train['label'], test_size=0.2, random_state=RANDOM_STATE)"
   ]
  },
  {
   "cell_type": "code",
   "execution_count": 30,
   "id": "5120e858",
   "metadata": {
    "execution": {
     "iopub.execute_input": "2025-03-12T01:11:08.927142Z",
     "iopub.status.busy": "2025-03-12T01:11:08.926868Z",
     "iopub.status.idle": "2025-03-12T01:11:16.983613Z",
     "shell.execute_reply": "2025-03-12T01:11:16.982634Z"
    },
    "papermill": {
     "duration": 8.0769,
     "end_time": "2025-03-12T01:11:16.985603",
     "exception": false,
     "start_time": "2025-03-12T01:11:08.908703",
     "status": "completed"
    },
    "tags": []
   },
   "outputs": [],
   "source": [
    "# use for evaluation\n",
    "og_df_train['label'] = og_df_train.iloc[:, 2:14].values.tolist()\n",
    "og_df_train.drop(og_df_train.columns[2:14], axis=1, inplace=True)\n",
    "\n",
    "og_df_train['comment'] = clean_text(og_df_train['comment'])\n",
    "og_train_texts, og_val_texts, og_train_labels, og_val_labels = train_test_split(og_df_train['comment'].tolist(), og_df_train['label'], test_size=0.2, random_state=RANDOM_STATE)"
   ]
  },
  {
   "cell_type": "code",
   "execution_count": 31,
   "id": "ce1b9af8",
   "metadata": {
    "execution": {
     "iopub.execute_input": "2025-03-12T01:11:17.023079Z",
     "iopub.status.busy": "2025-03-12T01:11:17.022787Z",
     "iopub.status.idle": "2025-03-12T01:11:17.027916Z",
     "shell.execute_reply": "2025-03-12T01:11:17.027061Z"
    },
    "id": "bcxH86twSk9r",
    "outputId": "e3476efb-5424-4792-8739-80aea79ecc56",
    "papermill": {
     "duration": 0.025263,
     "end_time": "2025-03-12T01:11:17.029259",
     "exception": false,
     "start_time": "2025-03-12T01:11:17.003996",
     "status": "completed"
    },
    "tags": []
   },
   "outputs": [
    {
     "data": {
      "text/plain": [
       "['ถนนไม่มีเส้นแบ่งช่องจราจร มาเป็นเวลานานมาก',\n",
       " 'ปัญหา ไฟส่องสว่างทาง ดับชำรุด ทั้งหมด ประมาณ n ต้น ขอให้เจ้าหน้าที่เข้ามาจัดการ พิกัดจุดสังเกต หัวมุมซอยอารีสัมพันธ์สี่ เลยกรมประชาสัมพันธ์ บ้านเลขที่ ถนน พระราม n ซอย อารีสัมพันธ์ เขต พญาไท แขวง พญาไท 1555',\n",
       " 'แจ้งเรื่องเปิดเพลงเสียงดังในชุมชนเปิดมาตั้งแต่9โมงเช้าแล้วยังไม่หยุดเลย10กว่าชมแล้วตอนนี้หูอื้อหมดแล้วแจ้งไปแล้ว1ครั้งไม่ทราบว่ามีเจ้าหน้าที่เข้ามาหรือยังยังเปิดดังเหมือนเดิมยิ่งดึกยิ่งดังมีหลายที่ใกล้กันเสียงอัดแน่นรวมกันไปหมดเลยเปิดในที่โล่งแจ้งช่วยมาตรวจสอบด้วยพรุ่งนี้ต้องทำงานไม่ได้พักผ่อนเลยในซอยปรีดีพนมยงค์46แยก4หลายที่เลย',\n",
       " 'อุบัติเหตุ บน สะพานสูงสวนผักสามสอง',\n",
       " 'สะพานลอยที่เชื่อไปสถานีไฟฉายที่บอกว่าจะแล้วเสร็จใน ตุลา66 ตอนนี้ยังไม่เริ่ม ไม่ทราบว่าจะเริ่มเมื่อไหร่เสร็จเมื่อไหร่']"
      ]
     },
     "execution_count": 31,
     "metadata": {},
     "output_type": "execute_result"
    }
   ],
   "source": [
    "train_texts[:5]"
   ]
  },
  {
   "cell_type": "markdown",
   "id": "884eecaf",
   "metadata": {
    "id": "V3L2rheZJl6J",
    "papermill": {
     "duration": 0.017557,
     "end_time": "2025-03-12T01:11:17.064411",
     "exception": false,
     "start_time": "2025-03-12T01:11:17.046854",
     "status": "completed"
    },
    "tags": []
   },
   "source": [
    "# Model Set up"
   ]
  },
  {
   "cell_type": "code",
   "execution_count": 32,
   "id": "f79af478",
   "metadata": {
    "execution": {
     "iopub.execute_input": "2025-03-12T01:11:17.100336Z",
     "iopub.status.busy": "2025-03-12T01:11:17.100044Z",
     "iopub.status.idle": "2025-03-12T01:11:25.836985Z",
     "shell.execute_reply": "2025-03-12T01:11:25.836282Z"
    },
    "id": "0GUX-o8BEmXS",
    "outputId": "1420fe80-4285-4e57-9e13-b979e7320865",
    "papermill": {
     "duration": 8.756637,
     "end_time": "2025-03-12T01:11:25.838543",
     "exception": false,
     "start_time": "2025-03-12T01:11:17.081906",
     "status": "completed"
    },
    "tags": []
   },
   "outputs": [
    {
     "data": {
      "application/vnd.jupyter.widget-view+json": {
       "model_id": "bfb7e0ace19147179303e987ef55e178",
       "version_major": 2,
       "version_minor": 0
      },
      "text/plain": [
       "tokenizer_config.json:   0%|          | 0.00/527 [00:00<?, ?B/s]"
      ]
     },
     "metadata": {},
     "output_type": "display_data"
    },
    {
     "data": {
      "application/vnd.jupyter.widget-view+json": {
       "model_id": "3df96225926f47a6a3f38d46a82716f5",
       "version_major": 2,
       "version_minor": 0
      },
      "text/plain": [
       "sentencepiece.bpe.model:   0%|          | 0.00/5.26M [00:00<?, ?B/s]"
      ]
     },
     "metadata": {},
     "output_type": "display_data"
    },
    {
     "data": {
      "application/vnd.jupyter.widget-view+json": {
       "model_id": "9f20f550d2b140579661f47aa2775193",
       "version_major": 2,
       "version_minor": 0
      },
      "text/plain": [
       "tokenizer.json:   0%|          | 0.00/17.4M [00:00<?, ?B/s]"
      ]
     },
     "metadata": {},
     "output_type": "display_data"
    },
    {
     "data": {
      "application/vnd.jupyter.widget-view+json": {
       "model_id": "886e7d73e1ba4bb38f86b9f8da3e67c4",
       "version_major": 2,
       "version_minor": 0
      },
      "text/plain": [
       "added_tokens.json:   0%|          | 0.00/15.0k [00:00<?, ?B/s]"
      ]
     },
     "metadata": {},
     "output_type": "display_data"
    },
    {
     "data": {
      "application/vnd.jupyter.widget-view+json": {
       "model_id": "da109309d7b146249640eb7904f585f6",
       "version_major": 2,
       "version_minor": 0
      },
      "text/plain": [
       "special_tokens_map.json:   0%|          | 0.00/364 [00:00<?, ?B/s]"
      ]
     },
     "metadata": {},
     "output_type": "display_data"
    },
    {
     "data": {
      "application/vnd.jupyter.widget-view+json": {
       "model_id": "751ee54dbb32499f93d3e5ec7f04ef51",
       "version_major": 2,
       "version_minor": 0
      },
      "text/plain": [
       "config.json:   0%|          | 0.00/642 [00:00<?, ?B/s]"
      ]
     },
     "metadata": {},
     "output_type": "display_data"
    },
    {
     "data": {
      "application/vnd.jupyter.widget-view+json": {
       "model_id": "bea8d93895fc40debda80c8c2beecb33",
       "version_major": 2,
       "version_minor": 0
      },
      "text/plain": [
       "model.safetensors:   0%|          | 0.00/1.11G [00:00<?, ?B/s]"
      ]
     },
     "metadata": {},
     "output_type": "display_data"
    },
    {
     "name": "stderr",
     "output_type": "stream",
     "text": [
      "Some weights of CamembertForSequenceClassification were not initialized from the model checkpoint at clicknext/phayathaibert and are newly initialized: ['classifier.dense.bias', 'classifier.dense.weight', 'classifier.out_proj.bias', 'classifier.out_proj.weight']\n",
      "You should probably TRAIN this model on a down-stream task to be able to use it for predictions and inference.\n"
     ]
    }
   ],
   "source": [
    "#@title Choose Pretrained Model\n",
    "#create tokenizer\n",
    "tokenizer = AutoTokenizer.from_pretrained(\n",
    "                model_name,\n",
    "                revision='main',\n",
    "                max_length=MAX_LENGTH,\n",
    "                truncation=True,\n",
    "                return_tensors=\"pt\"\n",
    "                )\n",
    "\n",
    "#create model\n",
    "model = AutoModelForSequenceClassification.from_pretrained(\n",
    "    model_name,\n",
    "    revision='main',\n",
    "    num_labels=12,\n",
    "    problem_type=\"multi_label_classification\"\n",
    ")"
   ]
  },
  {
   "cell_type": "code",
   "execution_count": 33,
   "id": "4c260cc1",
   "metadata": {
    "execution": {
     "iopub.execute_input": "2025-03-12T01:11:25.877424Z",
     "iopub.status.busy": "2025-03-12T01:11:25.877141Z",
     "iopub.status.idle": "2025-03-12T01:11:26.048001Z",
     "shell.execute_reply": "2025-03-12T01:11:26.046988Z"
    },
    "id": "zFyr5ziSG5gO",
    "outputId": "2ea888fd-6c27-4b6d-b1b4-789bcac61692",
    "papermill": {
     "duration": 0.191927,
     "end_time": "2025-03-12T01:11:26.049741",
     "exception": false,
     "start_time": "2025-03-12T01:11:25.857814",
     "status": "completed"
    },
    "tags": []
   },
   "outputs": [
    {
     "name": "stdout",
     "output_type": "stream",
     "text": [
      "True\n"
     ]
    }
   ],
   "source": [
    "vocab = tokenizer.get_vocab()\n",
    "print('u' in vocab)"
   ]
  },
  {
   "cell_type": "code",
   "execution_count": 34,
   "id": "6fded065",
   "metadata": {
    "execution": {
     "iopub.execute_input": "2025-03-12T01:11:26.088849Z",
     "iopub.status.busy": "2025-03-12T01:11:26.088587Z",
     "iopub.status.idle": "2025-03-12T01:12:03.069158Z",
     "shell.execute_reply": "2025-03-12T01:12:03.068285Z"
    },
    "id": "poIvjSMacvaL",
    "outputId": "840deb4e-1be0-4987-b0fa-aea981b5afe7",
    "papermill": {
     "duration": 37.001865,
     "end_time": "2025-03-12T01:12:03.070653",
     "exception": false,
     "start_time": "2025-03-12T01:11:26.068788",
     "status": "completed"
    },
    "tags": []
   },
   "outputs": [
    {
     "data": {
      "application/vnd.jupyter.widget-view+json": {
       "model_id": "13aac51884c742b68de16006d845529c",
       "version_major": 2,
       "version_minor": 0
      },
      "text/plain": [
       "Map:   0%|          | 0/182816 [00:00<?, ? examples/s]"
      ]
     },
     "metadata": {},
     "output_type": "display_data"
    },
    {
     "data": {
      "application/vnd.jupyter.widget-view+json": {
       "model_id": "db22dc1471b54d2c86e917aa1983db97",
       "version_major": 2,
       "version_minor": 0
      },
      "text/plain": [
       "Map:   0%|          | 0/45704 [00:00<?, ? examples/s]"
      ]
     },
     "metadata": {},
     "output_type": "display_data"
    }
   ],
   "source": [
    "def tokenize_function(examples):\n",
    "    return tokenizer(examples[\"comment\"], return_token_type_ids=True, truncation=True, max_length=MAX_LENGTH)\n",
    "\n",
    "train_labels_tensor = torch.tensor(np.array(train_labels.tolist(), dtype=np.float32))\n",
    "val_labels_tensor = torch.tensor(np.array(val_labels.tolist(), dtype=np.float32))\n",
    "\n",
    "# Convert to Hugging Face Dataset\n",
    "train_dataset = Dataset.from_dict({\"comment\": train_texts, \"labels\": train_labels_tensor})\n",
    "val_dataset = Dataset.from_dict({\"comment\": val_texts, \"labels\": val_labels_tensor})\n",
    "\n",
    "train_dataset = train_dataset.map(tokenize_function, batched=True)\n",
    "val_dataset = val_dataset.map(tokenize_function, batched=True)\n",
    "\n",
    "dataset = DatasetDict({\"train\": train_dataset, \"validation\": val_dataset})"
   ]
  },
  {
   "cell_type": "code",
   "execution_count": 35,
   "id": "fef94b13",
   "metadata": {
    "execution": {
     "iopub.execute_input": "2025-03-12T01:12:03.109786Z",
     "iopub.status.busy": "2025-03-12T01:12:03.109524Z",
     "iopub.status.idle": "2025-03-12T01:12:09.384798Z",
     "shell.execute_reply": "2025-03-12T01:12:09.384140Z"
    },
    "papermill": {
     "duration": 6.295839,
     "end_time": "2025-03-12T01:12:09.386095",
     "exception": false,
     "start_time": "2025-03-12T01:12:03.090256",
     "status": "completed"
    },
    "tags": []
   },
   "outputs": [
    {
     "data": {
      "application/vnd.jupyter.widget-view+json": {
       "model_id": "e2f0cde7071b4bb194474b80f70f2829",
       "version_major": 2,
       "version_minor": 0
      },
      "text/plain": [
       "Map:   0%|          | 0/40925 [00:00<?, ? examples/s]"
      ]
     },
     "metadata": {},
     "output_type": "display_data"
    }
   ],
   "source": [
    "og_val_labels_tensor = torch.tensor(np.array(og_val_labels.tolist(), dtype=np.float32))\n",
    "og_val_dataset = Dataset.from_dict({\"comment\": og_val_texts, \"labels\": og_val_labels_tensor})\n",
    "og_val_dataset = og_val_dataset.map(tokenize_function, batched=True)"
   ]
  },
  {
   "cell_type": "markdown",
   "id": "fa656050",
   "metadata": {
    "papermill": {
     "duration": 0.028813,
     "end_time": "2025-03-12T01:12:09.443035",
     "exception": false,
     "start_time": "2025-03-12T01:12:09.414222",
     "status": "completed"
    },
    "tags": []
   },
   "source": [
    "# Training"
   ]
  },
  {
   "cell_type": "code",
   "execution_count": 36,
   "id": "faf804e5",
   "metadata": {
    "execution": {
     "iopub.execute_input": "2025-03-12T01:12:09.489193Z",
     "iopub.status.busy": "2025-03-12T01:12:09.488746Z",
     "iopub.status.idle": "2025-03-12T01:12:10.134532Z",
     "shell.execute_reply": "2025-03-12T01:12:10.133768Z"
    },
    "id": "ssS9n0nxHOWy",
    "papermill": {
     "duration": 0.667743,
     "end_time": "2025-03-12T01:12:10.135892",
     "exception": false,
     "start_time": "2025-03-12T01:12:09.468149",
     "status": "completed"
    },
    "tags": []
   },
   "outputs": [
    {
     "data": {
      "application/vnd.jupyter.widget-view+json": {
       "model_id": "eb7ab5f9ae79488ca01b21b828c31ca3",
       "version_major": 2,
       "version_minor": 0
      },
      "text/plain": [
       "Downloading builder script:   0%|          | 0.00/4.20k [00:00<?, ?B/s]"
      ]
     },
     "metadata": {},
     "output_type": "display_data"
    }
   ],
   "source": [
    "metric = load(\"accuracy\")\n",
    "\n",
    "eval_metrics = \"Partial\"\n",
    "## Check partial labels\n",
    "\n",
    "def compute_metrics(eval_pred):\n",
    "    logits, labels = eval_pred\n",
    "    predictions = (torch.sigmoid(torch.tensor(logits)) > THRESHOLD).int()\n",
    "    # Calculate accuracy for each label\n",
    "    label_accuracies = (predictions == torch.tensor(labels)).float().mean(axis=0)\n",
    "    # average accuracy across all labels\n",
    "    accuracy = label_accuracies.mean()\n",
    "    return {\"accuracy\": accuracy}"
   ]
  },
  {
   "cell_type": "code",
   "execution_count": 37,
   "id": "292cfcd8",
   "metadata": {
    "execution": {
     "iopub.execute_input": "2025-03-12T01:12:10.176045Z",
     "iopub.status.busy": "2025-03-12T01:12:10.175729Z",
     "iopub.status.idle": "2025-03-12T01:12:10.355798Z",
     "shell.execute_reply": "2025-03-12T01:12:10.354857Z"
    },
    "id": "8UwZn2PfKCB8",
    "outputId": "a0215581-1a22-48dd-e99f-d4317b3ed9cd",
    "papermill": {
     "duration": 0.201678,
     "end_time": "2025-03-12T01:12:10.357489",
     "exception": false,
     "start_time": "2025-03-12T01:12:10.155811",
     "status": "completed"
    },
    "tags": []
   },
   "outputs": [],
   "source": [
    "training_args = TrainingArguments(\n",
    "    output_dir=\"./results\",\n",
    "    learning_rate=2e-5,\n",
    "    eval_strategy=\"epoch\",\n",
    "    save_strategy=\"epoch\",\n",
    "    per_device_train_batch_size=BATCH_SIZE,\n",
    "    per_device_eval_batch_size=BATCH_SIZE,\n",
    "    num_train_epochs=NUM_EPOCHS,\n",
    "    logging_dir=\"./logs\",\n",
    "    logging_steps=10,\n",
    "    load_best_model_at_end=True,\n",
    "    #report_to=\"none\"  # Disable all tracking integrations (e.g., wandb\n",
    ")"
   ]
  },
  {
   "cell_type": "code",
   "execution_count": 38,
   "id": "025bc2e3",
   "metadata": {
    "execution": {
     "iopub.execute_input": "2025-03-12T01:12:10.396617Z",
     "iopub.status.busy": "2025-03-12T01:12:10.396287Z",
     "iopub.status.idle": "2025-03-12T01:12:11.992952Z",
     "shell.execute_reply": "2025-03-12T01:12:11.992190Z"
    },
    "papermill": {
     "duration": 1.6173,
     "end_time": "2025-03-12T01:12:11.994162",
     "exception": false,
     "start_time": "2025-03-12T01:12:10.376862",
     "status": "completed"
    },
    "tags": []
   },
   "outputs": [
    {
     "name": "stderr",
     "output_type": "stream",
     "text": [
      "\u001b[34m\u001b[1mwandb\u001b[0m: Using wandb-core as the SDK backend.  Please refer to https://wandb.me/wandb-core for more information.\n",
      "\u001b[34m\u001b[1mwandb\u001b[0m: Currently logged in as: \u001b[33mkanisornputta\u001b[0m. Use \u001b[1m`wandb login --relogin`\u001b[0m to force relogin\n",
      "\u001b[34m\u001b[1mwandb\u001b[0m: Tracking run with wandb version 0.19.1\n",
      "\u001b[34m\u001b[1mwandb\u001b[0m: Run data is saved locally in \u001b[35m\u001b[1m/kaggle/working/wandb/run-20250312_011210-tkd07ruj\u001b[0m\n",
      "\u001b[34m\u001b[1mwandb\u001b[0m: Run \u001b[1m`wandb offline`\u001b[0m to turn off syncing.\n",
      "\u001b[34m\u001b[1mwandb\u001b[0m: Syncing run \u001b[33msage-eon-123\u001b[0m\n",
      "\u001b[34m\u001b[1mwandb\u001b[0m: ⭐️ View project at \u001b[34m\u001b[4mhttps://wandb.ai/kanisornputta/DSDE-midterm\u001b[0m\n",
      "\u001b[34m\u001b[1mwandb\u001b[0m: 🚀 View run at \u001b[34m\u001b[4mhttps://wandb.ai/kanisornputta/DSDE-midterm/runs/tkd07ruj\u001b[0m\n"
     ]
    },
    {
     "data": {
      "text/html": [
       "<button onClick=\"this.nextSibling.style.display='block';this.style.display='none';\">Display W&B run</button><iframe src='https://wandb.ai/kanisornputta/DSDE-midterm/runs/tkd07ruj?jupyter=true' style='border:none;width:100%;height:420px;display:none;'></iframe>"
      ],
      "text/plain": [
       "<wandb.sdk.wandb_run.Run at 0x7fda8076dcc0>"
      ]
     },
     "execution_count": 38,
     "metadata": {},
     "output_type": "execute_result"
    }
   ],
   "source": [
    "wandb.init(project=\"DSDE-midterm\", config=training_args)"
   ]
  },
  {
   "cell_type": "code",
   "execution_count": 39,
   "id": "0f5a965d",
   "metadata": {
    "execution": {
     "iopub.execute_input": "2025-03-12T01:12:12.035740Z",
     "iopub.status.busy": "2025-03-12T01:12:12.035514Z",
     "iopub.status.idle": "2025-03-12T01:12:12.039918Z",
     "shell.execute_reply": "2025-03-12T01:12:12.039046Z"
    },
    "papermill": {
     "duration": 0.026102,
     "end_time": "2025-03-12T01:12:12.041122",
     "exception": false,
     "start_time": "2025-03-12T01:12:12.015020",
     "status": "completed"
    },
    "tags": []
   },
   "outputs": [
    {
     "name": "stdout",
     "output_type": "stream",
     "text": [
      "Evaluate metrics: Partial\n"
     ]
    }
   ],
   "source": [
    "print('Evaluate metrics:', eval_metrics) "
   ]
  },
  {
   "cell_type": "code",
   "execution_count": 40,
   "id": "c58eccfc",
   "metadata": {
    "execution": {
     "iopub.execute_input": "2025-03-12T01:12:12.080565Z",
     "iopub.status.busy": "2025-03-12T01:12:12.080343Z",
     "iopub.status.idle": "2025-03-12T02:02:25.308662Z",
     "shell.execute_reply": "2025-03-12T02:02:25.307690Z"
    },
    "papermill": {
     "duration": 3013.249566,
     "end_time": "2025-03-12T02:02:25.310074",
     "exception": false,
     "start_time": "2025-03-12T01:12:12.060508",
     "status": "completed"
    },
    "tags": []
   },
   "outputs": [
    {
     "name": "stdout",
     "output_type": "stream",
     "text": [
      "Using device: cuda\n",
      "Evaluate metrics: Partial\n",
      "\n"
     ]
    },
    {
     "name": "stderr",
     "output_type": "stream",
     "text": [
      "<ipython-input-40-1f8d2c21a44d>:9: FutureWarning: `tokenizer` is deprecated and will be removed in version 5.0.0 for `Trainer.__init__`. Use `processing_class` instead.\n",
      "  trainer = Trainer(\n",
      "\u001b[34m\u001b[1mwandb\u001b[0m: \u001b[33mWARNING\u001b[0m The `run_name` is currently set to the same value as `TrainingArguments.output_dir`. If this was not intended, please specify a different run name by setting the `TrainingArguments.run_name` parameter.\n",
      "/usr/local/lib/python3.10/dist-packages/torch/nn/parallel/_functions.py:71: UserWarning: Was asked to gather along dimension 0, but all input tensors were scalars; will instead unsqueeze and return a vector.\n",
      "  warnings.warn(\n"
     ]
    },
    {
     "data": {
      "text/html": [
       "\n",
       "    <div>\n",
       "      \n",
       "      <progress value='2857' max='2857' style='width:300px; height:20px; vertical-align: middle;'></progress>\n",
       "      [2857/2857 50:09, Epoch 1/1]\n",
       "    </div>\n",
       "    <table border=\"1\" class=\"dataframe\">\n",
       "  <thead>\n",
       " <tr style=\"text-align: left;\">\n",
       "      <th>Epoch</th>\n",
       "      <th>Training Loss</th>\n",
       "      <th>Validation Loss</th>\n",
       "      <th>Accuracy</th>\n",
       "    </tr>\n",
       "  </thead>\n",
       "  <tbody>\n",
       "    <tr>\n",
       "      <td>1</td>\n",
       "      <td>0.060600</td>\n",
       "      <td>0.058916</td>\n",
       "      <td>0.980348</td>\n",
       "    </tr>\n",
       "  </tbody>\n",
       "</table><p>"
      ],
      "text/plain": [
       "<IPython.core.display.HTML object>"
      ]
     },
     "metadata": {},
     "output_type": "display_data"
    },
    {
     "name": "stderr",
     "output_type": "stream",
     "text": [
      "/usr/local/lib/python3.10/dist-packages/torch/nn/parallel/_functions.py:71: UserWarning: Was asked to gather along dimension 0, but all input tensors were scalars; will instead unsqueeze and return a vector.\n",
      "  warnings.warn(\n"
     ]
    },
    {
     "data": {
      "text/plain": [
       "TrainOutput(global_step=2857, training_loss=0.07857912372032329, metrics={'train_runtime': 3012.0484, 'train_samples_per_second': 60.695, 'train_steps_per_second': 0.949, 'total_flos': 1.196499699062784e+16, 'train_loss': 0.07857912372032329, 'epoch': 1.0})"
      ]
     },
     "execution_count": 40,
     "metadata": {},
     "output_type": "execute_result"
    }
   ],
   "source": [
    "# Check if GPU is available and set the device\n",
    "device = torch.device(\"cuda\" if torch.cuda.is_available() else \"cpu\")\n",
    "print(f\"Using device: {device}\")\n",
    "print('Evaluate metrics:', eval_metrics) \n",
    "print()\n",
    "# Move model to the device (GPU if available)\n",
    "model.to(device)\n",
    "\n",
    "trainer = Trainer(\n",
    "    model=model,\n",
    "    args=training_args,\n",
    "    train_dataset=dataset[\"train\"],\n",
    "    eval_dataset=dataset[\"validation\"],\n",
    "    tokenizer=tokenizer,\n",
    "    compute_metrics=compute_metrics,\n",
    ")\n",
    "\n",
    "trainer.train()\n",
    "\n",
    "\n"
   ]
  },
  {
   "cell_type": "code",
   "execution_count": 41,
   "id": "6c1daf2f",
   "metadata": {
    "execution": {
     "iopub.execute_input": "2025-03-12T02:02:25.354018Z",
     "iopub.status.busy": "2025-03-12T02:02:25.353741Z",
     "iopub.status.idle": "2025-03-12T02:06:15.264587Z",
     "shell.execute_reply": "2025-03-12T02:06:15.263863Z"
    },
    "id": "hgufUV5HUKwJ",
    "papermill": {
     "duration": 229.934201,
     "end_time": "2025-03-12T02:06:15.265857",
     "exception": false,
     "start_time": "2025-03-12T02:02:25.331656",
     "status": "completed"
    },
    "tags": []
   },
   "outputs": [
    {
     "name": "stderr",
     "output_type": "stream",
     "text": [
      "/usr/local/lib/python3.10/dist-packages/torch/nn/parallel/_functions.py:71: UserWarning: Was asked to gather along dimension 0, but all input tensors were scalars; will instead unsqueeze and return a vector.\n",
      "  warnings.warn(\n"
     ]
    },
    {
     "data": {
      "text/html": [],
      "text/plain": [
       "<IPython.core.display.HTML object>"
      ]
     },
     "metadata": {},
     "output_type": "display_data"
    },
    {
     "name": "stdout",
     "output_type": "stream",
     "text": [
      "{'eval_loss': 0.058916158974170685, 'eval_accuracy': 0.9803481101989746, 'eval_runtime': 228.3018, 'eval_samples_per_second': 200.191, 'eval_steps_per_second': 3.132, 'epoch': 1.0}\n"
     ]
    },
    {
     "name": "stderr",
     "output_type": "stream",
     "text": [
      "\u001b[34m\u001b[1mwandb\u001b[0m:                                                                                \n",
      "\u001b[34m\u001b[1mwandb\u001b[0m: \n",
      "\u001b[34m\u001b[1mwandb\u001b[0m: Run history:\n",
      "\u001b[34m\u001b[1mwandb\u001b[0m:           eval/accuracy ▁▁\n",
      "\u001b[34m\u001b[1mwandb\u001b[0m:               eval/loss ▁▁\n",
      "\u001b[34m\u001b[1mwandb\u001b[0m:            eval/runtime █▁\n",
      "\u001b[34m\u001b[1mwandb\u001b[0m: eval/samples_per_second ▁█\n",
      "\u001b[34m\u001b[1mwandb\u001b[0m:   eval/steps_per_second ▁█\n",
      "\u001b[34m\u001b[1mwandb\u001b[0m:             train/epoch ▁▁▁▁▁▁▁▂▂▂▂▂▃▃▃▃▄▄▅▅▅▅▅▆▆▆▆▆▆▆▇▇▇▇▇█████\n",
      "\u001b[34m\u001b[1mwandb\u001b[0m:       train/global_step ▁▁▁▁▁▂▂▂▂▂▃▃▃▄▄▄▄▄▅▅▅▅▅▅▅▅▆▆▆▆▆▇▇▇▇█████\n",
      "\u001b[34m\u001b[1mwandb\u001b[0m:         train/grad_norm ▅▂▃▃▁▄▁▃▃▃▄▃▃▄▃▅▆▄▄▄▃▃▅▂▃▃▃▃▄▃▃█▄▆▄▄▅▃▄▃\n",
      "\u001b[34m\u001b[1mwandb\u001b[0m:     train/learning_rate ███▇▇▇▇▇▇▇▇▆▆▆▆▅▅▅▅▅▅▅▅▄▄▃▃▃▃▂▂▂▂▂▁▁▁▁▁▁\n",
      "\u001b[34m\u001b[1mwandb\u001b[0m:              train/loss ██▇▇▅▄▄▃▃▃▃▃▂▂▂▂▂▂▂▂▁▁▂▁▁▂▁▁▁▁▁▂▁▁▁▁▁▁▁▁\n",
      "\u001b[34m\u001b[1mwandb\u001b[0m: \n",
      "\u001b[34m\u001b[1mwandb\u001b[0m: Run summary:\n",
      "\u001b[34m\u001b[1mwandb\u001b[0m:            eval/accuracy 0.98035\n",
      "\u001b[34m\u001b[1mwandb\u001b[0m:                eval/loss 0.05892\n",
      "\u001b[34m\u001b[1mwandb\u001b[0m:             eval/runtime 228.3018\n",
      "\u001b[34m\u001b[1mwandb\u001b[0m:  eval/samples_per_second 200.191\n",
      "\u001b[34m\u001b[1mwandb\u001b[0m:    eval/steps_per_second 3.132\n",
      "\u001b[34m\u001b[1mwandb\u001b[0m:               total_flos 1.196499699062784e+16\n",
      "\u001b[34m\u001b[1mwandb\u001b[0m:              train/epoch 1\n",
      "\u001b[34m\u001b[1mwandb\u001b[0m:        train/global_step 2857\n",
      "\u001b[34m\u001b[1mwandb\u001b[0m:          train/grad_norm 0.41912\n",
      "\u001b[34m\u001b[1mwandb\u001b[0m:      train/learning_rate 0.0\n",
      "\u001b[34m\u001b[1mwandb\u001b[0m:               train/loss 0.0606\n",
      "\u001b[34m\u001b[1mwandb\u001b[0m:               train_loss 0.07858\n",
      "\u001b[34m\u001b[1mwandb\u001b[0m:            train_runtime 3012.0484\n",
      "\u001b[34m\u001b[1mwandb\u001b[0m: train_samples_per_second 60.695\n",
      "\u001b[34m\u001b[1mwandb\u001b[0m:   train_steps_per_second 0.949\n",
      "\u001b[34m\u001b[1mwandb\u001b[0m: \n",
      "\u001b[34m\u001b[1mwandb\u001b[0m: 🚀 View run \u001b[33msage-eon-123\u001b[0m at: \u001b[34m\u001b[4mhttps://wandb.ai/kanisornputta/DSDE-midterm/runs/tkd07ruj\u001b[0m\n",
      "\u001b[34m\u001b[1mwandb\u001b[0m: ⭐️ View project at: \u001b[34m\u001b[4mhttps://wandb.ai/kanisornputta/DSDE-midterm\u001b[0m\n",
      "\u001b[34m\u001b[1mwandb\u001b[0m: Synced 5 W&B file(s), 0 media file(s), 0 artifact file(s) and 0 other file(s)\n",
      "\u001b[34m\u001b[1mwandb\u001b[0m: Find logs at: \u001b[35m\u001b[1m./wandb/run-20250312_011210-tkd07ruj/logs\u001b[0m\n"
     ]
    }
   ],
   "source": [
    "eval_results = trainer.evaluate()\n",
    "print(eval_results)\n",
    "wandb.finish()"
   ]
  },
  {
   "cell_type": "markdown",
   "id": "8d629086",
   "metadata": {
    "papermill": {
     "duration": 0.020093,
     "end_time": "2025-03-12T02:06:15.307293",
     "exception": false,
     "start_time": "2025-03-12T02:06:15.287200",
     "status": "completed"
    },
    "tags": []
   },
   "source": [
    "# Save and Load Weights"
   ]
  },
  {
   "cell_type": "code",
   "execution_count": 42,
   "id": "70329dbd",
   "metadata": {
    "execution": {
     "iopub.execute_input": "2025-03-12T02:06:15.348598Z",
     "iopub.status.busy": "2025-03-12T02:06:15.348267Z",
     "iopub.status.idle": "2025-03-12T02:06:18.232162Z",
     "shell.execute_reply": "2025-03-12T02:06:18.231282Z"
    },
    "id": "9xO0R1w0ULsn",
    "papermill": {
     "duration": 2.906239,
     "end_time": "2025-03-12T02:06:18.233526",
     "exception": false,
     "start_time": "2025-03-12T02:06:15.327287",
     "status": "completed"
    },
    "tags": []
   },
   "outputs": [
    {
     "data": {
      "text/plain": [
       "('./saved_model/tokenizer_config.json',\n",
       " './saved_model/special_tokens_map.json',\n",
       " './saved_model/sentencepiece.bpe.model',\n",
       " './saved_model/added_tokens.json',\n",
       " './saved_model/tokenizer.json')"
      ]
     },
     "execution_count": 42,
     "metadata": {},
     "output_type": "execute_result"
    }
   ],
   "source": [
    "model.save_pretrained(\"./saved_model\")\n",
    "tokenizer.save_pretrained(\"./saved_model\")"
   ]
  },
  {
   "cell_type": "code",
   "execution_count": 43,
   "id": "9d613787",
   "metadata": {
    "execution": {
     "iopub.execute_input": "2025-03-12T02:06:18.276654Z",
     "iopub.status.busy": "2025-03-12T02:06:18.276358Z",
     "iopub.status.idle": "2025-03-12T02:07:13.298225Z",
     "shell.execute_reply": "2025-03-12T02:07:13.297284Z"
    },
    "papermill": {
     "duration": 55.065539,
     "end_time": "2025-03-12T02:07:13.319980",
     "exception": false,
     "start_time": "2025-03-12T02:06:18.254441",
     "status": "completed"
    },
    "tags": []
   },
   "outputs": [
    {
     "data": {
      "text/plain": [
       "'/kaggle/working/saved_model.zip'"
      ]
     },
     "execution_count": 43,
     "metadata": {},
     "output_type": "execute_result"
    }
   ],
   "source": [
    "import shutil\n",
    "\n",
    "shutil.make_archive(\"saved_model\", 'zip', \"./saved_model\")"
   ]
  },
  {
   "cell_type": "code",
   "execution_count": 44,
   "id": "e56f1c2d",
   "metadata": {
    "execution": {
     "iopub.execute_input": "2025-03-12T02:07:13.361412Z",
     "iopub.status.busy": "2025-03-12T02:07:13.361138Z",
     "iopub.status.idle": "2025-03-12T02:07:14.222584Z",
     "shell.execute_reply": "2025-03-12T02:07:14.221615Z"
    },
    "id": "Zk5pKfziUXna",
    "papermill": {
     "duration": 0.883957,
     "end_time": "2025-03-12T02:07:14.224332",
     "exception": false,
     "start_time": "2025-03-12T02:07:13.340375",
     "status": "completed"
    },
    "tags": []
   },
   "outputs": [],
   "source": [
    "# Load the model later\n",
    "model = AutoModelForSequenceClassification.from_pretrained(\"./saved_model\")\n",
    "tokenizer = AutoTokenizer.from_pretrained(\"./saved_model\")"
   ]
  },
  {
   "cell_type": "markdown",
   "id": "b7aea214",
   "metadata": {
    "papermill": {
     "duration": 0.020967,
     "end_time": "2025-03-12T02:07:14.266672",
     "exception": false,
     "start_time": "2025-03-12T02:07:14.245705",
     "status": "completed"
    },
    "tags": []
   },
   "source": [
    "# Inference"
   ]
  },
  {
   "cell_type": "code",
   "execution_count": 45,
   "id": "04137377",
   "metadata": {
    "execution": {
     "iopub.execute_input": "2025-03-12T02:07:14.308105Z",
     "iopub.status.busy": "2025-03-12T02:07:14.307859Z",
     "iopub.status.idle": "2025-03-12T02:07:14.706200Z",
     "shell.execute_reply": "2025-03-12T02:07:14.705318Z"
    },
    "papermill": {
     "duration": 0.420508,
     "end_time": "2025-03-12T02:07:14.707597",
     "exception": false,
     "start_time": "2025-03-12T02:07:14.287089",
     "status": "completed"
    },
    "tags": []
   },
   "outputs": [
    {
     "data": {
      "text/html": [
       "<div>\n",
       "<style scoped>\n",
       "    .dataframe tbody tr th:only-of-type {\n",
       "        vertical-align: middle;\n",
       "    }\n",
       "\n",
       "    .dataframe tbody tr th {\n",
       "        vertical-align: top;\n",
       "    }\n",
       "\n",
       "    .dataframe thead th {\n",
       "        text-align: right;\n",
       "    }\n",
       "</style>\n",
       "<table border=\"1\" class=\"dataframe\">\n",
       "  <thead>\n",
       "    <tr style=\"text-align: right;\">\n",
       "      <th></th>\n",
       "      <th>id</th>\n",
       "      <th>comment</th>\n",
       "    </tr>\n",
       "  </thead>\n",
       "  <tbody>\n",
       "    <tr>\n",
       "      <th>0</th>\n",
       "      <td>0</td>\n",
       "      <td>ไม่มีทางเท้าคนเดินจากสะพานกรุงธนบุรีไปวัดราชผา...</td>\n",
       "    </tr>\n",
       "    <tr>\n",
       "      <th>1</th>\n",
       "      <td>1</td>\n",
       "      <td>อันนี้ภาพทางเข้าถ่ายไว้นานแล้ว ในซอยถนนจะเป็นห...</td>\n",
       "    </tr>\n",
       "    <tr>\n",
       "      <th>2</th>\n",
       "      <td>2</td>\n",
       "      <td>ขยะที่แยกสะพานควาย</td>\n",
       "    </tr>\n",
       "    <tr>\n",
       "      <th>3</th>\n",
       "      <td>3</td>\n",
       "      <td>ช่วงเร่งคืนพื้นที่ช่องจราจรถนนแจ้งวัฒ ช่วงวิภา...</td>\n",
       "    </tr>\n",
       "    <tr>\n",
       "      <th>4</th>\n",
       "      <td>4</td>\n",
       "      <td>ไฟถนนไม่ติด เป็นทางยาว คนเดินถนนลำบากมาก ถนนร...</td>\n",
       "    </tr>\n",
       "  </tbody>\n",
       "</table>\n",
       "</div>"
      ],
      "text/plain": [
       "   id                                            comment\n",
       "0   0  ไม่มีทางเท้าคนเดินจากสะพานกรุงธนบุรีไปวัดราชผา...\n",
       "1   1  อันนี้ภาพทางเข้าถ่ายไว้นานแล้ว ในซอยถนนจะเป็นห...\n",
       "2   2                                 ขยะที่แยกสะพานควาย\n",
       "3   3  ช่วงเร่งคืนพื้นที่ช่องจราจรถนนแจ้งวัฒ ช่วงวิภา...\n",
       "4   4   ไฟถนนไม่ติด เป็นทางยาว คนเดินถนนลำบากมาก ถนนร..."
      ]
     },
     "execution_count": 45,
     "metadata": {},
     "output_type": "execute_result"
    }
   ],
   "source": [
    "df_test['comment'] = clean_text(df_test['comment'])\n",
    "df_test.head()"
   ]
  },
  {
   "cell_type": "code",
   "execution_count": 46,
   "id": "552340eb",
   "metadata": {
    "execution": {
     "iopub.execute_input": "2025-03-12T02:07:14.749613Z",
     "iopub.status.busy": "2025-03-12T02:07:14.749358Z",
     "iopub.status.idle": "2025-03-12T02:07:14.752592Z",
     "shell.execute_reply": "2025-03-12T02:07:14.751776Z"
    },
    "papermill": {
     "duration": 0.025099,
     "end_time": "2025-03-12T02:07:14.753759",
     "exception": false,
     "start_time": "2025-03-12T02:07:14.728660",
     "status": "completed"
    },
    "tags": []
   },
   "outputs": [],
   "source": [
    "THRESHOLD = 0.31"
   ]
  },
  {
   "cell_type": "code",
   "execution_count": 47,
   "id": "61b79260",
   "metadata": {
    "execution": {
     "iopub.execute_input": "2025-03-12T02:07:14.796032Z",
     "iopub.status.busy": "2025-03-12T02:07:14.795826Z",
     "iopub.status.idle": "2025-03-12T02:07:15.022969Z",
     "shell.execute_reply": "2025-03-12T02:07:15.021846Z"
    },
    "id": "c6PdKiReUT0H",
    "papermill": {
     "duration": 0.250473,
     "end_time": "2025-03-12T02:07:15.024317",
     "exception": false,
     "start_time": "2025-03-12T02:07:14.773844",
     "status": "completed"
    },
    "tags": []
   },
   "outputs": [
    {
     "name": "stdout",
     "output_type": "stream",
     "text": [
      "[0, 0, 0, 0, 0, 0, 0, 0, 0, 0, 0, 0]\n"
     ]
    }
   ],
   "source": [
    "def predict(texts):\n",
    "    inputs = tokenizer(texts, max_length=MAX_LENGTH, truncation=True, return_tensors=\"pt\")\n",
    "    with torch.no_grad():\n",
    "        outputs = model(**inputs)\n",
    "        probs = torch.sigmoid(outputs.logits).cpu().numpy()\n",
    "    output = (probs[0] > THRESHOLD).astype(int)\n",
    "    return output.tolist()\n",
    "\n",
    "\n",
    "texts = [\"ข้อความภาษาไทยทดสอบ\"]\n",
    "predictions = predict(texts)\n",
    "print(predictions)\n"
   ]
  },
  {
   "cell_type": "code",
   "execution_count": 48,
   "id": "30310819",
   "metadata": {
    "execution": {
     "iopub.execute_input": "2025-03-12T02:07:15.066905Z",
     "iopub.status.busy": "2025-03-12T02:07:15.066640Z",
     "iopub.status.idle": "2025-03-12T02:07:15.070240Z",
     "shell.execute_reply": "2025-03-12T02:07:15.069572Z"
    },
    "papermill": {
     "duration": 0.0259,
     "end_time": "2025-03-12T02:07:15.071466",
     "exception": false,
     "start_time": "2025-03-12T02:07:15.045566",
     "status": "completed"
    },
    "tags": []
   },
   "outputs": [],
   "source": [
    "# Define the function to map predictions\n",
    "def map_prediction(example):\n",
    "    pred = example['prediction']  # Already a list of predictions\n",
    "    for idx, label in enumerate(label_cols):\n",
    "        example[label] = pred[idx]\n",
    "    return example"
   ]
  },
  {
   "cell_type": "code",
   "execution_count": 49,
   "id": "93a79207",
   "metadata": {
    "execution": {
     "iopub.execute_input": "2025-03-12T02:07:15.112839Z",
     "iopub.status.busy": "2025-03-12T02:07:15.112621Z",
     "iopub.status.idle": "2025-03-12T02:07:15.503961Z",
     "shell.execute_reply": "2025-03-12T02:07:15.503045Z"
    },
    "papermill": {
     "duration": 0.413387,
     "end_time": "2025-03-12T02:07:15.505280",
     "exception": false,
     "start_time": "2025-03-12T02:07:15.091893",
     "status": "completed"
    },
    "tags": []
   },
   "outputs": [
    {
     "data": {
      "text/html": [
       "<div>\n",
       "<style scoped>\n",
       "    .dataframe tbody tr th:only-of-type {\n",
       "        vertical-align: middle;\n",
       "    }\n",
       "\n",
       "    .dataframe tbody tr th {\n",
       "        vertical-align: top;\n",
       "    }\n",
       "\n",
       "    .dataframe thead th {\n",
       "        text-align: right;\n",
       "    }\n",
       "</style>\n",
       "<table border=\"1\" class=\"dataframe\">\n",
       "  <thead>\n",
       "    <tr style=\"text-align: right;\">\n",
       "      <th></th>\n",
       "      <th>id</th>\n",
       "      <th>comment</th>\n",
       "      <th>สำนักงานตำรวจแห่งชาติ</th>\n",
       "      <th>การรถไฟฟ้าขนส่งมวลชนแห่งประเทศไทย</th>\n",
       "      <th>สภาเด็กและเยาวชนกรุงเทพมหานคร</th>\n",
       "      <th>กรมควบคุมมลพิษ</th>\n",
       "      <th>กรมสรรพสามิต</th>\n",
       "      <th>การไฟฟ้านครหลวง</th>\n",
       "      <th>กรมทางหลวง</th>\n",
       "      <th>สำนักงานประกันสุขภาพแห่งชาติ</th>\n",
       "      <th>การประปานครหลวง</th>\n",
       "      <th>คณะกรรมการการพัฒนาเศรษฐกิจ</th>\n",
       "      <th>กระทรวงการท่องเที่ยวและกีฬา</th>\n",
       "      <th>สำนักงาน กสทช. ศูนย์รับแจ้งปัญหา 1200</th>\n",
       "    </tr>\n",
       "  </thead>\n",
       "  <tbody>\n",
       "    <tr>\n",
       "      <th>5152</th>\n",
       "      <td>5152</td>\n",
       "      <td>ไฟสาธารณะไม่ติด แจ่งเรื่องไปตั้งแต่ n งหา ยังไ...</td>\n",
       "      <td>0</td>\n",
       "      <td>0</td>\n",
       "      <td>0</td>\n",
       "      <td>0</td>\n",
       "      <td>0</td>\n",
       "      <td>1</td>\n",
       "      <td>0</td>\n",
       "      <td>0</td>\n",
       "      <td>0</td>\n",
       "      <td>0</td>\n",
       "      <td>0</td>\n",
       "      <td>0</td>\n",
       "    </tr>\n",
       "    <tr>\n",
       "      <th>9741</th>\n",
       "      <td>9741</td>\n",
       "      <td>พื้นผิวฟุตบาทยุบตัว</td>\n",
       "      <td>0</td>\n",
       "      <td>0</td>\n",
       "      <td>0</td>\n",
       "      <td>0</td>\n",
       "      <td>0</td>\n",
       "      <td>0</td>\n",
       "      <td>0</td>\n",
       "      <td>0</td>\n",
       "      <td>0</td>\n",
       "      <td>0</td>\n",
       "      <td>0</td>\n",
       "      <td>0</td>\n",
       "    </tr>\n",
       "    <tr>\n",
       "      <th>10010</th>\n",
       "      <td>10010</td>\n",
       "      <td>มีต้นไม้นาดใหญ่ล้มต้นซอยรามคำแหง n ต้องใช้รถเฮียบ</td>\n",
       "      <td>0</td>\n",
       "      <td>0</td>\n",
       "      <td>0</td>\n",
       "      <td>0</td>\n",
       "      <td>0</td>\n",
       "      <td>0</td>\n",
       "      <td>0</td>\n",
       "      <td>0</td>\n",
       "      <td>0</td>\n",
       "      <td>0</td>\n",
       "      <td>0</td>\n",
       "      <td>0</td>\n",
       "    </tr>\n",
       "    <tr>\n",
       "      <th>5279</th>\n",
       "      <td>5279</td>\n",
       "      <td>มีบุคคลนำซากรถมาจอดทิ้งไว้</td>\n",
       "      <td>1</td>\n",
       "      <td>0</td>\n",
       "      <td>0</td>\n",
       "      <td>0</td>\n",
       "      <td>0</td>\n",
       "      <td>0</td>\n",
       "      <td>0</td>\n",
       "      <td>0</td>\n",
       "      <td>0</td>\n",
       "      <td>0</td>\n",
       "      <td>0</td>\n",
       "      <td>0</td>\n",
       "    </tr>\n",
       "    <tr>\n",
       "      <th>5684</th>\n",
       "      <td>5684</td>\n",
       "      <td>รบกวนหน่วยงานที่ดูแลพื้นที่ ถนนลาซาล ฝั่งศรีนค...</td>\n",
       "      <td>1</td>\n",
       "      <td>0</td>\n",
       "      <td>0</td>\n",
       "      <td>0</td>\n",
       "      <td>0</td>\n",
       "      <td>0</td>\n",
       "      <td>0</td>\n",
       "      <td>0</td>\n",
       "      <td>0</td>\n",
       "      <td>0</td>\n",
       "      <td>0</td>\n",
       "      <td>0</td>\n",
       "    </tr>\n",
       "  </tbody>\n",
       "</table>\n",
       "</div>"
      ],
      "text/plain": [
       "          id                                            comment  \\\n",
       "5152    5152  ไฟสาธารณะไม่ติด แจ่งเรื่องไปตั้งแต่ n งหา ยังไ...   \n",
       "9741    9741                                พื้นผิวฟุตบาทยุบตัว   \n",
       "10010  10010  มีต้นไม้นาดใหญ่ล้มต้นซอยรามคำแหง n ต้องใช้รถเฮียบ   \n",
       "5279    5279                         มีบุคคลนำซากรถมาจอดทิ้งไว้   \n",
       "5684    5684  รบกวนหน่วยงานที่ดูแลพื้นที่ ถนนลาซาล ฝั่งศรีนค...   \n",
       "\n",
       "       สำนักงานตำรวจแห่งชาติ  การรถไฟฟ้าขนส่งมวลชนแห่งประเทศไทย  \\\n",
       "5152                       0                                  0   \n",
       "9741                       0                                  0   \n",
       "10010                      0                                  0   \n",
       "5279                       1                                  0   \n",
       "5684                       1                                  0   \n",
       "\n",
       "       สภาเด็กและเยาวชนกรุงเทพมหานคร  กรมควบคุมมลพิษ  กรมสรรพสามิต  \\\n",
       "5152                               0               0             0   \n",
       "9741                               0               0             0   \n",
       "10010                              0               0             0   \n",
       "5279                               0               0             0   \n",
       "5684                               0               0             0   \n",
       "\n",
       "       การไฟฟ้านครหลวง  กรมทางหลวง  สำนักงานประกันสุขภาพแห่งชาติ  \\\n",
       "5152                 1           0                             0   \n",
       "9741                 0           0                             0   \n",
       "10010                0           0                             0   \n",
       "5279                 0           0                             0   \n",
       "5684                 0           0                             0   \n",
       "\n",
       "       การประปานครหลวง  คณะกรรมการการพัฒนาเศรษฐกิจ  \\\n",
       "5152                 0                           0   \n",
       "9741                 0                           0   \n",
       "10010                0                           0   \n",
       "5279                 0                           0   \n",
       "5684                 0                           0   \n",
       "\n",
       "       กระทรวงการท่องเที่ยวและกีฬา  สำนักงาน กสทช. ศูนย์รับแจ้งปัญหา 1200  \n",
       "5152                             0                                      0  \n",
       "9741                             0                                      0  \n",
       "10010                            0                                      0  \n",
       "5279                             0                                      0  \n",
       "5684                             0                                      0  "
      ]
     },
     "metadata": {},
     "output_type": "display_data"
    }
   ],
   "source": [
    "sample_df_test = df_test.sample(frac=1)[:5]\n",
    "\n",
    "sample_df_test['prediction'] = sample_df_test['comment'].apply(predict)\n",
    "sample_df_test = sample_df_test.apply(map_prediction, axis=1)\n",
    "sample_df_test.drop(columns=['prediction'], inplace=True)\n",
    "display(sample_df_test)"
   ]
  },
  {
   "cell_type": "code",
   "execution_count": 50,
   "id": "35c84bed",
   "metadata": {
    "execution": {
     "iopub.execute_input": "2025-03-12T02:07:15.548509Z",
     "iopub.status.busy": "2025-03-12T02:07:15.548232Z",
     "iopub.status.idle": "2025-03-12T02:21:02.092067Z",
     "shell.execute_reply": "2025-03-12T02:21:02.091284Z"
    },
    "papermill": {
     "duration": 826.566713,
     "end_time": "2025-03-12T02:21:02.093789",
     "exception": false,
     "start_time": "2025-03-12T02:07:15.527076",
     "status": "completed"
    },
    "tags": []
   },
   "outputs": [],
   "source": [
    "from tqdm import tqdm\n",
    "\n",
    "tqdm.pandas()  # Enable progress_apply\n",
    "df_test['prediction'] = df_test['comment'].apply(predict)\n",
    "\n",
    "#df_test['prediction'] = df_test['comment'].apply(predict)\n",
    "#df_test['prediction'] = df_test['comment'].progress_apply(predict)"
   ]
  },
  {
   "cell_type": "code",
   "execution_count": 51,
   "id": "4f9ec789",
   "metadata": {
    "execution": {
     "iopub.execute_input": "2025-03-12T02:21:02.137621Z",
     "iopub.status.busy": "2025-03-12T02:21:02.137346Z",
     "iopub.status.idle": "2025-03-12T02:21:55.764272Z",
     "shell.execute_reply": "2025-03-12T02:21:55.763259Z"
    },
    "papermill": {
     "duration": 53.650109,
     "end_time": "2025-03-12T02:21:55.765955",
     "exception": false,
     "start_time": "2025-03-12T02:21:02.115846",
     "status": "completed"
    },
    "tags": []
   },
   "outputs": [],
   "source": [
    "# Apply map_prediction function to each row of df_test\n",
    "tqdm.pandas()\n",
    "df_test = df_test.apply(map_prediction, axis=1)"
   ]
  },
  {
   "cell_type": "code",
   "execution_count": 52,
   "id": "e4e72835",
   "metadata": {
    "execution": {
     "iopub.execute_input": "2025-03-12T02:21:55.811455Z",
     "iopub.status.busy": "2025-03-12T02:21:55.811183Z",
     "iopub.status.idle": "2025-03-12T02:21:55.817725Z",
     "shell.execute_reply": "2025-03-12T02:21:55.817049Z"
    },
    "papermill": {
     "duration": 0.030951,
     "end_time": "2025-03-12T02:21:55.818841",
     "exception": false,
     "start_time": "2025-03-12T02:21:55.787890",
     "status": "completed"
    },
    "tags": []
   },
   "outputs": [],
   "source": [
    "output_df = df_test.drop(columns=['prediction'])\n",
    "output_df.drop(columns=['comment'], inplace=True)\n"
   ]
  },
  {
   "cell_type": "code",
   "execution_count": 53,
   "id": "78b50134",
   "metadata": {
    "execution": {
     "iopub.execute_input": "2025-03-12T02:21:55.861345Z",
     "iopub.status.busy": "2025-03-12T02:21:55.861071Z",
     "iopub.status.idle": "2025-03-12T02:21:55.870816Z",
     "shell.execute_reply": "2025-03-12T02:21:55.870073Z"
    },
    "papermill": {
     "duration": 0.032098,
     "end_time": "2025-03-12T02:21:55.871907",
     "exception": false,
     "start_time": "2025-03-12T02:21:55.839809",
     "status": "completed"
    },
    "tags": []
   },
   "outputs": [
    {
     "data": {
      "text/html": [
       "<div>\n",
       "<style scoped>\n",
       "    .dataframe tbody tr th:only-of-type {\n",
       "        vertical-align: middle;\n",
       "    }\n",
       "\n",
       "    .dataframe tbody tr th {\n",
       "        vertical-align: top;\n",
       "    }\n",
       "\n",
       "    .dataframe thead th {\n",
       "        text-align: right;\n",
       "    }\n",
       "</style>\n",
       "<table border=\"1\" class=\"dataframe\">\n",
       "  <thead>\n",
       "    <tr style=\"text-align: right;\">\n",
       "      <th></th>\n",
       "      <th>id</th>\n",
       "      <th>สำนักงานตำรวจแห่งชาติ</th>\n",
       "      <th>การรถไฟฟ้าขนส่งมวลชนแห่งประเทศไทย</th>\n",
       "      <th>สภาเด็กและเยาวชนกรุงเทพมหานคร</th>\n",
       "      <th>กรมควบคุมมลพิษ</th>\n",
       "      <th>กรมสรรพสามิต</th>\n",
       "      <th>การไฟฟ้านครหลวง</th>\n",
       "      <th>กรมทางหลวง</th>\n",
       "      <th>สำนักงานประกันสุขภาพแห่งชาติ</th>\n",
       "      <th>การประปานครหลวง</th>\n",
       "      <th>คณะกรรมการการพัฒนาเศรษฐกิจ</th>\n",
       "      <th>กระทรวงการท่องเที่ยวและกีฬา</th>\n",
       "      <th>สำนักงาน กสทช. ศูนย์รับแจ้งปัญหา 1200</th>\n",
       "    </tr>\n",
       "  </thead>\n",
       "  <tbody>\n",
       "    <tr>\n",
       "      <th>0</th>\n",
       "      <td>0</td>\n",
       "      <td>0</td>\n",
       "      <td>0</td>\n",
       "      <td>0</td>\n",
       "      <td>0</td>\n",
       "      <td>0</td>\n",
       "      <td>0</td>\n",
       "      <td>0</td>\n",
       "      <td>0</td>\n",
       "      <td>0</td>\n",
       "      <td>0</td>\n",
       "      <td>0</td>\n",
       "      <td>0</td>\n",
       "    </tr>\n",
       "    <tr>\n",
       "      <th>1</th>\n",
       "      <td>1</td>\n",
       "      <td>0</td>\n",
       "      <td>0</td>\n",
       "      <td>0</td>\n",
       "      <td>0</td>\n",
       "      <td>0</td>\n",
       "      <td>0</td>\n",
       "      <td>0</td>\n",
       "      <td>0</td>\n",
       "      <td>0</td>\n",
       "      <td>0</td>\n",
       "      <td>0</td>\n",
       "      <td>0</td>\n",
       "    </tr>\n",
       "    <tr>\n",
       "      <th>2</th>\n",
       "      <td>2</td>\n",
       "      <td>0</td>\n",
       "      <td>0</td>\n",
       "      <td>0</td>\n",
       "      <td>0</td>\n",
       "      <td>0</td>\n",
       "      <td>0</td>\n",
       "      <td>0</td>\n",
       "      <td>0</td>\n",
       "      <td>0</td>\n",
       "      <td>0</td>\n",
       "      <td>0</td>\n",
       "      <td>0</td>\n",
       "    </tr>\n",
       "    <tr>\n",
       "      <th>3</th>\n",
       "      <td>3</td>\n",
       "      <td>1</td>\n",
       "      <td>0</td>\n",
       "      <td>0</td>\n",
       "      <td>0</td>\n",
       "      <td>0</td>\n",
       "      <td>0</td>\n",
       "      <td>1</td>\n",
       "      <td>0</td>\n",
       "      <td>0</td>\n",
       "      <td>0</td>\n",
       "      <td>0</td>\n",
       "      <td>0</td>\n",
       "    </tr>\n",
       "    <tr>\n",
       "      <th>4</th>\n",
       "      <td>4</td>\n",
       "      <td>0</td>\n",
       "      <td>0</td>\n",
       "      <td>0</td>\n",
       "      <td>0</td>\n",
       "      <td>0</td>\n",
       "      <td>1</td>\n",
       "      <td>0</td>\n",
       "      <td>0</td>\n",
       "      <td>0</td>\n",
       "      <td>0</td>\n",
       "      <td>0</td>\n",
       "      <td>0</td>\n",
       "    </tr>\n",
       "  </tbody>\n",
       "</table>\n",
       "</div>"
      ],
      "text/plain": [
       "   id  สำนักงานตำรวจแห่งชาติ  การรถไฟฟ้าขนส่งมวลชนแห่งประเทศไทย  \\\n",
       "0   0                      0                                  0   \n",
       "1   1                      0                                  0   \n",
       "2   2                      0                                  0   \n",
       "3   3                      1                                  0   \n",
       "4   4                      0                                  0   \n",
       "\n",
       "   สภาเด็กและเยาวชนกรุงเทพมหานคร  กรมควบคุมมลพิษ  กรมสรรพสามิต  \\\n",
       "0                              0               0             0   \n",
       "1                              0               0             0   \n",
       "2                              0               0             0   \n",
       "3                              0               0             0   \n",
       "4                              0               0             0   \n",
       "\n",
       "   การไฟฟ้านครหลวง  กรมทางหลวง  สำนักงานประกันสุขภาพแห่งชาติ  การประปานครหลวง  \\\n",
       "0                0           0                             0                0   \n",
       "1                0           0                             0                0   \n",
       "2                0           0                             0                0   \n",
       "3                0           1                             0                0   \n",
       "4                1           0                             0                0   \n",
       "\n",
       "   คณะกรรมการการพัฒนาเศรษฐกิจ  กระทรวงการท่องเที่ยวและกีฬา  \\\n",
       "0                           0                            0   \n",
       "1                           0                            0   \n",
       "2                           0                            0   \n",
       "3                           0                            0   \n",
       "4                           0                            0   \n",
       "\n",
       "   สำนักงาน กสทช. ศูนย์รับแจ้งปัญหา 1200  \n",
       "0                                      0  \n",
       "1                                      0  \n",
       "2                                      0  \n",
       "3                                      0  \n",
       "4                                      0  "
      ]
     },
     "execution_count": 53,
     "metadata": {},
     "output_type": "execute_result"
    }
   ],
   "source": [
    "output_df.head()"
   ]
  },
  {
   "cell_type": "markdown",
   "id": "0e0f29f7",
   "metadata": {
    "papermill": {
     "duration": 0.020791,
     "end_time": "2025-03-12T02:21:55.913892",
     "exception": false,
     "start_time": "2025-03-12T02:21:55.893101",
     "status": "completed"
    },
    "tags": []
   },
   "source": [
    "# Save Submission"
   ]
  },
  {
   "cell_type": "code",
   "execution_count": 54,
   "id": "0e8fa0f8",
   "metadata": {
    "execution": {
     "iopub.execute_input": "2025-03-12T02:21:55.962923Z",
     "iopub.status.busy": "2025-03-12T02:21:55.962607Z",
     "iopub.status.idle": "2025-03-12T02:21:55.967927Z",
     "shell.execute_reply": "2025-03-12T02:21:55.966920Z"
    },
    "papermill": {
     "duration": 0.033011,
     "end_time": "2025-03-12T02:21:55.969354",
     "exception": false,
     "start_time": "2025-03-12T02:21:55.936343",
     "status": "completed"
    },
    "tags": []
   },
   "outputs": [
    {
     "data": {
      "text/plain": [
       "(10810, 13)"
      ]
     },
     "execution_count": 54,
     "metadata": {},
     "output_type": "execute_result"
    }
   ],
   "source": [
    "output_df.shape"
   ]
  },
  {
   "cell_type": "code",
   "execution_count": 55,
   "id": "1da0f522",
   "metadata": {
    "execution": {
     "iopub.execute_input": "2025-03-12T02:21:56.018870Z",
     "iopub.status.busy": "2025-03-12T02:21:56.018643Z",
     "iopub.status.idle": "2025-03-12T02:21:56.054862Z",
     "shell.execute_reply": "2025-03-12T02:21:56.054079Z"
    },
    "papermill": {
     "duration": 0.061647,
     "end_time": "2025-03-12T02:21:56.055981",
     "exception": false,
     "start_time": "2025-03-12T02:21:55.994334",
     "status": "completed"
    },
    "tags": []
   },
   "outputs": [
    {
     "name": "stdout",
     "output_type": "stream",
     "text": [
      "os5000-us10000000-0.5-0.05-ml128-b32-1e-th0.31.csv\n"
     ]
    }
   ],
   "source": [
    "csv_path = f'os{oversampling_target}-us{undersampling_theshold}-{a}-{b}-ml{MAX_LENGTH}-b{BATCH_SIZE}-{NUM_EPOCHS}e-th{THRESHOLD}.csv'\n",
    "print(csv_path)\n",
    "\n",
    "# used when submitting notebook\n",
    "csv_path = 'submission.csv'\n",
    "\n",
    "\n",
    "output_df.to_csv(csv_path, index=False)"
   ]
  },
  {
   "cell_type": "markdown",
   "id": "4354db42",
   "metadata": {
    "papermill": {
     "duration": 0.02095,
     "end_time": "2025-03-12T02:21:56.097850",
     "exception": false,
     "start_time": "2025-03-12T02:21:56.076900",
     "status": "completed"
    },
    "tags": []
   },
   "source": [
    "# Evaluation"
   ]
  },
  {
   "cell_type": "code",
   "execution_count": 56,
   "id": "796c1c51",
   "metadata": {
    "execution": {
     "iopub.execute_input": "2025-03-12T02:21:56.141808Z",
     "iopub.status.busy": "2025-03-12T02:21:56.141411Z",
     "iopub.status.idle": "2025-03-12T02:21:56.145736Z",
     "shell.execute_reply": "2025-03-12T02:21:56.144716Z"
    },
    "papermill": {
     "duration": 0.028414,
     "end_time": "2025-03-12T02:21:56.147411",
     "exception": false,
     "start_time": "2025-03-12T02:21:56.118997",
     "status": "completed"
    },
    "tags": []
   },
   "outputs": [],
   "source": [
    "THRESHOLD = 0.3"
   ]
  },
  {
   "cell_type": "markdown",
   "id": "db783c1e",
   "metadata": {
    "papermill": {
     "duration": 0.020661,
     "end_time": "2025-03-12T02:21:56.191266",
     "exception": false,
     "start_time": "2025-03-12T02:21:56.170605",
     "status": "completed"
    },
    "tags": []
   },
   "source": [
    "## Oversampled evaluation"
   ]
  },
  {
   "cell_type": "code",
   "execution_count": 57,
   "id": "be9e1313",
   "metadata": {
    "execution": {
     "iopub.execute_input": "2025-03-12T02:21:56.234235Z",
     "iopub.status.busy": "2025-03-12T02:21:56.233952Z",
     "iopub.status.idle": "2025-03-12T02:21:57.169054Z",
     "shell.execute_reply": "2025-03-12T02:21:57.168130Z"
    },
    "papermill": {
     "duration": 0.958147,
     "end_time": "2025-03-12T02:21:57.170455",
     "exception": false,
     "start_time": "2025-03-12T02:21:56.212308",
     "status": "completed"
    },
    "tags": []
   },
   "outputs": [
    {
     "name": "stderr",
     "output_type": "stream",
     "text": [
      "\u001b[34m\u001b[1mwandb\u001b[0m: Tracking run with wandb version 0.19.1\n",
      "\u001b[34m\u001b[1mwandb\u001b[0m: Run data is saved locally in \u001b[35m\u001b[1m/kaggle/working/wandb/run-20250312_022156-zyllqn7m\u001b[0m\n",
      "\u001b[34m\u001b[1mwandb\u001b[0m: Run \u001b[1m`wandb offline`\u001b[0m to turn off syncing.\n",
      "\u001b[34m\u001b[1mwandb\u001b[0m: Syncing run \u001b[33matomic-star-124\u001b[0m\n",
      "\u001b[34m\u001b[1mwandb\u001b[0m: ⭐️ View project at \u001b[34m\u001b[4mhttps://wandb.ai/kanisornputta/DSDE-midterm\u001b[0m\n",
      "\u001b[34m\u001b[1mwandb\u001b[0m: 🚀 View run at \u001b[34m\u001b[4mhttps://wandb.ai/kanisornputta/DSDE-midterm/runs/zyllqn7m\u001b[0m\n"
     ]
    },
    {
     "data": {
      "text/html": [
       "<button onClick=\"this.nextSibling.style.display='block';this.style.display='none';\">Display W&B run</button><iframe src='https://wandb.ai/kanisornputta/DSDE-midterm/runs/zyllqn7m?jupyter=true' style='border:none;width:100%;height:420px;display:none;'></iframe>"
      ],
      "text/plain": [
       "<wandb.sdk.wandb_run.Run at 0x7fda8071c670>"
      ]
     },
     "execution_count": 57,
     "metadata": {},
     "output_type": "execute_result"
    }
   ],
   "source": [
    "wandb.init(project=\"DSDE-midterm\", config=training_args)"
   ]
  },
  {
   "cell_type": "code",
   "execution_count": 58,
   "id": "fcb05d97",
   "metadata": {
    "execution": {
     "iopub.execute_input": "2025-03-12T02:21:57.215367Z",
     "iopub.status.busy": "2025-03-12T02:21:57.215097Z",
     "iopub.status.idle": "2025-03-12T02:21:57.337156Z",
     "shell.execute_reply": "2025-03-12T02:21:57.336294Z"
    },
    "papermill": {
     "duration": 0.146119,
     "end_time": "2025-03-12T02:21:57.338447",
     "exception": false,
     "start_time": "2025-03-12T02:21:57.192328",
     "status": "completed"
    },
    "tags": []
   },
   "outputs": [
    {
     "data": {
      "text/html": [
       "<div>\n",
       "<style scoped>\n",
       "    .dataframe tbody tr th:only-of-type {\n",
       "        vertical-align: middle;\n",
       "    }\n",
       "\n",
       "    .dataframe tbody tr th {\n",
       "        vertical-align: top;\n",
       "    }\n",
       "\n",
       "    .dataframe thead th {\n",
       "        text-align: right;\n",
       "    }\n",
       "</style>\n",
       "<table border=\"1\" class=\"dataframe\">\n",
       "  <thead>\n",
       "    <tr style=\"text-align: right;\">\n",
       "      <th></th>\n",
       "      <th>สำนักงานตำรวจแห่งชาติ</th>\n",
       "      <th>การรถไฟฟ้าขนส่งมวลชนแห่งประเทศไทย</th>\n",
       "      <th>สภาเด็กและเยาวชนกรุงเทพมหานคร</th>\n",
       "      <th>กรมควบคุมมลพิษ</th>\n",
       "      <th>กรมสรรพสามิต</th>\n",
       "      <th>การไฟฟ้านครหลวง</th>\n",
       "      <th>กรมทางหลวง</th>\n",
       "      <th>สำนักงานประกันสุขภาพแห่งชาติ</th>\n",
       "      <th>การประปานครหลวง</th>\n",
       "      <th>คณะกรรมการการพัฒนาเศรษฐกิจ</th>\n",
       "      <th>กระทรวงการท่องเที่ยวและกีฬา</th>\n",
       "      <th>สำนักงาน กสทช. ศูนย์รับแจ้งปัญหา 1200</th>\n",
       "    </tr>\n",
       "  </thead>\n",
       "  <tbody>\n",
       "    <tr>\n",
       "      <th>0</th>\n",
       "      <td>0</td>\n",
       "      <td>0</td>\n",
       "      <td>0</td>\n",
       "      <td>0</td>\n",
       "      <td>0</td>\n",
       "      <td>0</td>\n",
       "      <td>0</td>\n",
       "      <td>0</td>\n",
       "      <td>0</td>\n",
       "      <td>0</td>\n",
       "      <td>0</td>\n",
       "      <td>0</td>\n",
       "    </tr>\n",
       "    <tr>\n",
       "      <th>1</th>\n",
       "      <td>0</td>\n",
       "      <td>0</td>\n",
       "      <td>0</td>\n",
       "      <td>0</td>\n",
       "      <td>0</td>\n",
       "      <td>0</td>\n",
       "      <td>1</td>\n",
       "      <td>0</td>\n",
       "      <td>0</td>\n",
       "      <td>0</td>\n",
       "      <td>0</td>\n",
       "      <td>0</td>\n",
       "    </tr>\n",
       "    <tr>\n",
       "      <th>2</th>\n",
       "      <td>1</td>\n",
       "      <td>0</td>\n",
       "      <td>0</td>\n",
       "      <td>0</td>\n",
       "      <td>0</td>\n",
       "      <td>0</td>\n",
       "      <td>0</td>\n",
       "      <td>0</td>\n",
       "      <td>0</td>\n",
       "      <td>0</td>\n",
       "      <td>1</td>\n",
       "      <td>0</td>\n",
       "    </tr>\n",
       "    <tr>\n",
       "      <th>3</th>\n",
       "      <td>0</td>\n",
       "      <td>0</td>\n",
       "      <td>1</td>\n",
       "      <td>0</td>\n",
       "      <td>0</td>\n",
       "      <td>0</td>\n",
       "      <td>0</td>\n",
       "      <td>0</td>\n",
       "      <td>0</td>\n",
       "      <td>0</td>\n",
       "      <td>0</td>\n",
       "      <td>0</td>\n",
       "    </tr>\n",
       "    <tr>\n",
       "      <th>4</th>\n",
       "      <td>0</td>\n",
       "      <td>0</td>\n",
       "      <td>0</td>\n",
       "      <td>0</td>\n",
       "      <td>0</td>\n",
       "      <td>1</td>\n",
       "      <td>0</td>\n",
       "      <td>0</td>\n",
       "      <td>0</td>\n",
       "      <td>0</td>\n",
       "      <td>0</td>\n",
       "      <td>0</td>\n",
       "    </tr>\n",
       "  </tbody>\n",
       "</table>\n",
       "</div>"
      ],
      "text/plain": [
       "   สำนักงานตำรวจแห่งชาติ  การรถไฟฟ้าขนส่งมวลชนแห่งประเทศไทย  \\\n",
       "0                      0                                  0   \n",
       "1                      0                                  0   \n",
       "2                      1                                  0   \n",
       "3                      0                                  0   \n",
       "4                      0                                  0   \n",
       "\n",
       "   สภาเด็กและเยาวชนกรุงเทพมหานคร  กรมควบคุมมลพิษ  กรมสรรพสามิต  \\\n",
       "0                              0               0             0   \n",
       "1                              0               0             0   \n",
       "2                              0               0             0   \n",
       "3                              1               0             0   \n",
       "4                              0               0             0   \n",
       "\n",
       "   การไฟฟ้านครหลวง  กรมทางหลวง  สำนักงานประกันสุขภาพแห่งชาติ  การประปานครหลวง  \\\n",
       "0                0           0                             0                0   \n",
       "1                0           1                             0                0   \n",
       "2                0           0                             0                0   \n",
       "3                0           0                             0                0   \n",
       "4                1           0                             0                0   \n",
       "\n",
       "   คณะกรรมการการพัฒนาเศรษฐกิจ  กระทรวงการท่องเที่ยวและกีฬา  \\\n",
       "0                           0                            0   \n",
       "1                           0                            0   \n",
       "2                           0                            1   \n",
       "3                           0                            0   \n",
       "4                           0                            0   \n",
       "\n",
       "   สำนักงาน กสทช. ศูนย์รับแจ้งปัญหา 1200  \n",
       "0                                      0  \n",
       "1                                      0  \n",
       "2                                      0  \n",
       "3                                      0  \n",
       "4                                      0  "
      ]
     },
     "execution_count": 58,
     "metadata": {},
     "output_type": "execute_result"
    }
   ],
   "source": [
    "val_labels_df = pd.DataFrame(val_labels.tolist(), columns=label_cols)\n",
    "val_labels_df.head()"
   ]
  },
  {
   "cell_type": "code",
   "execution_count": 59,
   "id": "b4e44399",
   "metadata": {
    "execution": {
     "iopub.execute_input": "2025-03-12T02:21:57.384113Z",
     "iopub.status.busy": "2025-03-12T02:21:57.383866Z",
     "iopub.status.idle": "2025-03-12T02:25:44.395563Z",
     "shell.execute_reply": "2025-03-12T02:25:44.394677Z"
    },
    "papermill": {
     "duration": 227.035616,
     "end_time": "2025-03-12T02:25:44.396861",
     "exception": false,
     "start_time": "2025-03-12T02:21:57.361245",
     "status": "completed"
    },
    "tags": []
   },
   "outputs": [
    {
     "name": "stderr",
     "output_type": "stream",
     "text": [
      "/usr/local/lib/python3.10/dist-packages/torch/nn/parallel/_functions.py:71: UserWarning: Was asked to gather along dimension 0, but all input tensors were scalars; will instead unsqueeze and return a vector.\n",
      "  warnings.warn(\n"
     ]
    },
    {
     "data": {
      "text/html": [
       "<div>\n",
       "<style scoped>\n",
       "    .dataframe tbody tr th:only-of-type {\n",
       "        vertical-align: middle;\n",
       "    }\n",
       "\n",
       "    .dataframe tbody tr th {\n",
       "        vertical-align: top;\n",
       "    }\n",
       "\n",
       "    .dataframe thead th {\n",
       "        text-align: right;\n",
       "    }\n",
       "</style>\n",
       "<table border=\"1\" class=\"dataframe\">\n",
       "  <thead>\n",
       "    <tr style=\"text-align: right;\">\n",
       "      <th></th>\n",
       "      <th>สำนักงานตำรวจแห่งชาติ</th>\n",
       "      <th>การรถไฟฟ้าขนส่งมวลชนแห่งประเทศไทย</th>\n",
       "      <th>สภาเด็กและเยาวชนกรุงเทพมหานคร</th>\n",
       "      <th>กรมควบคุมมลพิษ</th>\n",
       "      <th>กรมสรรพสามิต</th>\n",
       "      <th>การไฟฟ้านครหลวง</th>\n",
       "      <th>กรมทางหลวง</th>\n",
       "      <th>สำนักงานประกันสุขภาพแห่งชาติ</th>\n",
       "      <th>การประปานครหลวง</th>\n",
       "      <th>คณะกรรมการการพัฒนาเศรษฐกิจ</th>\n",
       "      <th>กระทรวงการท่องเที่ยวและกีฬา</th>\n",
       "      <th>สำนักงาน กสทช. ศูนย์รับแจ้งปัญหา 1200</th>\n",
       "    </tr>\n",
       "  </thead>\n",
       "  <tbody>\n",
       "    <tr>\n",
       "      <th>0</th>\n",
       "      <td>0</td>\n",
       "      <td>0</td>\n",
       "      <td>0</td>\n",
       "      <td>0</td>\n",
       "      <td>0</td>\n",
       "      <td>0</td>\n",
       "      <td>0</td>\n",
       "      <td>0</td>\n",
       "      <td>0</td>\n",
       "      <td>0</td>\n",
       "      <td>0</td>\n",
       "      <td>0</td>\n",
       "    </tr>\n",
       "    <tr>\n",
       "      <th>1</th>\n",
       "      <td>0</td>\n",
       "      <td>0</td>\n",
       "      <td>0</td>\n",
       "      <td>0</td>\n",
       "      <td>0</td>\n",
       "      <td>0</td>\n",
       "      <td>1</td>\n",
       "      <td>0</td>\n",
       "      <td>0</td>\n",
       "      <td>0</td>\n",
       "      <td>0</td>\n",
       "      <td>0</td>\n",
       "    </tr>\n",
       "    <tr>\n",
       "      <th>2</th>\n",
       "      <td>1</td>\n",
       "      <td>0</td>\n",
       "      <td>0</td>\n",
       "      <td>0</td>\n",
       "      <td>0</td>\n",
       "      <td>0</td>\n",
       "      <td>0</td>\n",
       "      <td>0</td>\n",
       "      <td>0</td>\n",
       "      <td>0</td>\n",
       "      <td>1</td>\n",
       "      <td>0</td>\n",
       "    </tr>\n",
       "    <tr>\n",
       "      <th>3</th>\n",
       "      <td>0</td>\n",
       "      <td>0</td>\n",
       "      <td>1</td>\n",
       "      <td>0</td>\n",
       "      <td>0</td>\n",
       "      <td>0</td>\n",
       "      <td>0</td>\n",
       "      <td>0</td>\n",
       "      <td>0</td>\n",
       "      <td>0</td>\n",
       "      <td>0</td>\n",
       "      <td>0</td>\n",
       "    </tr>\n",
       "    <tr>\n",
       "      <th>4</th>\n",
       "      <td>0</td>\n",
       "      <td>0</td>\n",
       "      <td>0</td>\n",
       "      <td>0</td>\n",
       "      <td>0</td>\n",
       "      <td>1</td>\n",
       "      <td>0</td>\n",
       "      <td>0</td>\n",
       "      <td>0</td>\n",
       "      <td>0</td>\n",
       "      <td>0</td>\n",
       "      <td>0</td>\n",
       "    </tr>\n",
       "  </tbody>\n",
       "</table>\n",
       "</div>"
      ],
      "text/plain": [
       "   สำนักงานตำรวจแห่งชาติ  การรถไฟฟ้าขนส่งมวลชนแห่งประเทศไทย  \\\n",
       "0                      0                                  0   \n",
       "1                      0                                  0   \n",
       "2                      1                                  0   \n",
       "3                      0                                  0   \n",
       "4                      0                                  0   \n",
       "\n",
       "   สภาเด็กและเยาวชนกรุงเทพมหานคร  กรมควบคุมมลพิษ  กรมสรรพสามิต  \\\n",
       "0                              0               0             0   \n",
       "1                              0               0             0   \n",
       "2                              0               0             0   \n",
       "3                              1               0             0   \n",
       "4                              0               0             0   \n",
       "\n",
       "   การไฟฟ้านครหลวง  กรมทางหลวง  สำนักงานประกันสุขภาพแห่งชาติ  การประปานครหลวง  \\\n",
       "0                0           0                             0                0   \n",
       "1                0           1                             0                0   \n",
       "2                0           0                             0                0   \n",
       "3                0           0                             0                0   \n",
       "4                1           0                             0                0   \n",
       "\n",
       "   คณะกรรมการการพัฒนาเศรษฐกิจ  กระทรวงการท่องเที่ยวและกีฬา  \\\n",
       "0                           0                            0   \n",
       "1                           0                            0   \n",
       "2                           0                            1   \n",
       "3                           0                            0   \n",
       "4                           0                            0   \n",
       "\n",
       "   สำนักงาน กสทช. ศูนย์รับแจ้งปัญหา 1200  \n",
       "0                                      0  \n",
       "1                                      0  \n",
       "2                                      0  \n",
       "3                                      0  \n",
       "4                                      0  "
      ]
     },
     "execution_count": 59,
     "metadata": {},
     "output_type": "execute_result"
    }
   ],
   "source": [
    "predictions = trainer.predict(dataset[\"validation\"])\n",
    "predictions = (torch.sigmoid(torch.tensor(predictions.predictions)) > THRESHOLD).int()\n",
    "predictions_pd = pd.DataFrame(predictions.tolist(), columns=label_cols)\n",
    "predictions_pd.head()"
   ]
  },
  {
   "cell_type": "code",
   "execution_count": 60,
   "id": "47684e74",
   "metadata": {
    "execution": {
     "iopub.execute_input": "2025-03-12T02:25:44.442031Z",
     "iopub.status.busy": "2025-03-12T02:25:44.441793Z",
     "iopub.status.idle": "2025-03-12T02:25:46.003040Z",
     "shell.execute_reply": "2025-03-12T02:25:46.002394Z"
    },
    "papermill": {
     "duration": 1.584916,
     "end_time": "2025-03-12T02:25:46.004312",
     "exception": false,
     "start_time": "2025-03-12T02:25:44.419396",
     "status": "completed"
    },
    "tags": []
   },
   "outputs": [
    {
     "name": "stderr",
     "output_type": "stream",
     "text": [
      "\u001b[34m\u001b[1mwandb\u001b[0m:                                                                                \n",
      "\u001b[34m\u001b[1mwandb\u001b[0m: \n",
      "\u001b[34m\u001b[1mwandb\u001b[0m: Run history:\n",
      "\u001b[34m\u001b[1mwandb\u001b[0m:           test/accuracy ▁\n",
      "\u001b[34m\u001b[1mwandb\u001b[0m:               test/loss ▁\n",
      "\u001b[34m\u001b[1mwandb\u001b[0m:            test/runtime ▁\n",
      "\u001b[34m\u001b[1mwandb\u001b[0m: test/samples_per_second ▁\n",
      "\u001b[34m\u001b[1mwandb\u001b[0m:   test/steps_per_second ▁\n",
      "\u001b[34m\u001b[1mwandb\u001b[0m: \n",
      "\u001b[34m\u001b[1mwandb\u001b[0m: Run summary:\n",
      "\u001b[34m\u001b[1mwandb\u001b[0m:           test/accuracy 0.9784\n",
      "\u001b[34m\u001b[1mwandb\u001b[0m:               test/loss 0.05892\n",
      "\u001b[34m\u001b[1mwandb\u001b[0m:            test/runtime 226.4773\n",
      "\u001b[34m\u001b[1mwandb\u001b[0m: test/samples_per_second 201.804\n",
      "\u001b[34m\u001b[1mwandb\u001b[0m:   test/steps_per_second 3.157\n",
      "\u001b[34m\u001b[1mwandb\u001b[0m: \n",
      "\u001b[34m\u001b[1mwandb\u001b[0m: 🚀 View run \u001b[33matomic-star-124\u001b[0m at: \u001b[34m\u001b[4mhttps://wandb.ai/kanisornputta/DSDE-midterm/runs/zyllqn7m\u001b[0m\n",
      "\u001b[34m\u001b[1mwandb\u001b[0m: ⭐️ View project at: \u001b[34m\u001b[4mhttps://wandb.ai/kanisornputta/DSDE-midterm\u001b[0m\n",
      "\u001b[34m\u001b[1mwandb\u001b[0m: Synced 5 W&B file(s), 0 media file(s), 0 artifact file(s) and 0 other file(s)\n",
      "\u001b[34m\u001b[1mwandb\u001b[0m: Find logs at: \u001b[35m\u001b[1m./wandb/run-20250312_022156-zyllqn7m/logs\u001b[0m\n"
     ]
    }
   ],
   "source": [
    "wandb.finish()"
   ]
  },
  {
   "cell_type": "code",
   "execution_count": 61,
   "id": "e66158b4",
   "metadata": {
    "execution": {
     "iopub.execute_input": "2025-03-12T02:25:46.049518Z",
     "iopub.status.busy": "2025-03-12T02:25:46.049283Z",
     "iopub.status.idle": "2025-03-12T02:25:46.159652Z",
     "shell.execute_reply": "2025-03-12T02:25:46.158689Z"
    },
    "papermill": {
     "duration": 0.134018,
     "end_time": "2025-03-12T02:25:46.160812",
     "exception": false,
     "start_time": "2025-03-12T02:25:46.026794",
     "status": "completed"
    },
    "tags": []
   },
   "outputs": [
    {
     "name": "stdout",
     "output_type": "stream",
     "text": [
      "F1 Macro: 0.7209642228265087\n"
     ]
    }
   ],
   "source": [
    "from sklearn.metrics import f1_score\n",
    "\n",
    "f1_macro = f1_score(val_labels_df, predictions_pd, average='macro')\n",
    "print(f\"F1 Macro: {f1_macro}\") "
   ]
  },
  {
   "cell_type": "code",
   "execution_count": 62,
   "id": "7851597c",
   "metadata": {
    "execution": {
     "iopub.execute_input": "2025-03-12T02:25:46.208022Z",
     "iopub.status.busy": "2025-03-12T02:25:46.207744Z",
     "iopub.status.idle": "2025-03-12T02:25:49.716195Z",
     "shell.execute_reply": "2025-03-12T02:25:49.715348Z"
    },
    "papermill": {
     "duration": 3.533899,
     "end_time": "2025-03-12T02:25:49.717892",
     "exception": false,
     "start_time": "2025-03-12T02:25:46.183993",
     "status": "completed"
    },
    "tags": []
   },
   "outputs": [
    {
     "data": {
      "image/png": "[encoded data removed]",
      "text/plain": [
       "<Figure size 1500x1000 with 12 Axes>"
      ]
     },
     "metadata": {},
     "output_type": "display_data"
    }
   ],
   "source": [
    "# Confusion Matrix\n",
    "from sklearn.metrics import multilabel_confusion_matrix, f1_score\n",
    "\n",
    "import seaborn as sns\n",
    "\n",
    "cm_list = multilabel_confusion_matrix(val_labels_df, predictions_pd)\n",
    "\n",
    "# Create a figure for plotting\n",
    "fig, axes = plt.subplots(3, 4, figsize=(15, 10))  # 3 rows, 4 columns for 12 matrices\n",
    "fig.suptitle(\"Multi-Label Confusion Matrices (12 Labels)\", fontsize=16)\n",
    "\n",
    "# Iterate over each label's confusion matrix\n",
    "for i, ax in enumerate(axes.flat):\n",
    "    cm = cm_list[i]  # Get the confusion matrix for label i\n",
    "    sns.heatmap(cm, annot=True, fmt=\"d\", cmap=\"Blues\", cbar=False, ax=ax)\n",
    "    ax.set_title(f\"Label {i}\")\n",
    "    ax.set_xlabel(\"Predicted\")\n",
    "    ax.set_ylabel(\"Actual\")\n",
    "\n",
    "plt.tight_layout(rect=[0, 0, 1, 0.96])  # Adjust layout to fit the title\n",
    "plt.show()\n",
    "\n"
   ]
  },
  {
   "cell_type": "code",
   "execution_count": 63,
   "id": "f4311fa5",
   "metadata": {
    "execution": {
     "iopub.execute_input": "2025-03-12T02:25:49.767796Z",
     "iopub.status.busy": "2025-03-12T02:25:49.767185Z",
     "iopub.status.idle": "2025-03-12T02:25:49.890361Z",
     "shell.execute_reply": "2025-03-12T02:25:49.889250Z"
    },
    "papermill": {
     "duration": 0.149123,
     "end_time": "2025-03-12T02:25:49.891808",
     "exception": false,
     "start_time": "2025-03-12T02:25:49.742685",
     "status": "completed"
    },
    "tags": []
   },
   "outputs": [
    {
     "name": "stdout",
     "output_type": "stream",
     "text": [
      "Classification Report:\n",
      "               precision    recall  f1-score   support\n",
      "\n",
      "     Label 0       0.85      0.91      0.88     10030\n",
      "     Label 1       0.60      0.31      0.41      1040\n",
      "     Label 2       0.99      1.00      1.00       936\n",
      "     Label 3       0.48      0.62      0.54      1021\n",
      "     Label 4       0.99      1.00      0.99      1006\n",
      "     Label 5       0.71      0.87      0.78      6844\n",
      "     Label 6       0.48      0.14      0.22      1451\n",
      "     Label 7       0.94      0.85      0.89      1016\n",
      "     Label 8       0.67      0.60      0.63       998\n",
      "     Label 9       0.62      0.79      0.70      1143\n",
      "    Label 10       1.00      1.00      1.00      1002\n",
      "    Label 11       0.58      0.63      0.60      1019\n",
      "\n",
      "   micro avg       0.77      0.81      0.79     27506\n",
      "   macro avg       0.74      0.73      0.72     27506\n",
      "weighted avg       0.76      0.81      0.78     27506\n",
      " samples avg       0.45      0.45      0.44     27506\n",
      "\n"
     ]
    },
    {
     "name": "stderr",
     "output_type": "stream",
     "text": [
      "/usr/local/lib/python3.10/dist-packages/sklearn/metrics/_classification.py:1344: UndefinedMetricWarning: Precision and F-score are ill-defined and being set to 0.0 in samples with no predicted labels. Use `zero_division` parameter to control this behavior.\n",
      "  _warn_prf(average, modifier, msg_start, len(result))\n",
      "/usr/local/lib/python3.10/dist-packages/sklearn/metrics/_classification.py:1344: UndefinedMetricWarning: Recall and F-score are ill-defined and being set to 0.0 in samples with no true labels. Use `zero_division` parameter to control this behavior.\n",
      "  _warn_prf(average, modifier, msg_start, len(result))\n"
     ]
    }
   ],
   "source": [
    "from sklearn.metrics import classification_report\n",
    "\n",
    "# Generate classification report\n",
    "report = classification_report(val_labels_df, predictions_pd, target_names=[f\"Label {i}\" for i in range(12)])\n",
    "\n",
    "# Print the report\n",
    "print(\"Classification Report:\\n\", report)\n"
   ]
  },
  {
   "cell_type": "markdown",
   "id": "d3c66c3c",
   "metadata": {
    "papermill": {
     "duration": 0.02489,
     "end_time": "2025-03-12T02:25:49.942754",
     "exception": false,
     "start_time": "2025-03-12T02:25:49.917864",
     "status": "completed"
    },
    "tags": []
   },
   "source": [
    "## Original Evaluation"
   ]
  },
  {
   "cell_type": "code",
   "execution_count": 64,
   "id": "1e808033",
   "metadata": {
    "execution": {
     "iopub.execute_input": "2025-03-12T02:25:49.993848Z",
     "iopub.status.busy": "2025-03-12T02:25:49.993586Z",
     "iopub.status.idle": "2025-03-12T02:25:50.100981Z",
     "shell.execute_reply": "2025-03-12T02:25:50.100023Z"
    },
    "papermill": {
     "duration": 0.134611,
     "end_time": "2025-03-12T02:25:50.102326",
     "exception": false,
     "start_time": "2025-03-12T02:25:49.967715",
     "status": "completed"
    },
    "tags": []
   },
   "outputs": [
    {
     "data": {
      "text/html": [
       "<div>\n",
       "<style scoped>\n",
       "    .dataframe tbody tr th:only-of-type {\n",
       "        vertical-align: middle;\n",
       "    }\n",
       "\n",
       "    .dataframe tbody tr th {\n",
       "        vertical-align: top;\n",
       "    }\n",
       "\n",
       "    .dataframe thead th {\n",
       "        text-align: right;\n",
       "    }\n",
       "</style>\n",
       "<table border=\"1\" class=\"dataframe\">\n",
       "  <thead>\n",
       "    <tr style=\"text-align: right;\">\n",
       "      <th></th>\n",
       "      <th>สำนักงานตำรวจแห่งชาติ</th>\n",
       "      <th>การรถไฟฟ้าขนส่งมวลชนแห่งประเทศไทย</th>\n",
       "      <th>สภาเด็กและเยาวชนกรุงเทพมหานคร</th>\n",
       "      <th>กรมควบคุมมลพิษ</th>\n",
       "      <th>กรมสรรพสามิต</th>\n",
       "      <th>การไฟฟ้านครหลวง</th>\n",
       "      <th>กรมทางหลวง</th>\n",
       "      <th>สำนักงานประกันสุขภาพแห่งชาติ</th>\n",
       "      <th>การประปานครหลวง</th>\n",
       "      <th>คณะกรรมการการพัฒนาเศรษฐกิจ</th>\n",
       "      <th>กระทรวงการท่องเที่ยวและกีฬา</th>\n",
       "      <th>สำนักงาน กสทช. ศูนย์รับแจ้งปัญหา 1200</th>\n",
       "    </tr>\n",
       "  </thead>\n",
       "  <tbody>\n",
       "    <tr>\n",
       "      <th>0</th>\n",
       "      <td>1</td>\n",
       "      <td>0</td>\n",
       "      <td>0</td>\n",
       "      <td>0</td>\n",
       "      <td>0</td>\n",
       "      <td>0</td>\n",
       "      <td>0</td>\n",
       "      <td>0</td>\n",
       "      <td>0</td>\n",
       "      <td>0</td>\n",
       "      <td>0</td>\n",
       "      <td>0</td>\n",
       "    </tr>\n",
       "    <tr>\n",
       "      <th>1</th>\n",
       "      <td>0</td>\n",
       "      <td>0</td>\n",
       "      <td>0</td>\n",
       "      <td>0</td>\n",
       "      <td>0</td>\n",
       "      <td>0</td>\n",
       "      <td>0</td>\n",
       "      <td>0</td>\n",
       "      <td>0</td>\n",
       "      <td>0</td>\n",
       "      <td>0</td>\n",
       "      <td>1</td>\n",
       "    </tr>\n",
       "    <tr>\n",
       "      <th>2</th>\n",
       "      <td>0</td>\n",
       "      <td>0</td>\n",
       "      <td>0</td>\n",
       "      <td>0</td>\n",
       "      <td>0</td>\n",
       "      <td>0</td>\n",
       "      <td>0</td>\n",
       "      <td>0</td>\n",
       "      <td>0</td>\n",
       "      <td>0</td>\n",
       "      <td>0</td>\n",
       "      <td>0</td>\n",
       "    </tr>\n",
       "    <tr>\n",
       "      <th>3</th>\n",
       "      <td>1</td>\n",
       "      <td>0</td>\n",
       "      <td>0</td>\n",
       "      <td>0</td>\n",
       "      <td>0</td>\n",
       "      <td>0</td>\n",
       "      <td>0</td>\n",
       "      <td>0</td>\n",
       "      <td>0</td>\n",
       "      <td>0</td>\n",
       "      <td>0</td>\n",
       "      <td>0</td>\n",
       "    </tr>\n",
       "    <tr>\n",
       "      <th>4</th>\n",
       "      <td>0</td>\n",
       "      <td>0</td>\n",
       "      <td>0</td>\n",
       "      <td>1</td>\n",
       "      <td>0</td>\n",
       "      <td>0</td>\n",
       "      <td>0</td>\n",
       "      <td>0</td>\n",
       "      <td>0</td>\n",
       "      <td>0</td>\n",
       "      <td>0</td>\n",
       "      <td>0</td>\n",
       "    </tr>\n",
       "  </tbody>\n",
       "</table>\n",
       "</div>"
      ],
      "text/plain": [
       "   สำนักงานตำรวจแห่งชาติ  การรถไฟฟ้าขนส่งมวลชนแห่งประเทศไทย  \\\n",
       "0                      1                                  0   \n",
       "1                      0                                  0   \n",
       "2                      0                                  0   \n",
       "3                      1                                  0   \n",
       "4                      0                                  0   \n",
       "\n",
       "   สภาเด็กและเยาวชนกรุงเทพมหานคร  กรมควบคุมมลพิษ  กรมสรรพสามิต  \\\n",
       "0                              0               0             0   \n",
       "1                              0               0             0   \n",
       "2                              0               0             0   \n",
       "3                              0               0             0   \n",
       "4                              0               1             0   \n",
       "\n",
       "   การไฟฟ้านครหลวง  กรมทางหลวง  สำนักงานประกันสุขภาพแห่งชาติ  การประปานครหลวง  \\\n",
       "0                0           0                             0                0   \n",
       "1                0           0                             0                0   \n",
       "2                0           0                             0                0   \n",
       "3                0           0                             0                0   \n",
       "4                0           0                             0                0   \n",
       "\n",
       "   คณะกรรมการการพัฒนาเศรษฐกิจ  กระทรวงการท่องเที่ยวและกีฬา  \\\n",
       "0                           0                            0   \n",
       "1                           0                            0   \n",
       "2                           0                            0   \n",
       "3                           0                            0   \n",
       "4                           0                            0   \n",
       "\n",
       "   สำนักงาน กสทช. ศูนย์รับแจ้งปัญหา 1200  \n",
       "0                                      0  \n",
       "1                                      1  \n",
       "2                                      0  \n",
       "3                                      0  \n",
       "4                                      0  "
      ]
     },
     "execution_count": 64,
     "metadata": {},
     "output_type": "execute_result"
    }
   ],
   "source": [
    "val_labels_df = pd.DataFrame(og_val_labels.tolist(), columns=label_cols)\n",
    "val_labels_df.head()"
   ]
  },
  {
   "cell_type": "code",
   "execution_count": 65,
   "id": "c2b048d1",
   "metadata": {
    "execution": {
     "iopub.execute_input": "2025-03-12T02:25:50.151749Z",
     "iopub.status.busy": "2025-03-12T02:25:50.151472Z",
     "iopub.status.idle": "2025-03-12T02:25:51.023799Z",
     "shell.execute_reply": "2025-03-12T02:25:51.022969Z"
    },
    "papermill": {
     "duration": 0.89804,
     "end_time": "2025-03-12T02:25:51.025100",
     "exception": false,
     "start_time": "2025-03-12T02:25:50.127060",
     "status": "completed"
    },
    "tags": []
   },
   "outputs": [
    {
     "name": "stderr",
     "output_type": "stream",
     "text": [
      "\u001b[34m\u001b[1mwandb\u001b[0m: Tracking run with wandb version 0.19.1\n",
      "\u001b[34m\u001b[1mwandb\u001b[0m: Run data is saved locally in \u001b[35m\u001b[1m/kaggle/working/wandb/run-20250312_022550-sh42q693\u001b[0m\n",
      "\u001b[34m\u001b[1mwandb\u001b[0m: Run \u001b[1m`wandb offline`\u001b[0m to turn off syncing.\n",
      "\u001b[34m\u001b[1mwandb\u001b[0m: Syncing run \u001b[33mcurious-resonance-125\u001b[0m\n",
      "\u001b[34m\u001b[1mwandb\u001b[0m: ⭐️ View project at \u001b[34m\u001b[4mhttps://wandb.ai/kanisornputta/DSDE-midterm\u001b[0m\n",
      "\u001b[34m\u001b[1mwandb\u001b[0m: 🚀 View run at \u001b[34m\u001b[4mhttps://wandb.ai/kanisornputta/DSDE-midterm/runs/sh42q693\u001b[0m\n"
     ]
    },
    {
     "data": {
      "text/html": [
       "<button onClick=\"this.nextSibling.style.display='block';this.style.display='none';\">Display W&B run</button><iframe src='https://wandb.ai/kanisornputta/DSDE-midterm/runs/sh42q693?jupyter=true' style='border:none;width:100%;height:420px;display:none;'></iframe>"
      ],
      "text/plain": [
       "<wandb.sdk.wandb_run.Run at 0x7fd945b5dbd0>"
      ]
     },
     "execution_count": 65,
     "metadata": {},
     "output_type": "execute_result"
    }
   ],
   "source": [
    "wandb.init(project=\"DSDE-midterm\", config=training_args)"
   ]
  },
  {
   "cell_type": "code",
   "execution_count": 66,
   "id": "ab234572",
   "metadata": {
    "execution": {
     "iopub.execute_input": "2025-03-12T02:25:51.076265Z",
     "iopub.status.busy": "2025-03-12T02:25:51.076017Z",
     "iopub.status.idle": "2025-03-12T02:29:14.897689Z",
     "shell.execute_reply": "2025-03-12T02:29:14.896767Z"
    },
    "papermill": {
     "duration": 203.848924,
     "end_time": "2025-03-12T02:29:14.899185",
     "exception": false,
     "start_time": "2025-03-12T02:25:51.050261",
     "status": "completed"
    },
    "tags": []
   },
   "outputs": [
    {
     "name": "stderr",
     "output_type": "stream",
     "text": [
      "/usr/local/lib/python3.10/dist-packages/torch/nn/parallel/_functions.py:71: UserWarning: Was asked to gather along dimension 0, but all input tensors were scalars; will instead unsqueeze and return a vector.\n",
      "  warnings.warn(\n"
     ]
    },
    {
     "data": {
      "text/html": [],
      "text/plain": [
       "<IPython.core.display.HTML object>"
      ]
     },
     "metadata": {},
     "output_type": "display_data"
    },
    {
     "data": {
      "text/html": [
       "<div>\n",
       "<style scoped>\n",
       "    .dataframe tbody tr th:only-of-type {\n",
       "        vertical-align: middle;\n",
       "    }\n",
       "\n",
       "    .dataframe tbody tr th {\n",
       "        vertical-align: top;\n",
       "    }\n",
       "\n",
       "    .dataframe thead th {\n",
       "        text-align: right;\n",
       "    }\n",
       "</style>\n",
       "<table border=\"1\" class=\"dataframe\">\n",
       "  <thead>\n",
       "    <tr style=\"text-align: right;\">\n",
       "      <th></th>\n",
       "      <th>สำนักงานตำรวจแห่งชาติ</th>\n",
       "      <th>การรถไฟฟ้าขนส่งมวลชนแห่งประเทศไทย</th>\n",
       "      <th>สภาเด็กและเยาวชนกรุงเทพมหานคร</th>\n",
       "      <th>กรมควบคุมมลพิษ</th>\n",
       "      <th>กรมสรรพสามิต</th>\n",
       "      <th>การไฟฟ้านครหลวง</th>\n",
       "      <th>กรมทางหลวง</th>\n",
       "      <th>สำนักงานประกันสุขภาพแห่งชาติ</th>\n",
       "      <th>การประปานครหลวง</th>\n",
       "      <th>คณะกรรมการการพัฒนาเศรษฐกิจ</th>\n",
       "      <th>กระทรวงการท่องเที่ยวและกีฬา</th>\n",
       "      <th>สำนักงาน กสทช. ศูนย์รับแจ้งปัญหา 1200</th>\n",
       "    </tr>\n",
       "  </thead>\n",
       "  <tbody>\n",
       "    <tr>\n",
       "      <th>0</th>\n",
       "      <td>1</td>\n",
       "      <td>0</td>\n",
       "      <td>0</td>\n",
       "      <td>0</td>\n",
       "      <td>0</td>\n",
       "      <td>0</td>\n",
       "      <td>0</td>\n",
       "      <td>0</td>\n",
       "      <td>0</td>\n",
       "      <td>0</td>\n",
       "      <td>0</td>\n",
       "      <td>0</td>\n",
       "    </tr>\n",
       "    <tr>\n",
       "      <th>1</th>\n",
       "      <td>0</td>\n",
       "      <td>0</td>\n",
       "      <td>0</td>\n",
       "      <td>0</td>\n",
       "      <td>0</td>\n",
       "      <td>1</td>\n",
       "      <td>0</td>\n",
       "      <td>0</td>\n",
       "      <td>0</td>\n",
       "      <td>0</td>\n",
       "      <td>0</td>\n",
       "      <td>1</td>\n",
       "    </tr>\n",
       "    <tr>\n",
       "      <th>2</th>\n",
       "      <td>0</td>\n",
       "      <td>0</td>\n",
       "      <td>0</td>\n",
       "      <td>0</td>\n",
       "      <td>0</td>\n",
       "      <td>0</td>\n",
       "      <td>0</td>\n",
       "      <td>0</td>\n",
       "      <td>0</td>\n",
       "      <td>0</td>\n",
       "      <td>0</td>\n",
       "      <td>0</td>\n",
       "    </tr>\n",
       "    <tr>\n",
       "      <th>3</th>\n",
       "      <td>1</td>\n",
       "      <td>0</td>\n",
       "      <td>0</td>\n",
       "      <td>0</td>\n",
       "      <td>0</td>\n",
       "      <td>0</td>\n",
       "      <td>0</td>\n",
       "      <td>0</td>\n",
       "      <td>0</td>\n",
       "      <td>0</td>\n",
       "      <td>0</td>\n",
       "      <td>0</td>\n",
       "    </tr>\n",
       "    <tr>\n",
       "      <th>4</th>\n",
       "      <td>0</td>\n",
       "      <td>0</td>\n",
       "      <td>0</td>\n",
       "      <td>0</td>\n",
       "      <td>0</td>\n",
       "      <td>0</td>\n",
       "      <td>0</td>\n",
       "      <td>0</td>\n",
       "      <td>0</td>\n",
       "      <td>0</td>\n",
       "      <td>0</td>\n",
       "      <td>0</td>\n",
       "    </tr>\n",
       "  </tbody>\n",
       "</table>\n",
       "</div>"
      ],
      "text/plain": [
       "   สำนักงานตำรวจแห่งชาติ  การรถไฟฟ้าขนส่งมวลชนแห่งประเทศไทย  \\\n",
       "0                      1                                  0   \n",
       "1                      0                                  0   \n",
       "2                      0                                  0   \n",
       "3                      1                                  0   \n",
       "4                      0                                  0   \n",
       "\n",
       "   สภาเด็กและเยาวชนกรุงเทพมหานคร  กรมควบคุมมลพิษ  กรมสรรพสามิต  \\\n",
       "0                              0               0             0   \n",
       "1                              0               0             0   \n",
       "2                              0               0             0   \n",
       "3                              0               0             0   \n",
       "4                              0               0             0   \n",
       "\n",
       "   การไฟฟ้านครหลวง  กรมทางหลวง  สำนักงานประกันสุขภาพแห่งชาติ  การประปานครหลวง  \\\n",
       "0                0           0                             0                0   \n",
       "1                1           0                             0                0   \n",
       "2                0           0                             0                0   \n",
       "3                0           0                             0                0   \n",
       "4                0           0                             0                0   \n",
       "\n",
       "   คณะกรรมการการพัฒนาเศรษฐกิจ  กระทรวงการท่องเที่ยวและกีฬา  \\\n",
       "0                           0                            0   \n",
       "1                           0                            0   \n",
       "2                           0                            0   \n",
       "3                           0                            0   \n",
       "4                           0                            0   \n",
       "\n",
       "   สำนักงาน กสทช. ศูนย์รับแจ้งปัญหา 1200  \n",
       "0                                      0  \n",
       "1                                      1  \n",
       "2                                      0  \n",
       "3                                      0  \n",
       "4                                      0  "
      ]
     },
     "execution_count": 66,
     "metadata": {},
     "output_type": "execute_result"
    }
   ],
   "source": [
    "predictions = trainer.predict(og_val_dataset)\n",
    "predictions = (torch.sigmoid(torch.tensor(predictions.predictions)) > THRESHOLD).int()\n",
    "predictions_pd = pd.DataFrame(predictions.tolist(), columns=label_cols)\n",
    "predictions_pd.head()"
   ]
  },
  {
   "cell_type": "code",
   "execution_count": 67,
   "id": "a3da4f35",
   "metadata": {
    "execution": {
     "iopub.execute_input": "2025-03-12T02:29:14.949821Z",
     "iopub.status.busy": "2025-03-12T02:29:14.949588Z",
     "iopub.status.idle": "2025-03-12T02:29:16.551119Z",
     "shell.execute_reply": "2025-03-12T02:29:16.550496Z"
    },
    "papermill": {
     "duration": 1.62754,
     "end_time": "2025-03-12T02:29:16.552413",
     "exception": false,
     "start_time": "2025-03-12T02:29:14.924873",
     "status": "completed"
    },
    "tags": []
   },
   "outputs": [
    {
     "name": "stderr",
     "output_type": "stream",
     "text": [
      "\u001b[34m\u001b[1mwandb\u001b[0m:                                                                                \n",
      "\u001b[34m\u001b[1mwandb\u001b[0m: \n",
      "\u001b[34m\u001b[1mwandb\u001b[0m: Run history:\n",
      "\u001b[34m\u001b[1mwandb\u001b[0m:           test/accuracy ▁\n",
      "\u001b[34m\u001b[1mwandb\u001b[0m:               test/loss ▁\n",
      "\u001b[34m\u001b[1mwandb\u001b[0m:            test/runtime ▁\n",
      "\u001b[34m\u001b[1mwandb\u001b[0m: test/samples_per_second ▁\n",
      "\u001b[34m\u001b[1mwandb\u001b[0m:   test/steps_per_second ▁\n",
      "\u001b[34m\u001b[1mwandb\u001b[0m: \n",
      "\u001b[34m\u001b[1mwandb\u001b[0m: Run summary:\n",
      "\u001b[34m\u001b[1mwandb\u001b[0m:           test/accuracy 0.97764\n",
      "\u001b[34m\u001b[1mwandb\u001b[0m:               test/loss 0.05821\n",
      "\u001b[34m\u001b[1mwandb\u001b[0m:            test/runtime 203.261\n",
      "\u001b[34m\u001b[1mwandb\u001b[0m: test/samples_per_second 201.342\n",
      "\u001b[34m\u001b[1mwandb\u001b[0m:   test/steps_per_second 3.149\n",
      "\u001b[34m\u001b[1mwandb\u001b[0m: \n",
      "\u001b[34m\u001b[1mwandb\u001b[0m: 🚀 View run \u001b[33mcurious-resonance-125\u001b[0m at: \u001b[34m\u001b[4mhttps://wandb.ai/kanisornputta/DSDE-midterm/runs/sh42q693\u001b[0m\n",
      "\u001b[34m\u001b[1mwandb\u001b[0m: ⭐️ View project at: \u001b[34m\u001b[4mhttps://wandb.ai/kanisornputta/DSDE-midterm\u001b[0m\n",
      "\u001b[34m\u001b[1mwandb\u001b[0m: Synced 5 W&B file(s), 0 media file(s), 0 artifact file(s) and 0 other file(s)\n",
      "\u001b[34m\u001b[1mwandb\u001b[0m: Find logs at: \u001b[35m\u001b[1m./wandb/run-20250312_022550-sh42q693/logs\u001b[0m\n"
     ]
    }
   ],
   "source": [
    "wandb.finish()"
   ]
  },
  {
   "cell_type": "code",
   "execution_count": 68,
   "id": "9ece58fc",
   "metadata": {
    "execution": {
     "iopub.execute_input": "2025-03-12T02:29:16.603742Z",
     "iopub.status.busy": "2025-03-12T02:29:16.603525Z",
     "iopub.status.idle": "2025-03-12T02:29:16.693350Z",
     "shell.execute_reply": "2025-03-12T02:29:16.692255Z"
    },
    "papermill": {
     "duration": 0.116518,
     "end_time": "2025-03-12T02:29:16.694860",
     "exception": false,
     "start_time": "2025-03-12T02:29:16.578342",
     "status": "completed"
    },
    "tags": []
   },
   "outputs": [
    {
     "name": "stdout",
     "output_type": "stream",
     "text": [
      "F1 Macro: 0.5140777955468284\n"
     ]
    }
   ],
   "source": [
    "from sklearn.metrics import f1_score\n",
    "\n",
    "f1_macro = f1_score(val_labels_df, predictions_pd, average='macro')\n",
    "print(f\"F1 Macro: {f1_macro}\") "
   ]
  },
  {
   "cell_type": "code",
   "execution_count": 69,
   "id": "21e977e0",
   "metadata": {
    "execution": {
     "iopub.execute_input": "2025-03-12T02:29:16.747940Z",
     "iopub.status.busy": "2025-03-12T02:29:16.747693Z",
     "iopub.status.idle": "2025-03-12T02:29:19.838952Z",
     "shell.execute_reply": "2025-03-12T02:29:19.838022Z"
    },
    "papermill": {
     "duration": 3.117694,
     "end_time": "2025-03-12T02:29:19.840281",
     "exception": false,
     "start_time": "2025-03-12T02:29:16.722587",
     "status": "completed"
    },
    "tags": []
   },
   "outputs": [
    {
     "data": {
      "image/png": "[encoded data removed]",
      "text/plain": [
       "<Figure size 1500x1000 with 12 Axes>"
      ]
     },
     "metadata": {},
     "output_type": "display_data"
    }
   ],
   "source": [
    "# Confusion Matrix\n",
    "from sklearn.metrics import multilabel_confusion_matrix, f1_score\n",
    "\n",
    "import seaborn as sns\n",
    "\n",
    "cm_list = multilabel_confusion_matrix(val_labels_df, predictions_pd)\n",
    "\n",
    "# Create a figure for plotting\n",
    "fig, axes = plt.subplots(3, 4, figsize=(15, 10))  # 3 rows, 4 columns for 12 matrices\n",
    "fig.suptitle(\"Multi-Label Confusion Matrices (12 Labels)\", fontsize=16)\n",
    "\n",
    "# Iterate over each label's confusion matrix\n",
    "for i, ax in enumerate(axes.flat):\n",
    "    cm = cm_list[i]  # Get the confusion matrix for label i\n",
    "    sns.heatmap(cm, annot=True, fmt=\"d\", cmap=\"Blues\", cbar=False, ax=ax)\n",
    "    ax.set_title(f\"Label {i}\")\n",
    "    ax.set_xlabel(\"Predicted\")\n",
    "    ax.set_ylabel(\"Actual\")\n",
    "\n",
    "plt.tight_layout(rect=[0, 0, 1, 0.96])  # Adjust layout to fit the title\n",
    "plt.show()\n",
    "\n"
   ]
  },
  {
   "cell_type": "code",
   "execution_count": 70,
   "id": "cc9957b7",
   "metadata": {
    "execution": {
     "iopub.execute_input": "2025-03-12T02:29:19.895689Z",
     "iopub.status.busy": "2025-03-12T02:29:19.895442Z",
     "iopub.status.idle": "2025-03-12T02:29:19.960024Z",
     "shell.execute_reply": "2025-03-12T02:29:19.958970Z"
    },
    "papermill": {
     "duration": 0.093702,
     "end_time": "2025-03-12T02:29:19.961871",
     "exception": false,
     "start_time": "2025-03-12T02:29:19.868169",
     "status": "completed"
    },
    "tags": []
   },
   "outputs": [
    {
     "name": "stdout",
     "output_type": "stream",
     "text": [
      "Classification Report:\n",
      "               precision    recall  f1-score   support\n",
      "\n",
      "     Label 0       0.84      0.90      0.87      8627\n",
      "     Label 1       0.56      0.32      0.40       812\n",
      "     Label 2       0.20      1.00      0.33         1\n",
      "     Label 3       0.37      0.64      0.47       610\n",
      "     Label 4       0.27      1.00      0.43         3\n",
      "     Label 5       0.71      0.87      0.78      6946\n",
      "     Label 6       0.49      0.14      0.22      1456\n",
      "     Label 7       0.33      0.95      0.49        21\n",
      "     Label 8       0.67      0.59      0.63       995\n",
      "     Label 9       0.54      0.82      0.65       701\n",
      "    Label 10       0.17      1.00      0.29         1\n",
      "    Label 11       0.56      0.64      0.60      1005\n",
      "\n",
      "   micro avg       0.72      0.78      0.75     21178\n",
      "   macro avg       0.48      0.74      0.51     21178\n",
      "weighted avg       0.72      0.78      0.74     21178\n",
      " samples avg       0.39      0.40      0.39     21178\n",
      "\n"
     ]
    },
    {
     "name": "stderr",
     "output_type": "stream",
     "text": [
      "/usr/local/lib/python3.10/dist-packages/sklearn/metrics/_classification.py:1344: UndefinedMetricWarning: Precision and F-score are ill-defined and being set to 0.0 in samples with no predicted labels. Use `zero_division` parameter to control this behavior.\n",
      "  _warn_prf(average, modifier, msg_start, len(result))\n",
      "/usr/local/lib/python3.10/dist-packages/sklearn/metrics/_classification.py:1344: UndefinedMetricWarning: Recall and F-score are ill-defined and being set to 0.0 in samples with no true labels. Use `zero_division` parameter to control this behavior.\n",
      "  _warn_prf(average, modifier, msg_start, len(result))\n"
     ]
    }
   ],
   "source": [
    "from sklearn.metrics import classification_report\n",
    "\n",
    "# Generate classification report\n",
    "report = classification_report(val_labels_df, predictions_pd, target_names=[f\"Label {i}\" for i in range(12)])\n",
    "\n",
    "# Print the report\n",
    "print(\"Classification Report:\\n\", report)"
   ]
  }
 ],
 "metadata": {
  "accelerator": "GPU",
  "colab": {
   "gpuType": "T4",
   "provenance": [],
   "toc_visible": true
  },
  "kaggle": {
   "accelerator": "nvidiaTeslaT4",
   "dataSources": [
    {
     "databundleVersionId": 11094001,
     "sourceId": 93137,
     "sourceType": "competition"
    }
   ],
   "dockerImageVersionId": 30918,
   "isGpuEnabled": true,
   "isInternetEnabled": true,
   "language": "python",
   "sourceType": "notebook"
  },
  "kernelspec": {
   "display_name": "Python 3",
   "language": "python",
   "name": "python3"
  },
  "language_info": {
   "codemirror_mode": {
    "name": "ipython",
    "version": 3
   },
   "file_extension": ".py",
   "mimetype": "text/x-python",
   "name": "python",
   "nbconvert_exporter": "python",
   "pygments_lexer": "ipython3",
   "version": "3.10.12"
  },
  "papermill": {
   "default_parameters": {},
   "duration": 4751.940704,
   "end_time": "2025-03-12T02:29:23.293519",
   "environment_variables": {},
   "exception": null,
   "input_path": "__notebook__.ipynb",
   "output_path": "__notebook__.ipynb",
   "parameters": {},
   "start_time": "2025-03-12T01:10:11.352815",
   "version": "2.6.0"
  },
  "widgets": {
   "application/vnd.jupyter.widget-state+json": {
    "state": {
     "021d9107403c4a1392ed200a535df604": {
      "model_module": "@jupyter-widgets/base",
      "model_module_version": "2.0.0",
      "model_name": "LayoutModel",
      "state": {
       "_model_module": "@jupyter-widgets/base",
       "_model_module_version": "2.0.0",
       "_model_name": "LayoutModel",
       "_view_count": null,
       "_view_module": "@jupyter-widgets/base",
       "_view_module_version": "2.0.0",
       "_view_name": "LayoutView",
       "align_content": null,
       "align_items": null,
       "align_self": null,
       "border_bottom": null,
       "border_left": null,
       "border_right": null,
       "border_top": null,
       "bottom": null,
       "display": null,
       "flex": null,
       "flex_flow": null,
       "grid_area": null,
       "grid_auto_columns": null,
       "grid_auto_flow": null,
       "grid_auto_rows": null,
       "grid_column": null,
       "grid_gap": null,
       "grid_row": null,
       "grid_template_areas": null,
       "grid_template_columns": null,
       "grid_template_rows": null,
       "height": null,
       "justify_content": null,
       "justify_items": null,
       "left": null,
       "margin": null,
       "max_height": null,
       "max_width": null,
       "min_height": null,
       "min_width": null,
       "object_fit": null,
       "object_position": null,
       "order": null,
       "overflow": null,
       "padding": null,
       "right": null,
       "top": null,
       "visibility": null,
       "width": null
      }
     },
     "02a67ca1d4ea4e2599e666351b13e0fb": {
      "model_module": "@jupyter-widgets/base",
      "model_module_version": "2.0.0",
      "model_name": "LayoutModel",
      "state": {
       "_model_module": "@jupyter-widgets/base",
       "_model_module_version": "2.0.0",
       "_model_name": "LayoutModel",
       "_view_count": null,
       "_view_module": "@jupyter-widgets/base",
       "_view_module_version": "2.0.0",
       "_view_name": "LayoutView",
       "align_content": null,
       "align_items": null,
       "align_self": null,
       "border_bottom": null,
       "border_left": null,
       "border_right": null,
       "border_top": null,
       "bottom": null,
       "display": null,
       "flex": null,
       "flex_flow": null,
       "grid_area": null,
       "grid_auto_columns": null,
       "grid_auto_flow": null,
       "grid_auto_rows": null,
       "grid_column": null,
       "grid_gap": null,
       "grid_row": null,
       "grid_template_areas": null,
       "grid_template_columns": null,
       "grid_template_rows": null,
       "height": null,
       "justify_content": null,
       "justify_items": null,
       "left": null,
       "margin": null,
       "max_height": null,
       "max_width": null,
       "min_height": null,
       "min_width": null,
       "object_fit": null,
       "object_position": null,
       "order": null,
       "overflow": null,
       "padding": null,
       "right": null,
       "top": null,
       "visibility": null,
       "width": null
      }
     },
     "068e9417532e4db39d7c5e3c9b7a289f": {
      "model_module": "@jupyter-widgets/controls",
      "model_module_version": "2.0.0",
      "model_name": "FloatProgressModel",
      "state": {
       "_dom_classes": [],
       "_model_module": "@jupyter-widgets/controls",
       "_model_module_version": "2.0.0",
       "_model_name": "FloatProgressModel",
       "_view_count": null,
       "_view_module": "@jupyter-widgets/controls",
       "_view_module_version": "2.0.0",
       "_view_name": "ProgressView",
       "bar_style": "success",
       "description": "",
       "description_allow_html": false,
       "layout": "IPY_MODEL_25d9f156fffc4945905c3c36684e2de1",
       "max": 45704.0,
       "min": 0.0,
       "orientation": "horizontal",
       "style": "IPY_MODEL_4cf4410dd0de49dd9c7bcb290d628d97",
       "tabbable": null,
       "tooltip": null,
       "value": 45704.0
      }
     },
     "08aede93c8384e9984635f9fd7c3d001": {
      "model_module": "@jupyter-widgets/controls",
      "model_module_version": "2.0.0",
      "model_name": "FloatProgressModel",
      "state": {
       "_dom_classes": [],
       "_model_module": "@jupyter-widgets/controls",
       "_model_module_version": "2.0.0",
       "_model_name": "FloatProgressModel",
       "_view_count": null,
       "_view_module": "@jupyter-widgets/controls",
       "_view_module_version": "2.0.0",
       "_view_name": "ProgressView",
       "bar_style": "success",
       "description": "",
       "description_allow_html": false,
       "layout": "IPY_MODEL_48e564fb83874a6db9df75cacca9481d",
       "max": 642.0,
       "min": 0.0,
       "orientation": "horizontal",
       "style": "IPY_MODEL_c4aa14f80da147fdb9535e2e29106a6c",
       "tabbable": null,
       "tooltip": null,
       "value": 642.0
      }
     },
     "0d92ef37dd284d5983272c0f2832f4d3": {
      "model_module": "@jupyter-widgets/base",
      "model_module_version": "2.0.0",
      "model_name": "LayoutModel",
      "state": {
       "_model_module": "@jupyter-widgets/base",
       "_model_module_version": "2.0.0",
       "_model_name": "LayoutModel",
       "_view_count": null,
       "_view_module": "@jupyter-widgets/base",
       "_view_module_version": "2.0.0",
       "_view_name": "LayoutView",
       "align_content": null,
       "align_items": null,
       "align_self": null,
       "border_bottom": null,
       "border_left": null,
       "border_right": null,
       "border_top": null,
       "bottom": null,
       "display": null,
       "flex": null,
       "flex_flow": null,
       "grid_area": null,
       "grid_auto_columns": null,
       "grid_auto_flow": null,
       "grid_auto_rows": null,
       "grid_column": null,
       "grid_gap": null,
       "grid_row": null,
       "grid_template_areas": null,
       "grid_template_columns": null,
       "grid_template_rows": null,
       "height": null,
       "justify_content": null,
       "justify_items": null,
       "left": null,
       "margin": null,
       "max_height": null,
       "max_width": null,
       "min_height": null,
       "min_width": null,
       "object_fit": null,
       "object_position": null,
       "order": null,
       "overflow": null,
       "padding": null,
       "right": null,
       "top": null,
       "visibility": null,
       "width": null
      }
     },
     "0da632ad25a74dfea29c977c10c7a08a": {
      "model_module": "@jupyter-widgets/base",
      "model_module_version": "2.0.0",
      "model_name": "LayoutModel",
      "state": {
       "_model_module": "@jupyter-widgets/base",
       "_model_module_version": "2.0.0",
       "_model_name": "LayoutModel",
       "_view_count": null,
       "_view_module": "@jupyter-widgets/base",
       "_view_module_version": "2.0.0",
       "_view_name": "LayoutView",
       "align_content": null,
       "align_items": null,
       "align_self": null,
       "border_bottom": null,
       "border_left": null,
       "border_right": null,
       "border_top": null,
       "bottom": null,
       "display": null,
       "flex": null,
       "flex_flow": null,
       "grid_area": null,
       "grid_auto_columns": null,
       "grid_auto_flow": null,
       "grid_auto_rows": null,
       "grid_column": null,
       "grid_gap": null,
       "grid_row": null,
       "grid_template_areas": null,
       "grid_template_columns": null,
       "grid_template_rows": null,
       "height": null,
       "justify_content": null,
       "justify_items": null,
       "left": null,
       "margin": null,
       "max_height": null,
       "max_width": null,
       "min_height": null,
       "min_width": null,
       "object_fit": null,
       "object_position": null,
       "order": null,
       "overflow": null,
       "padding": null,
       "right": null,
       "top": null,
       "visibility": null,
       "width": null
      }
     },
     "0eb4463df3234a5f9e4d2bb11303951a": {
      "model_module": "@jupyter-widgets/base",
      "model_module_version": "2.0.0",
      "model_name": "LayoutModel",
      "state": {
       "_model_module": "@jupyter-widgets/base",
       "_model_module_version": "2.0.0",
       "_model_name": "LayoutModel",
       "_view_count": null,
       "_view_module": "@jupyter-widgets/base",
       "_view_module_version": "2.0.0",
       "_view_name": "LayoutView",
       "align_content": null,
       "align_items": null,
       "align_self": null,
       "border_bottom": null,
       "border_left": null,
       "border_right": null,
       "border_top": null,
       "bottom": null,
       "display": null,
       "flex": null,
       "flex_flow": null,
       "grid_area": null,
       "grid_auto_columns": null,
       "grid_auto_flow": null,
       "grid_auto_rows": null,
       "grid_column": null,
       "grid_gap": null,
       "grid_row": null,
       "grid_template_areas": null,
       "grid_template_columns": null,
       "grid_template_rows": null,
       "height": null,
       "justify_content": null,
       "justify_items": null,
       "left": null,
       "margin": null,
       "max_height": null,
       "max_width": null,
       "min_height": null,
       "min_width": null,
       "object_fit": null,
       "object_position": null,
       "order": null,
       "overflow": null,
       "padding": null,
       "right": null,
       "top": null,
       "visibility": null,
       "width": null
      }
     },
     "0f841adcd3a544d3814f142e08d12501": {
      "model_module": "@jupyter-widgets/controls",
      "model_module_version": "2.0.0",
      "model_name": "HTMLModel",
      "state": {
       "_dom_classes": [],
       "_model_module": "@jupyter-widgets/controls",
       "_model_module_version": "2.0.0",
       "_model_name": "HTMLModel",
       "_view_count": null,
       "_view_module": "@jupyter-widgets/controls",
       "_view_module_version": "2.0.0",
       "_view_name": "HTMLView",
       "description": "",
       "description_allow_html": false,
       "layout": "IPY_MODEL_426d371d211d442fa5efb732783b75cc",
       "placeholder": "​",
       "style": "IPY_MODEL_af8e2171792e499ea0d09271fe5aae4a",
       "tabbable": null,
       "tooltip": null,
       "value": " 4.20k/4.20k [00:00&lt;00:00, 305kB/s]"
      }
     },
     "11a4dd68419242039fe4f3e8ef2ea213": {
      "model_module": "@jupyter-widgets/base",
      "model_module_version": "2.0.0",
      "model_name": "LayoutModel",
      "state": {
       "_model_module": "@jupyter-widgets/base",
       "_model_module_version": "2.0.0",
       "_model_name": "LayoutModel",
       "_view_count": null,
       "_view_module": "@jupyter-widgets/base",
       "_view_module_version": "2.0.0",
       "_view_name": "LayoutView",
       "align_content": null,
       "align_items": null,
       "align_self": null,
       "border_bottom": null,
       "border_left": null,
       "border_right": null,
       "border_top": null,
       "bottom": null,
       "display": null,
       "flex": null,
       "flex_flow": null,
       "grid_area": null,
       "grid_auto_columns": null,
       "grid_auto_flow": null,
       "grid_auto_rows": null,
       "grid_column": null,
       "grid_gap": null,
       "grid_row": null,
       "grid_template_areas": null,
       "grid_template_columns": null,
       "grid_template_rows": null,
       "height": null,
       "justify_content": null,
       "justify_items": null,
       "left": null,
       "margin": null,
       "max_height": null,
       "max_width": null,
       "min_height": null,
       "min_width": null,
       "object_fit": null,
       "object_position": null,
       "order": null,
       "overflow": null,
       "padding": null,
       "right": null,
       "top": null,
       "visibility": null,
       "width": null
      }
     },
     "11ce4338a3b2497984a8e14b3b09018d": {
      "model_module": "@jupyter-widgets/base",
      "model_module_version": "2.0.0",
      "model_name": "LayoutModel",
      "state": {
       "_model_module": "@jupyter-widgets/base",
       "_model_module_version": "2.0.0",
       "_model_name": "LayoutModel",
       "_view_count": null,
       "_view_module": "@jupyter-widgets/base",
       "_view_module_version": "2.0.0",
       "_view_name": "LayoutView",
       "align_content": null,
       "align_items": null,
       "align_self": null,
       "border_bottom": null,
       "border_left": null,
       "border_right": null,
       "border_top": null,
       "bottom": null,
       "display": null,
       "flex": null,
       "flex_flow": null,
       "grid_area": null,
       "grid_auto_columns": null,
       "grid_auto_flow": null,
       "grid_auto_rows": null,
       "grid_column": null,
       "grid_gap": null,
       "grid_row": null,
       "grid_template_areas": null,
       "grid_template_columns": null,
       "grid_template_rows": null,
       "height": null,
       "justify_content": null,
       "justify_items": null,
       "left": null,
       "margin": null,
       "max_height": null,
       "max_width": null,
       "min_height": null,
       "min_width": null,
       "object_fit": null,
       "object_position": null,
       "order": null,
       "overflow": null,
       "padding": null,
       "right": null,
       "top": null,
       "visibility": null,
       "width": null
      }
     },
     "13a434ed06d9424d88ed02a79ee10a59": {
      "model_module": "@jupyter-widgets/controls",
      "model_module_version": "2.0.0",
      "model_name": "HTMLStyleModel",
      "state": {
       "_model_module": "@jupyter-widgets/controls",
       "_model_module_version": "2.0.0",
       "_model_name": "HTMLStyleModel",
       "_view_count": null,
       "_view_module": "@jupyter-widgets/base",
       "_view_module_version": "2.0.0",
       "_view_name": "StyleView",
       "background": null,
       "description_width": "",
       "font_size": null,
       "text_color": null
      }
     },
     "13aac51884c742b68de16006d845529c": {
      "model_module": "@jupyter-widgets/controls",
      "model_module_version": "2.0.0",
      "model_name": "HBoxModel",
      "state": {
       "_dom_classes": [],
       "_model_module": "@jupyter-widgets/controls",
       "_model_module_version": "2.0.0",
       "_model_name": "HBoxModel",
       "_view_count": null,
       "_view_module": "@jupyter-widgets/controls",
       "_view_module_version": "2.0.0",
       "_view_name": "HBoxView",
       "box_style": "",
       "children": [
        "IPY_MODEL_5e32a487d7ef4c00b4f5ccb05f3db170",
        "IPY_MODEL_3ce02d45de0d4c778502fe57b3a7684c",
        "IPY_MODEL_cb76cf03dcee45bb9a630c3eafea724e"
       ],
       "layout": "IPY_MODEL_84438b35050b4d59b08c1f4103f312c1",
       "tabbable": null,
       "tooltip": null
      }
     },
     "177850a9335a43e98f930bab0deee7f1": {
      "model_module": "@jupyter-widgets/controls",
      "model_module_version": "2.0.0",
      "model_name": "ProgressStyleModel",
      "state": {
       "_model_module": "@jupyter-widgets/controls",
       "_model_module_version": "2.0.0",
       "_model_name": "ProgressStyleModel",
       "_view_count": null,
       "_view_module": "@jupyter-widgets/base",
       "_view_module_version": "2.0.0",
       "_view_name": "StyleView",
       "bar_color": null,
       "description_width": ""
      }
     },
     "1a30e4d131aa486c8ef52369cffd15b3": {
      "model_module": "@jupyter-widgets/base",
      "model_module_version": "2.0.0",
      "model_name": "LayoutModel",
      "state": {
       "_model_module": "@jupyter-widgets/base",
       "_model_module_version": "2.0.0",
       "_model_name": "LayoutModel",
       "_view_count": null,
       "_view_module": "@jupyter-widgets/base",
       "_view_module_version": "2.0.0",
       "_view_name": "LayoutView",
       "align_content": null,
       "align_items": null,
       "align_self": null,
       "border_bottom": null,
       "border_left": null,
       "border_right": null,
       "border_top": null,
       "bottom": null,
       "display": null,
       "flex": null,
       "flex_flow": null,
       "grid_area": null,
       "grid_auto_columns": null,
       "grid_auto_flow": null,
       "grid_auto_rows": null,
       "grid_column": null,
       "grid_gap": null,
       "grid_row": null,
       "grid_template_areas": null,
       "grid_template_columns": null,
       "grid_template_rows": null,
       "height": null,
       "justify_content": null,
       "justify_items": null,
       "left": null,
       "margin": null,
       "max_height": null,
       "max_width": null,
       "min_height": null,
       "min_width": null,
       "object_fit": null,
       "object_position": null,
       "order": null,
       "overflow": null,
       "padding": null,
       "right": null,
       "top": null,
       "visibility": null,
       "width": null
      }
     },
     "1d042511fc424572afcdd43468a9306b": {
      "model_module": "@jupyter-widgets/controls",
      "model_module_version": "2.0.0",
      "model_name": "HTMLStyleModel",
      "state": {
       "_model_module": "@jupyter-widgets/controls",
       "_model_module_version": "2.0.0",
       "_model_name": "HTMLStyleModel",
       "_view_count": null,
       "_view_module": "@jupyter-widgets/base",
       "_view_module_version": "2.0.0",
       "_view_name": "StyleView",
       "background": null,
       "description_width": "",
       "font_size": null,
       "text_color": null
      }
     },
     "236f74f92bca427895c77f3b050f7202": {
      "model_module": "@jupyter-widgets/base",
      "model_module_version": "2.0.0",
      "model_name": "LayoutModel",
      "state": {
       "_model_module": "@jupyter-widgets/base",
       "_model_module_version": "2.0.0",
       "_model_name": "LayoutModel",
       "_view_count": null,
       "_view_module": "@jupyter-widgets/base",
       "_view_module_version": "2.0.0",
       "_view_name": "LayoutView",
       "align_content": null,
       "align_items": null,
       "align_self": null,
       "border_bottom": null,
       "border_left": null,
       "border_right": null,
       "border_top": null,
       "bottom": null,
       "display": null,
       "flex": null,
       "flex_flow": null,
       "grid_area": null,
       "grid_auto_columns": null,
       "grid_auto_flow": null,
       "grid_auto_rows": null,
       "grid_column": null,
       "grid_gap": null,
       "grid_row": null,
       "grid_template_areas": null,
       "grid_template_columns": null,
       "grid_template_rows": null,
       "height": null,
       "justify_content": null,
       "justify_items": null,
       "left": null,
       "margin": null,
       "max_height": null,
       "max_width": null,
       "min_height": null,
       "min_width": null,
       "object_fit": null,
       "object_position": null,
       "order": null,
       "overflow": null,
       "padding": null,
       "right": null,
       "top": null,
       "visibility": null,
       "width": null
      }
     },
     "242810cac86c41bebb68c9f599b81e24": {
      "model_module": "@jupyter-widgets/controls",
      "model_module_version": "2.0.0",
      "model_name": "HTMLStyleModel",
      "state": {
       "_model_module": "@jupyter-widgets/controls",
       "_model_module_version": "2.0.0",
       "_model_name": "HTMLStyleModel",
       "_view_count": null,
       "_view_module": "@jupyter-widgets/base",
       "_view_module_version": "2.0.0",
       "_view_name": "StyleView",
       "background": null,
       "description_width": "",
       "font_size": null,
       "text_color": null
      }
     },
     "25d9f156fffc4945905c3c36684e2de1": {
      "model_module": "@jupyter-widgets/base",
      "model_module_version": "2.0.0",
      "model_name": "LayoutModel",
      "state": {
       "_model_module": "@jupyter-widgets/base",
       "_model_module_version": "2.0.0",
       "_model_name": "LayoutModel",
       "_view_count": null,
       "_view_module": "@jupyter-widgets/base",
       "_view_module_version": "2.0.0",
       "_view_name": "LayoutView",
       "align_content": null,
       "align_items": null,
       "align_self": null,
       "border_bottom": null,
       "border_left": null,
       "border_right": null,
       "border_top": null,
       "bottom": null,
       "display": null,
       "flex": null,
       "flex_flow": null,
       "grid_area": null,
       "grid_auto_columns": null,
       "grid_auto_flow": null,
       "grid_auto_rows": null,
       "grid_column": null,
       "grid_gap": null,
       "grid_row": null,
       "grid_template_areas": null,
       "grid_template_columns": null,
       "grid_template_rows": null,
       "height": null,
       "justify_content": null,
       "justify_items": null,
       "left": null,
       "margin": null,
       "max_height": null,
       "max_width": null,
       "min_height": null,
       "min_width": null,
       "object_fit": null,
       "object_position": null,
       "order": null,
       "overflow": null,
       "padding": null,
       "right": null,
       "top": null,
       "visibility": null,
       "width": null
      }
     },
     "2c17fe271a66456baa71b371abcd7ef8": {
      "model_module": "@jupyter-widgets/base",
      "model_module_version": "2.0.0",
      "model_name": "LayoutModel",
      "state": {
       "_model_module": "@jupyter-widgets/base",
       "_model_module_version": "2.0.0",
       "_model_name": "LayoutModel",
       "_view_count": null,
       "_view_module": "@jupyter-widgets/base",
       "_view_module_version": "2.0.0",
       "_view_name": "LayoutView",
       "align_content": null,
       "align_items": null,
       "align_self": null,
       "border_bottom": null,
       "border_left": null,
       "border_right": null,
       "border_top": null,
       "bottom": null,
       "display": null,
       "flex": null,
       "flex_flow": null,
       "grid_area": null,
       "grid_auto_columns": null,
       "grid_auto_flow": null,
       "grid_auto_rows": null,
       "grid_column": null,
       "grid_gap": null,
       "grid_row": null,
       "grid_template_areas": null,
       "grid_template_columns": null,
       "grid_template_rows": null,
       "height": null,
       "justify_content": null,
       "justify_items": null,
       "left": null,
       "margin": null,
       "max_height": null,
       "max_width": null,
       "min_height": null,
       "min_width": null,
       "object_fit": null,
       "object_position": null,
       "order": null,
       "overflow": null,
       "padding": null,
       "right": null,
       "top": null,
       "visibility": null,
       "width": null
      }
     },
     "2f2f6dceac464cb1bc2d894f53200e98": {
      "model_module": "@jupyter-widgets/base",
      "model_module_version": "2.0.0",
      "model_name": "LayoutModel",
      "state": {
       "_model_module": "@jupyter-widgets/base",
       "_model_module_version": "2.0.0",
       "_model_name": "LayoutModel",
       "_view_count": null,
       "_view_module": "@jupyter-widgets/base",
       "_view_module_version": "2.0.0",
       "_view_name": "LayoutView",
       "align_content": null,
       "align_items": null,
       "align_self": null,
       "border_bottom": null,
       "border_left": null,
       "border_right": null,
       "border_top": null,
       "bottom": null,
       "display": null,
       "flex": null,
       "flex_flow": null,
       "grid_area": null,
       "grid_auto_columns": null,
       "grid_auto_flow": null,
       "grid_auto_rows": null,
       "grid_column": null,
       "grid_gap": null,
       "grid_row": null,
       "grid_template_areas": null,
       "grid_template_columns": null,
       "grid_template_rows": null,
       "height": null,
       "justify_content": null,
       "justify_items": null,
       "left": null,
       "margin": null,
       "max_height": null,
       "max_width": null,
       "min_height": null,
       "min_width": null,
       "object_fit": null,
       "object_position": null,
       "order": null,
       "overflow": null,
       "padding": null,
       "right": null,
       "top": null,
       "visibility": null,
       "width": null
      }
     },
     "31cacee4d8c948aaa090ac71227f54f8": {
      "model_module": "@jupyter-widgets/base",
      "model_module_version": "2.0.0",
      "model_name": "LayoutModel",
      "state": {
       "_model_module": "@jupyter-widgets/base",
       "_model_module_version": "2.0.0",
       "_model_name": "LayoutModel",
       "_view_count": null,
       "_view_module": "@jupyter-widgets/base",
       "_view_module_version": "2.0.0",
       "_view_name": "LayoutView",
       "align_content": null,
       "align_items": null,
       "align_self": null,
       "border_bottom": null,
       "border_left": null,
       "border_right": null,
       "border_top": null,
       "bottom": null,
       "display": null,
       "flex": null,
       "flex_flow": null,
       "grid_area": null,
       "grid_auto_columns": null,
       "grid_auto_flow": null,
       "grid_auto_rows": null,
       "grid_column": null,
       "grid_gap": null,
       "grid_row": null,
       "grid_template_areas": null,
       "grid_template_columns": null,
       "grid_template_rows": null,
       "height": null,
       "justify_content": null,
       "justify_items": null,
       "left": null,
       "margin": null,
       "max_height": null,
       "max_width": null,
       "min_height": null,
       "min_width": null,
       "object_fit": null,
       "object_position": null,
       "order": null,
       "overflow": null,
       "padding": null,
       "right": null,
       "top": null,
       "visibility": null,
       "width": null
      }
     },
     "34a97b92e9b14412a1211c2010bf3648": {
      "model_module": "@jupyter-widgets/controls",
      "model_module_version": "2.0.0",
      "model_name": "HTMLModel",
      "state": {
       "_dom_classes": [],
       "_model_module": "@jupyter-widgets/controls",
       "_model_module_version": "2.0.0",
       "_model_name": "HTMLModel",
       "_view_count": null,
       "_view_module": "@jupyter-widgets/controls",
       "_view_module_version": "2.0.0",
       "_view_name": "HTMLView",
       "description": "",
       "description_allow_html": false,
       "layout": "IPY_MODEL_b9f78e3e082a4816a6d1b1627d7b5de9",
       "placeholder": "​",
       "style": "IPY_MODEL_4486db51f9384ba8adcd5df490cf4a00",
       "tabbable": null,
       "tooltip": null,
       "value": " 40925/40925 [00:05&lt;00:00, 7193.35 examples/s]"
      }
     },
     "35d8b5c1cd4a4282a7ac3a47384f63eb": {
      "model_module": "@jupyter-widgets/controls",
      "model_module_version": "2.0.0",
      "model_name": "ProgressStyleModel",
      "state": {
       "_model_module": "@jupyter-widgets/controls",
       "_model_module_version": "2.0.0",
       "_model_name": "ProgressStyleModel",
       "_view_count": null,
       "_view_module": "@jupyter-widgets/base",
       "_view_module_version": "2.0.0",
       "_view_name": "StyleView",
       "bar_color": null,
       "description_width": ""
      }
     },
     "3691d192c72f456a937025dd62aafe9d": {
      "model_module": "@jupyter-widgets/base",
      "model_module_version": "2.0.0",
      "model_name": "LayoutModel",
      "state": {
       "_model_module": "@jupyter-widgets/base",
       "_model_module_version": "2.0.0",
       "_model_name": "LayoutModel",
       "_view_count": null,
       "_view_module": "@jupyter-widgets/base",
       "_view_module_version": "2.0.0",
       "_view_name": "LayoutView",
       "align_content": null,
       "align_items": null,
       "align_self": null,
       "border_bottom": null,
       "border_left": null,
       "border_right": null,
       "border_top": null,
       "bottom": null,
       "display": null,
       "flex": null,
       "flex_flow": null,
       "grid_area": null,
       "grid_auto_columns": null,
       "grid_auto_flow": null,
       "grid_auto_rows": null,
       "grid_column": null,
       "grid_gap": null,
       "grid_row": null,
       "grid_template_areas": null,
       "grid_template_columns": null,
       "grid_template_rows": null,
       "height": null,
       "justify_content": null,
       "justify_items": null,
       "left": null,
       "margin": null,
       "max_height": null,
       "max_width": null,
       "min_height": null,
       "min_width": null,
       "object_fit": null,
       "object_position": null,
       "order": null,
       "overflow": null,
       "padding": null,
       "right": null,
       "top": null,
       "visibility": null,
       "width": null
      }
     },
     "3799db9658a14937bfb0b56319f3ef68": {
      "model_module": "@jupyter-widgets/base",
      "model_module_version": "2.0.0",
      "model_name": "LayoutModel",
      "state": {
       "_model_module": "@jupyter-widgets/base",
       "_model_module_version": "2.0.0",
       "_model_name": "LayoutModel",
       "_view_count": null,
       "_view_module": "@jupyter-widgets/base",
       "_view_module_version": "2.0.0",
       "_view_name": "LayoutView",
       "align_content": null,
       "align_items": null,
       "align_self": null,
       "border_bottom": null,
       "border_left": null,
       "border_right": null,
       "border_top": null,
       "bottom": null,
       "display": null,
       "flex": null,
       "flex_flow": null,
       "grid_area": null,
       "grid_auto_columns": null,
       "grid_auto_flow": null,
       "grid_auto_rows": null,
       "grid_column": null,
       "grid_gap": null,
       "grid_row": null,
       "grid_template_areas": null,
       "grid_template_columns": null,
       "grid_template_rows": null,
       "height": null,
       "justify_content": null,
       "justify_items": null,
       "left": null,
       "margin": null,
       "max_height": null,
       "max_width": null,
       "min_height": null,
       "min_width": null,
       "object_fit": null,
       "object_position": null,
       "order": null,
       "overflow": null,
       "padding": null,
       "right": null,
       "top": null,
       "visibility": null,
       "width": null
      }
     },
     "3865c34695b44d008a20fd15ed163b6c": {
      "model_module": "@jupyter-widgets/controls",
      "model_module_version": "2.0.0",
      "model_name": "HTMLStyleModel",
      "state": {
       "_model_module": "@jupyter-widgets/controls",
       "_model_module_version": "2.0.0",
       "_model_name": "HTMLStyleModel",
       "_view_count": null,
       "_view_module": "@jupyter-widgets/base",
       "_view_module_version": "2.0.0",
       "_view_name": "StyleView",
       "background": null,
       "description_width": "",
       "font_size": null,
       "text_color": null
      }
     },
     "3a8725ae63bd4897968c2128c8e5f011": {
      "model_module": "@jupyter-widgets/base",
      "model_module_version": "2.0.0",
      "model_name": "LayoutModel",
      "state": {
       "_model_module": "@jupyter-widgets/base",
       "_model_module_version": "2.0.0",
       "_model_name": "LayoutModel",
       "_view_count": null,
       "_view_module": "@jupyter-widgets/base",
       "_view_module_version": "2.0.0",
       "_view_name": "LayoutView",
       "align_content": null,
       "align_items": null,
       "align_self": null,
       "border_bottom": null,
       "border_left": null,
       "border_right": null,
       "border_top": null,
       "bottom": null,
       "display": null,
       "flex": null,
       "flex_flow": null,
       "grid_area": null,
       "grid_auto_columns": null,
       "grid_auto_flow": null,
       "grid_auto_rows": null,
       "grid_column": null,
       "grid_gap": null,
       "grid_row": null,
       "grid_template_areas": null,
       "grid_template_columns": null,
       "grid_template_rows": null,
       "height": null,
       "justify_content": null,
       "justify_items": null,
       "left": null,
       "margin": null,
       "max_height": null,
       "max_width": null,
       "min_height": null,
       "min_width": null,
       "object_fit": null,
       "object_position": null,
       "order": null,
       "overflow": null,
       "padding": null,
       "right": null,
       "top": null,
       "visibility": null,
       "width": null
      }
     },
     "3c4da29f40ac479fb7bcc7149c3f510d": {
      "model_module": "@jupyter-widgets/controls",
      "model_module_version": "2.0.0",
      "model_name": "HTMLStyleModel",
      "state": {
       "_model_module": "@jupyter-widgets/controls",
       "_model_module_version": "2.0.0",
       "_model_name": "HTMLStyleModel",
       "_view_count": null,
       "_view_module": "@jupyter-widgets/base",
       "_view_module_version": "2.0.0",
       "_view_name": "StyleView",
       "background": null,
       "description_width": "",
       "font_size": null,
       "text_color": null
      }
     },
     "3c53fe2fd96c4ccb836f1dc39617c98c": {
      "model_module": "@jupyter-widgets/controls",
      "model_module_version": "2.0.0",
      "model_name": "ProgressStyleModel",
      "state": {
       "_model_module": "@jupyter-widgets/controls",
       "_model_module_version": "2.0.0",
       "_model_name": "ProgressStyleModel",
       "_view_count": null,
       "_view_module": "@jupyter-widgets/base",
       "_view_module_version": "2.0.0",
       "_view_name": "StyleView",
       "bar_color": null,
       "description_width": ""
      }
     },
     "3ce02d45de0d4c778502fe57b3a7684c": {
      "model_module": "@jupyter-widgets/controls",
      "model_module_version": "2.0.0",
      "model_name": "FloatProgressModel",
      "state": {
       "_dom_classes": [],
       "_model_module": "@jupyter-widgets/controls",
       "_model_module_version": "2.0.0",
       "_model_name": "FloatProgressModel",
       "_view_count": null,
       "_view_module": "@jupyter-widgets/controls",
       "_view_module_version": "2.0.0",
       "_view_name": "ProgressView",
       "bar_style": "success",
       "description": "",
       "description_allow_html": false,
       "layout": "IPY_MODEL_2c17fe271a66456baa71b371abcd7ef8",
       "max": 182816.0,
       "min": 0.0,
       "orientation": "horizontal",
       "style": "IPY_MODEL_3c53fe2fd96c4ccb836f1dc39617c98c",
       "tabbable": null,
       "tooltip": null,
       "value": 182816.0
      }
     },
     "3db5f4ad45ec4a8c9d66b80ea50047b0": {
      "model_module": "@jupyter-widgets/controls",
      "model_module_version": "2.0.0",
      "model_name": "HTMLModel",
      "state": {
       "_dom_classes": [],
       "_model_module": "@jupyter-widgets/controls",
       "_model_module_version": "2.0.0",
       "_model_name": "HTMLModel",
       "_view_count": null,
       "_view_module": "@jupyter-widgets/controls",
       "_view_module_version": "2.0.0",
       "_view_name": "HTMLView",
       "description": "",
       "description_allow_html": false,
       "layout": "IPY_MODEL_8eb181f762ef40e6bbc61ee874a10e81",
       "placeholder": "​",
       "style": "IPY_MODEL_3865c34695b44d008a20fd15ed163b6c",
       "tabbable": null,
       "tooltip": null,
       "value": "tokenizer.json: 100%"
      }
     },
     "3df96225926f47a6a3f38d46a82716f5": {
      "model_module": "@jupyter-widgets/controls",
      "model_module_version": "2.0.0",
      "model_name": "HBoxModel",
      "state": {
       "_dom_classes": [],
       "_model_module": "@jupyter-widgets/controls",
       "_model_module_version": "2.0.0",
       "_model_name": "HBoxModel",
       "_view_count": null,
       "_view_module": "@jupyter-widgets/controls",
       "_view_module_version": "2.0.0",
       "_view_name": "HBoxView",
       "box_style": "",
       "children": [
        "IPY_MODEL_984063dab1b94beb9800d788ae29cb11",
        "IPY_MODEL_d01dbb5042184247b7d91305127b51ff",
        "IPY_MODEL_97bfe81bd76c45c69c8a050097b9d0a5"
       ],
       "layout": "IPY_MODEL_7eb4a842469546a5a8616f952642a7d6",
       "tabbable": null,
       "tooltip": null
      }
     },
     "3f18c4e401fa4ec7aa6656b9f5b70bc0": {
      "model_module": "@jupyter-widgets/controls",
      "model_module_version": "2.0.0",
      "model_name": "FloatProgressModel",
      "state": {
       "_dom_classes": [],
       "_model_module": "@jupyter-widgets/controls",
       "_model_module_version": "2.0.0",
       "_model_name": "FloatProgressModel",
       "_view_count": null,
       "_view_module": "@jupyter-widgets/controls",
       "_view_module_version": "2.0.0",
       "_view_name": "ProgressView",
       "bar_style": "success",
       "description": "",
       "description_allow_html": false,
       "layout": "IPY_MODEL_c063fe7ec47041e4bec36cd51ec945a4",
       "max": 527.0,
       "min": 0.0,
       "orientation": "horizontal",
       "style": "IPY_MODEL_56602da14a8741d48d2cec4338ea6727",
       "tabbable": null,
       "tooltip": null,
       "value": 527.0
      }
     },
     "420efbe0ea2d45c5ac184b1f07e02a25": {
      "model_module": "@jupyter-widgets/controls",
      "model_module_version": "2.0.0",
      "model_name": "HTMLStyleModel",
      "state": {
       "_model_module": "@jupyter-widgets/controls",
       "_model_module_version": "2.0.0",
       "_model_name": "HTMLStyleModel",
       "_view_count": null,
       "_view_module": "@jupyter-widgets/base",
       "_view_module_version": "2.0.0",
       "_view_name": "StyleView",
       "background": null,
       "description_width": "",
       "font_size": null,
       "text_color": null
      }
     },
     "426d371d211d442fa5efb732783b75cc": {
      "model_module": "@jupyter-widgets/base",
      "model_module_version": "2.0.0",
      "model_name": "LayoutModel",
      "state": {
       "_model_module": "@jupyter-widgets/base",
       "_model_module_version": "2.0.0",
       "_model_name": "LayoutModel",
       "_view_count": null,
       "_view_module": "@jupyter-widgets/base",
       "_view_module_version": "2.0.0",
       "_view_name": "LayoutView",
       "align_content": null,
       "align_items": null,
       "align_self": null,
       "border_bottom": null,
       "border_left": null,
       "border_right": null,
       "border_top": null,
       "bottom": null,
       "display": null,
       "flex": null,
       "flex_flow": null,
       "grid_area": null,
       "grid_auto_columns": null,
       "grid_auto_flow": null,
       "grid_auto_rows": null,
       "grid_column": null,
       "grid_gap": null,
       "grid_row": null,
       "grid_template_areas": null,
       "grid_template_columns": null,
       "grid_template_rows": null,
       "height": null,
       "justify_content": null,
       "justify_items": null,
       "left": null,
       "margin": null,
       "max_height": null,
       "max_width": null,
       "min_height": null,
       "min_width": null,
       "object_fit": null,
       "object_position": null,
       "order": null,
       "overflow": null,
       "padding": null,
       "right": null,
       "top": null,
       "visibility": null,
       "width": null
      }
     },
     "4486db51f9384ba8adcd5df490cf4a00": {
      "model_module": "@jupyter-widgets/controls",
      "model_module_version": "2.0.0",
      "model_name": "HTMLStyleModel",
      "state": {
       "_model_module": "@jupyter-widgets/controls",
       "_model_module_version": "2.0.0",
       "_model_name": "HTMLStyleModel",
       "_view_count": null,
       "_view_module": "@jupyter-widgets/base",
       "_view_module_version": "2.0.0",
       "_view_name": "StyleView",
       "background": null,
       "description_width": "",
       "font_size": null,
       "text_color": null
      }
     },
     "4781fa60a2c54c9bbe7d1c8fb0e67e17": {
      "model_module": "@jupyter-widgets/controls",
      "model_module_version": "2.0.0",
      "model_name": "HTMLStyleModel",
      "state": {
       "_model_module": "@jupyter-widgets/controls",
       "_model_module_version": "2.0.0",
       "_model_name": "HTMLStyleModel",
       "_view_count": null,
       "_view_module": "@jupyter-widgets/base",
       "_view_module_version": "2.0.0",
       "_view_name": "StyleView",
       "background": null,
       "description_width": "",
       "font_size": null,
       "text_color": null
      }
     },
     "48e564fb83874a6db9df75cacca9481d": {
      "model_module": "@jupyter-widgets/base",
      "model_module_version": "2.0.0",
      "model_name": "LayoutModel",
      "state": {
       "_model_module": "@jupyter-widgets/base",
       "_model_module_version": "2.0.0",
       "_model_name": "LayoutModel",
       "_view_count": null,
       "_view_module": "@jupyter-widgets/base",
       "_view_module_version": "2.0.0",
       "_view_name": "LayoutView",
       "align_content": null,
       "align_items": null,
       "align_self": null,
       "border_bottom": null,
       "border_left": null,
       "border_right": null,
       "border_top": null,
       "bottom": null,
       "display": null,
       "flex": null,
       "flex_flow": null,
       "grid_area": null,
       "grid_auto_columns": null,
       "grid_auto_flow": null,
       "grid_auto_rows": null,
       "grid_column": null,
       "grid_gap": null,
       "grid_row": null,
       "grid_template_areas": null,
       "grid_template_columns": null,
       "grid_template_rows": null,
       "height": null,
       "justify_content": null,
       "justify_items": null,
       "left": null,
       "margin": null,
       "max_height": null,
       "max_width": null,
       "min_height": null,
       "min_width": null,
       "object_fit": null,
       "object_position": null,
       "order": null,
       "overflow": null,
       "padding": null,
       "right": null,
       "top": null,
       "visibility": null,
       "width": null
      }
     },
     "4b267ea8c26c4302a8dd005197d03acf": {
      "model_module": "@jupyter-widgets/controls",
      "model_module_version": "2.0.0",
      "model_name": "ProgressStyleModel",
      "state": {
       "_model_module": "@jupyter-widgets/controls",
       "_model_module_version": "2.0.0",
       "_model_name": "ProgressStyleModel",
       "_view_count": null,
       "_view_module": "@jupyter-widgets/base",
       "_view_module_version": "2.0.0",
       "_view_name": "StyleView",
       "bar_color": null,
       "description_width": ""
      }
     },
     "4c5db2fb0c1c43a1ad77894a90a45489": {
      "model_module": "@jupyter-widgets/controls",
      "model_module_version": "2.0.0",
      "model_name": "HTMLModel",
      "state": {
       "_dom_classes": [],
       "_model_module": "@jupyter-widgets/controls",
       "_model_module_version": "2.0.0",
       "_model_name": "HTMLModel",
       "_view_count": null,
       "_view_module": "@jupyter-widgets/controls",
       "_view_module_version": "2.0.0",
       "_view_name": "HTMLView",
       "description": "",
       "description_allow_html": false,
       "layout": "IPY_MODEL_9025e819062b4f02bbc272fd38f48a78",
       "placeholder": "​",
       "style": "IPY_MODEL_aef8d5ac32034597a876bab2f20ab258",
       "tabbable": null,
       "tooltip": null,
       "value": "Downloading builder script: 100%"
      }
     },
     "4cf4410dd0de49dd9c7bcb290d628d97": {
      "model_module": "@jupyter-widgets/controls",
      "model_module_version": "2.0.0",
      "model_name": "ProgressStyleModel",
      "state": {
       "_model_module": "@jupyter-widgets/controls",
       "_model_module_version": "2.0.0",
       "_model_name": "ProgressStyleModel",
       "_view_count": null,
       "_view_module": "@jupyter-widgets/base",
       "_view_module_version": "2.0.0",
       "_view_name": "StyleView",
       "bar_color": null,
       "description_width": ""
      }
     },
     "51059056f001414e80ef354add4f322d": {
      "model_module": "@jupyter-widgets/controls",
      "model_module_version": "2.0.0",
      "model_name": "ProgressStyleModel",
      "state": {
       "_model_module": "@jupyter-widgets/controls",
       "_model_module_version": "2.0.0",
       "_model_name": "ProgressStyleModel",
       "_view_count": null,
       "_view_module": "@jupyter-widgets/base",
       "_view_module_version": "2.0.0",
       "_view_name": "StyleView",
       "bar_color": null,
       "description_width": ""
      }
     },
     "56602da14a8741d48d2cec4338ea6727": {
      "model_module": "@jupyter-widgets/controls",
      "model_module_version": "2.0.0",
      "model_name": "ProgressStyleModel",
      "state": {
       "_model_module": "@jupyter-widgets/controls",
       "_model_module_version": "2.0.0",
       "_model_name": "ProgressStyleModel",
       "_view_count": null,
       "_view_module": "@jupyter-widgets/base",
       "_view_module_version": "2.0.0",
       "_view_name": "StyleView",
       "bar_color": null,
       "description_width": ""
      }
     },
     "5664c6d51916425aaf3d0cfaf947f459": {
      "model_module": "@jupyter-widgets/base",
      "model_module_version": "2.0.0",
      "model_name": "LayoutModel",
      "state": {
       "_model_module": "@jupyter-widgets/base",
       "_model_module_version": "2.0.0",
       "_model_name": "LayoutModel",
       "_view_count": null,
       "_view_module": "@jupyter-widgets/base",
       "_view_module_version": "2.0.0",
       "_view_name": "LayoutView",
       "align_content": null,
       "align_items": null,
       "align_self": null,
       "border_bottom": null,
       "border_left": null,
       "border_right": null,
       "border_top": null,
       "bottom": null,
       "display": null,
       "flex": null,
       "flex_flow": null,
       "grid_area": null,
       "grid_auto_columns": null,
       "grid_auto_flow": null,
       "grid_auto_rows": null,
       "grid_column": null,
       "grid_gap": null,
       "grid_row": null,
       "grid_template_areas": null,
       "grid_template_columns": null,
       "grid_template_rows": null,
       "height": null,
       "justify_content": null,
       "justify_items": null,
       "left": null,
       "margin": null,
       "max_height": null,
       "max_width": null,
       "min_height": null,
       "min_width": null,
       "object_fit": null,
       "object_position": null,
       "order": null,
       "overflow": null,
       "padding": null,
       "right": null,
       "top": null,
       "visibility": null,
       "width": null
      }
     },
     "583c80aff5bd4a55917c7f1db4b82ae4": {
      "model_module": "@jupyter-widgets/base",
      "model_module_version": "2.0.0",
      "model_name": "LayoutModel",
      "state": {
       "_model_module": "@jupyter-widgets/base",
       "_model_module_version": "2.0.0",
       "_model_name": "LayoutModel",
       "_view_count": null,
       "_view_module": "@jupyter-widgets/base",
       "_view_module_version": "2.0.0",
       "_view_name": "LayoutView",
       "align_content": null,
       "align_items": null,
       "align_self": null,
       "border_bottom": null,
       "border_left": null,
       "border_right": null,
       "border_top": null,
       "bottom": null,
       "display": null,
       "flex": null,
       "flex_flow": null,
       "grid_area": null,
       "grid_auto_columns": null,
       "grid_auto_flow": null,
       "grid_auto_rows": null,
       "grid_column": null,
       "grid_gap": null,
       "grid_row": null,
       "grid_template_areas": null,
       "grid_template_columns": null,
       "grid_template_rows": null,
       "height": null,
       "justify_content": null,
       "justify_items": null,
       "left": null,
       "margin": null,
       "max_height": null,
       "max_width": null,
       "min_height": null,
       "min_width": null,
       "object_fit": null,
       "object_position": null,
       "order": null,
       "overflow": null,
       "padding": null,
       "right": null,
       "top": null,
       "visibility": null,
       "width": null
      }
     },
     "5cbd75d900e647989a60cd2b8ac34ec6": {
      "model_module": "@jupyter-widgets/controls",
      "model_module_version": "2.0.0",
      "model_name": "HTMLStyleModel",
      "state": {
       "_model_module": "@jupyter-widgets/controls",
       "_model_module_version": "2.0.0",
       "_model_name": "HTMLStyleModel",
       "_view_count": null,
       "_view_module": "@jupyter-widgets/base",
       "_view_module_version": "2.0.0",
       "_view_name": "StyleView",
       "background": null,
       "description_width": "",
       "font_size": null,
       "text_color": null
      }
     },
     "5e32a487d7ef4c00b4f5ccb05f3db170": {
      "model_module": "@jupyter-widgets/controls",
      "model_module_version": "2.0.0",
      "model_name": "HTMLModel",
      "state": {
       "_dom_classes": [],
       "_model_module": "@jupyter-widgets/controls",
       "_model_module_version": "2.0.0",
       "_model_name": "HTMLModel",
       "_view_count": null,
       "_view_module": "@jupyter-widgets/controls",
       "_view_module_version": "2.0.0",
       "_view_name": "HTMLView",
       "description": "",
       "description_allow_html": false,
       "layout": "IPY_MODEL_819f9bd18a4c418882de5169b9321bcb",
       "placeholder": "​",
       "style": "IPY_MODEL_80316de5d5a04b1fab38c4e20b8f65db",
       "tabbable": null,
       "tooltip": null,
       "value": "Map: 100%"
      }
     },
     "60ed80be55084f0db81203601a803918": {
      "model_module": "@jupyter-widgets/base",
      "model_module_version": "2.0.0",
      "model_name": "LayoutModel",
      "state": {
       "_model_module": "@jupyter-widgets/base",
       "_model_module_version": "2.0.0",
       "_model_name": "LayoutModel",
       "_view_count": null,
       "_view_module": "@jupyter-widgets/base",
       "_view_module_version": "2.0.0",
       "_view_name": "LayoutView",
       "align_content": null,
       "align_items": null,
       "align_self": null,
       "border_bottom": null,
       "border_left": null,
       "border_right": null,
       "border_top": null,
       "bottom": null,
       "display": null,
       "flex": null,
       "flex_flow": null,
       "grid_area": null,
       "grid_auto_columns": null,
       "grid_auto_flow": null,
       "grid_auto_rows": null,
       "grid_column": null,
       "grid_gap": null,
       "grid_row": null,
       "grid_template_areas": null,
       "grid_template_columns": null,
       "grid_template_rows": null,
       "height": null,
       "justify_content": null,
       "justify_items": null,
       "left": null,
       "margin": null,
       "max_height": null,
       "max_width": null,
       "min_height": null,
       "min_width": null,
       "object_fit": null,
       "object_position": null,
       "order": null,
       "overflow": null,
       "padding": null,
       "right": null,
       "top": null,
       "visibility": null,
       "width": null
      }
     },
     "63bde2b40cc442d5adacea341c7a639e": {
      "model_module": "@jupyter-widgets/controls",
      "model_module_version": "2.0.0",
      "model_name": "FloatProgressModel",
      "state": {
       "_dom_classes": [],
       "_model_module": "@jupyter-widgets/controls",
       "_model_module_version": "2.0.0",
       "_model_name": "FloatProgressModel",
       "_view_count": null,
       "_view_module": "@jupyter-widgets/controls",
       "_view_module_version": "2.0.0",
       "_view_name": "ProgressView",
       "bar_style": "success",
       "description": "",
       "description_allow_html": false,
       "layout": "IPY_MODEL_11ce4338a3b2497984a8e14b3b09018d",
       "max": 364.0,
       "min": 0.0,
       "orientation": "horizontal",
       "style": "IPY_MODEL_7e82837ac1e94a39b31cea85fb307c87",
       "tabbable": null,
       "tooltip": null,
       "value": 364.0
      }
     },
     "6928c8312e3d43848dbab09e1ecfb5e4": {
      "model_module": "@jupyter-widgets/controls",
      "model_module_version": "2.0.0",
      "model_name": "HTMLStyleModel",
      "state": {
       "_model_module": "@jupyter-widgets/controls",
       "_model_module_version": "2.0.0",
       "_model_name": "HTMLStyleModel",
       "_view_count": null,
       "_view_module": "@jupyter-widgets/base",
       "_view_module_version": "2.0.0",
       "_view_name": "StyleView",
       "background": null,
       "description_width": "",
       "font_size": null,
       "text_color": null
      }
     },
     "7113fd9b2e7c4c42bca6e316d006e6a9": {
      "model_module": "@jupyter-widgets/base",
      "model_module_version": "2.0.0",
      "model_name": "LayoutModel",
      "state": {
       "_model_module": "@jupyter-widgets/base",
       "_model_module_version": "2.0.0",
       "_model_name": "LayoutModel",
       "_view_count": null,
       "_view_module": "@jupyter-widgets/base",
       "_view_module_version": "2.0.0",
       "_view_name": "LayoutView",
       "align_content": null,
       "align_items": null,
       "align_self": null,
       "border_bottom": null,
       "border_left": null,
       "border_right": null,
       "border_top": null,
       "bottom": null,
       "display": null,
       "flex": null,
       "flex_flow": null,
       "grid_area": null,
       "grid_auto_columns": null,
       "grid_auto_flow": null,
       "grid_auto_rows": null,
       "grid_column": null,
       "grid_gap": null,
       "grid_row": null,
       "grid_template_areas": null,
       "grid_template_columns": null,
       "grid_template_rows": null,
       "height": null,
       "justify_content": null,
       "justify_items": null,
       "left": null,
       "margin": null,
       "max_height": null,
       "max_width": null,
       "min_height": null,
       "min_width": null,
       "object_fit": null,
       "object_position": null,
       "order": null,
       "overflow": null,
       "padding": null,
       "right": null,
       "top": null,
       "visibility": null,
       "width": null
      }
     },
     "751ee54dbb32499f93d3e5ec7f04ef51": {
      "model_module": "@jupyter-widgets/controls",
      "model_module_version": "2.0.0",
      "model_name": "HBoxModel",
      "state": {
       "_dom_classes": [],
       "_model_module": "@jupyter-widgets/controls",
       "_model_module_version": "2.0.0",
       "_model_name": "HBoxModel",
       "_view_count": null,
       "_view_module": "@jupyter-widgets/controls",
       "_view_module_version": "2.0.0",
       "_view_name": "HBoxView",
       "box_style": "",
       "children": [
        "IPY_MODEL_bb2bb5b729a5472c9e743e7211e93112",
        "IPY_MODEL_08aede93c8384e9984635f9fd7c3d001",
        "IPY_MODEL_c9ebe87e135b4727bfbc56d821a2f04a"
       ],
       "layout": "IPY_MODEL_3691d192c72f456a937025dd62aafe9d",
       "tabbable": null,
       "tooltip": null
      }
     },
     "79a5ce207d5b405aa36e87882222374d": {
      "model_module": "@jupyter-widgets/base",
      "model_module_version": "2.0.0",
      "model_name": "LayoutModel",
      "state": {
       "_model_module": "@jupyter-widgets/base",
       "_model_module_version": "2.0.0",
       "_model_name": "LayoutModel",
       "_view_count": null,
       "_view_module": "@jupyter-widgets/base",
       "_view_module_version": "2.0.0",
       "_view_name": "LayoutView",
       "align_content": null,
       "align_items": null,
       "align_self": null,
       "border_bottom": null,
       "border_left": null,
       "border_right": null,
       "border_top": null,
       "bottom": null,
       "display": null,
       "flex": null,
       "flex_flow": null,
       "grid_area": null,
       "grid_auto_columns": null,
       "grid_auto_flow": null,
       "grid_auto_rows": null,
       "grid_column": null,
       "grid_gap": null,
       "grid_row": null,
       "grid_template_areas": null,
       "grid_template_columns": null,
       "grid_template_rows": null,
       "height": null,
       "justify_content": null,
       "justify_items": null,
       "left": null,
       "margin": null,
       "max_height": null,
       "max_width": null,
       "min_height": null,
       "min_width": null,
       "object_fit": null,
       "object_position": null,
       "order": null,
       "overflow": null,
       "padding": null,
       "right": null,
       "top": null,
       "visibility": null,
       "width": null
      }
     },
     "7d8e289e087a4b98bd48f046f7a6c94d": {
      "model_module": "@jupyter-widgets/controls",
      "model_module_version": "2.0.0",
      "model_name": "HTMLModel",
      "state": {
       "_dom_classes": [],
       "_model_module": "@jupyter-widgets/controls",
       "_model_module_version": "2.0.0",
       "_model_name": "HTMLModel",
       "_view_count": null,
       "_view_module": "@jupyter-widgets/controls",
       "_view_module_version": "2.0.0",
       "_view_name": "HTMLView",
       "description": "",
       "description_allow_html": false,
       "layout": "IPY_MODEL_bcf8391d685d4dd6b83791e0cc1582df",
       "placeholder": "​",
       "style": "IPY_MODEL_a49ef298c9124e17996e7caf4c43f884",
       "tabbable": null,
       "tooltip": null,
       "value": "model.safetensors: 100%"
      }
     },
     "7d91ee9db9ed4bc8ab198b3aacb2f286": {
      "model_module": "@jupyter-widgets/base",
      "model_module_version": "2.0.0",
      "model_name": "LayoutModel",
      "state": {
       "_model_module": "@jupyter-widgets/base",
       "_model_module_version": "2.0.0",
       "_model_name": "LayoutModel",
       "_view_count": null,
       "_view_module": "@jupyter-widgets/base",
       "_view_module_version": "2.0.0",
       "_view_name": "LayoutView",
       "align_content": null,
       "align_items": null,
       "align_self": null,
       "border_bottom": null,
       "border_left": null,
       "border_right": null,
       "border_top": null,
       "bottom": null,
       "display": null,
       "flex": null,
       "flex_flow": null,
       "grid_area": null,
       "grid_auto_columns": null,
       "grid_auto_flow": null,
       "grid_auto_rows": null,
       "grid_column": null,
       "grid_gap": null,
       "grid_row": null,
       "grid_template_areas": null,
       "grid_template_columns": null,
       "grid_template_rows": null,
       "height": null,
       "justify_content": null,
       "justify_items": null,
       "left": null,
       "margin": null,
       "max_height": null,
       "max_width": null,
       "min_height": null,
       "min_width": null,
       "object_fit": null,
       "object_position": null,
       "order": null,
       "overflow": null,
       "padding": null,
       "right": null,
       "top": null,
       "visibility": null,
       "width": null
      }
     },
     "7e82837ac1e94a39b31cea85fb307c87": {
      "model_module": "@jupyter-widgets/controls",
      "model_module_version": "2.0.0",
      "model_name": "ProgressStyleModel",
      "state": {
       "_model_module": "@jupyter-widgets/controls",
       "_model_module_version": "2.0.0",
       "_model_name": "ProgressStyleModel",
       "_view_count": null,
       "_view_module": "@jupyter-widgets/base",
       "_view_module_version": "2.0.0",
       "_view_name": "StyleView",
       "bar_color": null,
       "description_width": ""
      }
     },
     "7eb4a842469546a5a8616f952642a7d6": {
      "model_module": "@jupyter-widgets/base",
      "model_module_version": "2.0.0",
      "model_name": "LayoutModel",
      "state": {
       "_model_module": "@jupyter-widgets/base",
       "_model_module_version": "2.0.0",
       "_model_name": "LayoutModel",
       "_view_count": null,
       "_view_module": "@jupyter-widgets/base",
       "_view_module_version": "2.0.0",
       "_view_name": "LayoutView",
       "align_content": null,
       "align_items": null,
       "align_self": null,
       "border_bottom": null,
       "border_left": null,
       "border_right": null,
       "border_top": null,
       "bottom": null,
       "display": null,
       "flex": null,
       "flex_flow": null,
       "grid_area": null,
       "grid_auto_columns": null,
       "grid_auto_flow": null,
       "grid_auto_rows": null,
       "grid_column": null,
       "grid_gap": null,
       "grid_row": null,
       "grid_template_areas": null,
       "grid_template_columns": null,
       "grid_template_rows": null,
       "height": null,
       "justify_content": null,
       "justify_items": null,
       "left": null,
       "margin": null,
       "max_height": null,
       "max_width": null,
       "min_height": null,
       "min_width": null,
       "object_fit": null,
       "object_position": null,
       "order": null,
       "overflow": null,
       "padding": null,
       "right": null,
       "top": null,
       "visibility": null,
       "width": null
      }
     },
     "80316de5d5a04b1fab38c4e20b8f65db": {
      "model_module": "@jupyter-widgets/controls",
      "model_module_version": "2.0.0",
      "model_name": "HTMLStyleModel",
      "state": {
       "_model_module": "@jupyter-widgets/controls",
       "_model_module_version": "2.0.0",
       "_model_name": "HTMLStyleModel",
       "_view_count": null,
       "_view_module": "@jupyter-widgets/base",
       "_view_module_version": "2.0.0",
       "_view_name": "StyleView",
       "background": null,
       "description_width": "",
       "font_size": null,
       "text_color": null
      }
     },
     "805aa43c24f94d779f5c988a1ca124cc": {
      "model_module": "@jupyter-widgets/controls",
      "model_module_version": "2.0.0",
      "model_name": "FloatProgressModel",
      "state": {
       "_dom_classes": [],
       "_model_module": "@jupyter-widgets/controls",
       "_model_module_version": "2.0.0",
       "_model_name": "FloatProgressModel",
       "_view_count": null,
       "_view_module": "@jupyter-widgets/controls",
       "_view_module_version": "2.0.0",
       "_view_name": "ProgressView",
       "bar_style": "success",
       "description": "",
       "description_allow_html": false,
       "layout": "IPY_MODEL_02a67ca1d4ea4e2599e666351b13e0fb",
       "max": 17364638.0,
       "min": 0.0,
       "orientation": "horizontal",
       "style": "IPY_MODEL_fa05c1b3370648349c4a051e2b951a49",
       "tabbable": null,
       "tooltip": null,
       "value": 17364638.0
      }
     },
     "819f9bd18a4c418882de5169b9321bcb": {
      "model_module": "@jupyter-widgets/base",
      "model_module_version": "2.0.0",
      "model_name": "LayoutModel",
      "state": {
       "_model_module": "@jupyter-widgets/base",
       "_model_module_version": "2.0.0",
       "_model_name": "LayoutModel",
       "_view_count": null,
       "_view_module": "@jupyter-widgets/base",
       "_view_module_version": "2.0.0",
       "_view_name": "LayoutView",
       "align_content": null,
       "align_items": null,
       "align_self": null,
       "border_bottom": null,
       "border_left": null,
       "border_right": null,
       "border_top": null,
       "bottom": null,
       "display": null,
       "flex": null,
       "flex_flow": null,
       "grid_area": null,
       "grid_auto_columns": null,
       "grid_auto_flow": null,
       "grid_auto_rows": null,
       "grid_column": null,
       "grid_gap": null,
       "grid_row": null,
       "grid_template_areas": null,
       "grid_template_columns": null,
       "grid_template_rows": null,
       "height": null,
       "justify_content": null,
       "justify_items": null,
       "left": null,
       "margin": null,
       "max_height": null,
       "max_width": null,
       "min_height": null,
       "min_width": null,
       "object_fit": null,
       "object_position": null,
       "order": null,
       "overflow": null,
       "padding": null,
       "right": null,
       "top": null,
       "visibility": null,
       "width": null
      }
     },
     "81a03c5b26c240199a73c8936983b050": {
      "model_module": "@jupyter-widgets/base",
      "model_module_version": "2.0.0",
      "model_name": "LayoutModel",
      "state": {
       "_model_module": "@jupyter-widgets/base",
       "_model_module_version": "2.0.0",
       "_model_name": "LayoutModel",
       "_view_count": null,
       "_view_module": "@jupyter-widgets/base",
       "_view_module_version": "2.0.0",
       "_view_name": "LayoutView",
       "align_content": null,
       "align_items": null,
       "align_self": null,
       "border_bottom": null,
       "border_left": null,
       "border_right": null,
       "border_top": null,
       "bottom": null,
       "display": null,
       "flex": null,
       "flex_flow": null,
       "grid_area": null,
       "grid_auto_columns": null,
       "grid_auto_flow": null,
       "grid_auto_rows": null,
       "grid_column": null,
       "grid_gap": null,
       "grid_row": null,
       "grid_template_areas": null,
       "grid_template_columns": null,
       "grid_template_rows": null,
       "height": null,
       "justify_content": null,
       "justify_items": null,
       "left": null,
       "margin": null,
       "max_height": null,
       "max_width": null,
       "min_height": null,
       "min_width": null,
       "object_fit": null,
       "object_position": null,
       "order": null,
       "overflow": null,
       "padding": null,
       "right": null,
       "top": null,
       "visibility": null,
       "width": null
      }
     },
     "84438b35050b4d59b08c1f4103f312c1": {
      "model_module": "@jupyter-widgets/base",
      "model_module_version": "2.0.0",
      "model_name": "LayoutModel",
      "state": {
       "_model_module": "@jupyter-widgets/base",
       "_model_module_version": "2.0.0",
       "_model_name": "LayoutModel",
       "_view_count": null,
       "_view_module": "@jupyter-widgets/base",
       "_view_module_version": "2.0.0",
       "_view_name": "LayoutView",
       "align_content": null,
       "align_items": null,
       "align_self": null,
       "border_bottom": null,
       "border_left": null,
       "border_right": null,
       "border_top": null,
       "bottom": null,
       "display": null,
       "flex": null,
       "flex_flow": null,
       "grid_area": null,
       "grid_auto_columns": null,
       "grid_auto_flow": null,
       "grid_auto_rows": null,
       "grid_column": null,
       "grid_gap": null,
       "grid_row": null,
       "grid_template_areas": null,
       "grid_template_columns": null,
       "grid_template_rows": null,
       "height": null,
       "justify_content": null,
       "justify_items": null,
       "left": null,
       "margin": null,
       "max_height": null,
       "max_width": null,
       "min_height": null,
       "min_width": null,
       "object_fit": null,
       "object_position": null,
       "order": null,
       "overflow": null,
       "padding": null,
       "right": null,
       "top": null,
       "visibility": null,
       "width": null
      }
     },
     "8591553fa1844d688ca9b8ad97392ae3": {
      "model_module": "@jupyter-widgets/controls",
      "model_module_version": "2.0.0",
      "model_name": "HTMLStyleModel",
      "state": {
       "_model_module": "@jupyter-widgets/controls",
       "_model_module_version": "2.0.0",
       "_model_name": "HTMLStyleModel",
       "_view_count": null,
       "_view_module": "@jupyter-widgets/base",
       "_view_module_version": "2.0.0",
       "_view_name": "StyleView",
       "background": null,
       "description_width": "",
       "font_size": null,
       "text_color": null
      }
     },
     "86ef82ecc6b04689906b74fd976b19d9": {
      "model_module": "@jupyter-widgets/controls",
      "model_module_version": "2.0.0",
      "model_name": "ProgressStyleModel",
      "state": {
       "_model_module": "@jupyter-widgets/controls",
       "_model_module_version": "2.0.0",
       "_model_name": "ProgressStyleModel",
       "_view_count": null,
       "_view_module": "@jupyter-widgets/base",
       "_view_module_version": "2.0.0",
       "_view_name": "StyleView",
       "bar_color": null,
       "description_width": ""
      }
     },
     "886e7d73e1ba4bb38f86b9f8da3e67c4": {
      "model_module": "@jupyter-widgets/controls",
      "model_module_version": "2.0.0",
      "model_name": "HBoxModel",
      "state": {
       "_dom_classes": [],
       "_model_module": "@jupyter-widgets/controls",
       "_model_module_version": "2.0.0",
       "_model_name": "HBoxModel",
       "_view_count": null,
       "_view_module": "@jupyter-widgets/controls",
       "_view_module_version": "2.0.0",
       "_view_name": "HBoxView",
       "box_style": "",
       "children": [
        "IPY_MODEL_ed78c4e8bb3b4bc791fb197373945fbb",
        "IPY_MODEL_a5566088b5794dd38555aaeb1de747f7",
        "IPY_MODEL_f12dafb061884971861d41f05abb130d"
       ],
       "layout": "IPY_MODEL_0eb4463df3234a5f9e4d2bb11303951a",
       "tabbable": null,
       "tooltip": null
      }
     },
     "8eb181f762ef40e6bbc61ee874a10e81": {
      "model_module": "@jupyter-widgets/base",
      "model_module_version": "2.0.0",
      "model_name": "LayoutModel",
      "state": {
       "_model_module": "@jupyter-widgets/base",
       "_model_module_version": "2.0.0",
       "_model_name": "LayoutModel",
       "_view_count": null,
       "_view_module": "@jupyter-widgets/base",
       "_view_module_version": "2.0.0",
       "_view_name": "LayoutView",
       "align_content": null,
       "align_items": null,
       "align_self": null,
       "border_bottom": null,
       "border_left": null,
       "border_right": null,
       "border_top": null,
       "bottom": null,
       "display": null,
       "flex": null,
       "flex_flow": null,
       "grid_area": null,
       "grid_auto_columns": null,
       "grid_auto_flow": null,
       "grid_auto_rows": null,
       "grid_column": null,
       "grid_gap": null,
       "grid_row": null,
       "grid_template_areas": null,
       "grid_template_columns": null,
       "grid_template_rows": null,
       "height": null,
       "justify_content": null,
       "justify_items": null,
       "left": null,
       "margin": null,
       "max_height": null,
       "max_width": null,
       "min_height": null,
       "min_width": null,
       "object_fit": null,
       "object_position": null,
       "order": null,
       "overflow": null,
       "padding": null,
       "right": null,
       "top": null,
       "visibility": null,
       "width": null
      }
     },
     "9025e819062b4f02bbc272fd38f48a78": {
      "model_module": "@jupyter-widgets/base",
      "model_module_version": "2.0.0",
      "model_name": "LayoutModel",
      "state": {
       "_model_module": "@jupyter-widgets/base",
       "_model_module_version": "2.0.0",
       "_model_name": "LayoutModel",
       "_view_count": null,
       "_view_module": "@jupyter-widgets/base",
       "_view_module_version": "2.0.0",
       "_view_name": "LayoutView",
       "align_content": null,
       "align_items": null,
       "align_self": null,
       "border_bottom": null,
       "border_left": null,
       "border_right": null,
       "border_top": null,
       "bottom": null,
       "display": null,
       "flex": null,
       "flex_flow": null,
       "grid_area": null,
       "grid_auto_columns": null,
       "grid_auto_flow": null,
       "grid_auto_rows": null,
       "grid_column": null,
       "grid_gap": null,
       "grid_row": null,
       "grid_template_areas": null,
       "grid_template_columns": null,
       "grid_template_rows": null,
       "height": null,
       "justify_content": null,
       "justify_items": null,
       "left": null,
       "margin": null,
       "max_height": null,
       "max_width": null,
       "min_height": null,
       "min_width": null,
       "object_fit": null,
       "object_position": null,
       "order": null,
       "overflow": null,
       "padding": null,
       "right": null,
       "top": null,
       "visibility": null,
       "width": null
      }
     },
     "942095a4c9a34db1a8d0c08bd858c4ab": {
      "model_module": "@jupyter-widgets/controls",
      "model_module_version": "2.0.0",
      "model_name": "HTMLStyleModel",
      "state": {
       "_model_module": "@jupyter-widgets/controls",
       "_model_module_version": "2.0.0",
       "_model_name": "HTMLStyleModel",
       "_view_count": null,
       "_view_module": "@jupyter-widgets/base",
       "_view_module_version": "2.0.0",
       "_view_name": "StyleView",
       "background": null,
       "description_width": "",
       "font_size": null,
       "text_color": null
      }
     },
     "9553af8de6eb4bcca08e3ef90b2f4ca4": {
      "model_module": "@jupyter-widgets/controls",
      "model_module_version": "2.0.0",
      "model_name": "HTMLModel",
      "state": {
       "_dom_classes": [],
       "_model_module": "@jupyter-widgets/controls",
       "_model_module_version": "2.0.0",
       "_model_name": "HTMLModel",
       "_view_count": null,
       "_view_module": "@jupyter-widgets/controls",
       "_view_module_version": "2.0.0",
       "_view_name": "HTMLView",
       "description": "",
       "description_allow_html": false,
       "layout": "IPY_MODEL_e7f9373dd4aa461694fa4a595800a4a5",
       "placeholder": "​",
       "style": "IPY_MODEL_4781fa60a2c54c9bbe7d1c8fb0e67e17",
       "tabbable": null,
       "tooltip": null,
       "value": " 45704/45704 [00:06&lt;00:00, 7643.09 examples/s]"
      }
     },
     "97bfe81bd76c45c69c8a050097b9d0a5": {
      "model_module": "@jupyter-widgets/controls",
      "model_module_version": "2.0.0",
      "model_name": "HTMLModel",
      "state": {
       "_dom_classes": [],
       "_model_module": "@jupyter-widgets/controls",
       "_model_module_version": "2.0.0",
       "_model_name": "HTMLModel",
       "_view_count": null,
       "_view_module": "@jupyter-widgets/controls",
       "_view_module_version": "2.0.0",
       "_view_name": "HTMLView",
       "description": "",
       "description_allow_html": false,
       "layout": "IPY_MODEL_2f2f6dceac464cb1bc2d894f53200e98",
       "placeholder": "​",
       "style": "IPY_MODEL_6928c8312e3d43848dbab09e1ecfb5e4",
       "tabbable": null,
       "tooltip": null,
       "value": " 5.26M/5.26M [00:00&lt;00:00, 34.8MB/s]"
      }
     },
     "984063dab1b94beb9800d788ae29cb11": {
      "model_module": "@jupyter-widgets/controls",
      "model_module_version": "2.0.0",
      "model_name": "HTMLModel",
      "state": {
       "_dom_classes": [],
       "_model_module": "@jupyter-widgets/controls",
       "_model_module_version": "2.0.0",
       "_model_name": "HTMLModel",
       "_view_count": null,
       "_view_module": "@jupyter-widgets/controls",
       "_view_module_version": "2.0.0",
       "_view_name": "HTMLView",
       "description": "",
       "description_allow_html": false,
       "layout": "IPY_MODEL_f3f26d4304a74667bbec6f3934472f66",
       "placeholder": "​",
       "style": "IPY_MODEL_8591553fa1844d688ca9b8ad97392ae3",
       "tabbable": null,
       "tooltip": null,
       "value": "sentencepiece.bpe.model: 100%"
      }
     },
     "9e467491850146148163f7cea3fbd335": {
      "model_module": "@jupyter-widgets/controls",
      "model_module_version": "2.0.0",
      "model_name": "HTMLModel",
      "state": {
       "_dom_classes": [],
       "_model_module": "@jupyter-widgets/controls",
       "_model_module_version": "2.0.0",
       "_model_name": "HTMLModel",
       "_view_count": null,
       "_view_module": "@jupyter-widgets/controls",
       "_view_module_version": "2.0.0",
       "_view_name": "HTMLView",
       "description": "",
       "description_allow_html": false,
       "layout": "IPY_MODEL_0da632ad25a74dfea29c977c10c7a08a",
       "placeholder": "​",
       "style": "IPY_MODEL_13a434ed06d9424d88ed02a79ee10a59",
       "tabbable": null,
       "tooltip": null,
       "value": " 364/364 [00:00&lt;00:00, 38.6kB/s]"
      }
     },
     "9f20f550d2b140579661f47aa2775193": {
      "model_module": "@jupyter-widgets/controls",
      "model_module_version": "2.0.0",
      "model_name": "HBoxModel",
      "state": {
       "_dom_classes": [],
       "_model_module": "@jupyter-widgets/controls",
       "_model_module_version": "2.0.0",
       "_model_name": "HBoxModel",
       "_view_count": null,
       "_view_module": "@jupyter-widgets/controls",
       "_view_module_version": "2.0.0",
       "_view_name": "HBoxView",
       "box_style": "",
       "children": [
        "IPY_MODEL_3db5f4ad45ec4a8c9d66b80ea50047b0",
        "IPY_MODEL_805aa43c24f94d779f5c988a1ca124cc",
        "IPY_MODEL_a84e5098d9924a7cafde3f0fa4e664c4"
       ],
       "layout": "IPY_MODEL_c52c83cd3f554369b8603b4821a742d1",
       "tabbable": null,
       "tooltip": null
      }
     },
     "a49ef298c9124e17996e7caf4c43f884": {
      "model_module": "@jupyter-widgets/controls",
      "model_module_version": "2.0.0",
      "model_name": "HTMLStyleModel",
      "state": {
       "_model_module": "@jupyter-widgets/controls",
       "_model_module_version": "2.0.0",
       "_model_name": "HTMLStyleModel",
       "_view_count": null,
       "_view_module": "@jupyter-widgets/base",
       "_view_module_version": "2.0.0",
       "_view_name": "StyleView",
       "background": null,
       "description_width": "",
       "font_size": null,
       "text_color": null
      }
     },
     "a5566088b5794dd38555aaeb1de747f7": {
      "model_module": "@jupyter-widgets/controls",
      "model_module_version": "2.0.0",
      "model_name": "FloatProgressModel",
      "state": {
       "_dom_classes": [],
       "_model_module": "@jupyter-widgets/controls",
       "_model_module_version": "2.0.0",
       "_model_name": "FloatProgressModel",
       "_view_count": null,
       "_view_module": "@jupyter-widgets/controls",
       "_view_module_version": "2.0.0",
       "_view_name": "ProgressView",
       "bar_style": "success",
       "description": "",
       "description_allow_html": false,
       "layout": "IPY_MODEL_ba1ddee9a01a4160a537b7d562522b29",
       "max": 14981.0,
       "min": 0.0,
       "orientation": "horizontal",
       "style": "IPY_MODEL_177850a9335a43e98f930bab0deee7f1",
       "tabbable": null,
       "tooltip": null,
       "value": 14981.0
      }
     },
     "a84e5098d9924a7cafde3f0fa4e664c4": {
      "model_module": "@jupyter-widgets/controls",
      "model_module_version": "2.0.0",
      "model_name": "HTMLModel",
      "state": {
       "_dom_classes": [],
       "_model_module": "@jupyter-widgets/controls",
       "_model_module_version": "2.0.0",
       "_model_name": "HTMLModel",
       "_view_count": null,
       "_view_module": "@jupyter-widgets/controls",
       "_view_module_version": "2.0.0",
       "_view_name": "HTMLView",
       "description": "",
       "description_allow_html": false,
       "layout": "IPY_MODEL_3a8725ae63bd4897968c2128c8e5f011",
       "placeholder": "​",
       "style": "IPY_MODEL_1d042511fc424572afcdd43468a9306b",
       "tabbable": null,
       "tooltip": null,
       "value": " 17.4M/17.4M [00:00&lt;00:00, 49.2MB/s]"
      }
     },
     "aef8d5ac32034597a876bab2f20ab258": {
      "model_module": "@jupyter-widgets/controls",
      "model_module_version": "2.0.0",
      "model_name": "HTMLStyleModel",
      "state": {
       "_model_module": "@jupyter-widgets/controls",
       "_model_module_version": "2.0.0",
       "_model_name": "HTMLStyleModel",
       "_view_count": null,
       "_view_module": "@jupyter-widgets/base",
       "_view_module_version": "2.0.0",
       "_view_name": "StyleView",
       "background": null,
       "description_width": "",
       "font_size": null,
       "text_color": null
      }
     },
     "af8e2171792e499ea0d09271fe5aae4a": {
      "model_module": "@jupyter-widgets/controls",
      "model_module_version": "2.0.0",
      "model_name": "HTMLStyleModel",
      "state": {
       "_model_module": "@jupyter-widgets/controls",
       "_model_module_version": "2.0.0",
       "_model_name": "HTMLStyleModel",
       "_view_count": null,
       "_view_module": "@jupyter-widgets/base",
       "_view_module_version": "2.0.0",
       "_view_name": "StyleView",
       "background": null,
       "description_width": "",
       "font_size": null,
       "text_color": null
      }
     },
     "b7ad1945547a41cca138e364bdb85432": {
      "model_module": "@jupyter-widgets/controls",
      "model_module_version": "2.0.0",
      "model_name": "HTMLStyleModel",
      "state": {
       "_model_module": "@jupyter-widgets/controls",
       "_model_module_version": "2.0.0",
       "_model_name": "HTMLStyleModel",
       "_view_count": null,
       "_view_module": "@jupyter-widgets/base",
       "_view_module_version": "2.0.0",
       "_view_name": "StyleView",
       "background": null,
       "description_width": "",
       "font_size": null,
       "text_color": null
      }
     },
     "b9f78e3e082a4816a6d1b1627d7b5de9": {
      "model_module": "@jupyter-widgets/base",
      "model_module_version": "2.0.0",
      "model_name": "LayoutModel",
      "state": {
       "_model_module": "@jupyter-widgets/base",
       "_model_module_version": "2.0.0",
       "_model_name": "LayoutModel",
       "_view_count": null,
       "_view_module": "@jupyter-widgets/base",
       "_view_module_version": "2.0.0",
       "_view_name": "LayoutView",
       "align_content": null,
       "align_items": null,
       "align_self": null,
       "border_bottom": null,
       "border_left": null,
       "border_right": null,
       "border_top": null,
       "bottom": null,
       "display": null,
       "flex": null,
       "flex_flow": null,
       "grid_area": null,
       "grid_auto_columns": null,
       "grid_auto_flow": null,
       "grid_auto_rows": null,
       "grid_column": null,
       "grid_gap": null,
       "grid_row": null,
       "grid_template_areas": null,
       "grid_template_columns": null,
       "grid_template_rows": null,
       "height": null,
       "justify_content": null,
       "justify_items": null,
       "left": null,
       "margin": null,
       "max_height": null,
       "max_width": null,
       "min_height": null,
       "min_width": null,
       "object_fit": null,
       "object_position": null,
       "order": null,
       "overflow": null,
       "padding": null,
       "right": null,
       "top": null,
       "visibility": null,
       "width": null
      }
     },
     "ba1ddee9a01a4160a537b7d562522b29": {
      "model_module": "@jupyter-widgets/base",
      "model_module_version": "2.0.0",
      "model_name": "LayoutModel",
      "state": {
       "_model_module": "@jupyter-widgets/base",
       "_model_module_version": "2.0.0",
       "_model_name": "LayoutModel",
       "_view_count": null,
       "_view_module": "@jupyter-widgets/base",
       "_view_module_version": "2.0.0",
       "_view_name": "LayoutView",
       "align_content": null,
       "align_items": null,
       "align_self": null,
       "border_bottom": null,
       "border_left": null,
       "border_right": null,
       "border_top": null,
       "bottom": null,
       "display": null,
       "flex": null,
       "flex_flow": null,
       "grid_area": null,
       "grid_auto_columns": null,
       "grid_auto_flow": null,
       "grid_auto_rows": null,
       "grid_column": null,
       "grid_gap": null,
       "grid_row": null,
       "grid_template_areas": null,
       "grid_template_columns": null,
       "grid_template_rows": null,
       "height": null,
       "justify_content": null,
       "justify_items": null,
       "left": null,
       "margin": null,
       "max_height": null,
       "max_width": null,
       "min_height": null,
       "min_width": null,
       "object_fit": null,
       "object_position": null,
       "order": null,
       "overflow": null,
       "padding": null,
       "right": null,
       "top": null,
       "visibility": null,
       "width": null
      }
     },
     "bb2bb5b729a5472c9e743e7211e93112": {
      "model_module": "@jupyter-widgets/controls",
      "model_module_version": "2.0.0",
      "model_name": "HTMLModel",
      "state": {
       "_dom_classes": [],
       "_model_module": "@jupyter-widgets/controls",
       "_model_module_version": "2.0.0",
       "_model_name": "HTMLModel",
       "_view_count": null,
       "_view_module": "@jupyter-widgets/controls",
       "_view_module_version": "2.0.0",
       "_view_name": "HTMLView",
       "description": "",
       "description_allow_html": false,
       "layout": "IPY_MODEL_7113fd9b2e7c4c42bca6e316d006e6a9",
       "placeholder": "​",
       "style": "IPY_MODEL_e2520a1b02aa4a2e9af6ce092885e7b1",
       "tabbable": null,
       "tooltip": null,
       "value": "config.json: 100%"
      }
     },
     "bcf8391d685d4dd6b83791e0cc1582df": {
      "model_module": "@jupyter-widgets/base",
      "model_module_version": "2.0.0",
      "model_name": "LayoutModel",
      "state": {
       "_model_module": "@jupyter-widgets/base",
       "_model_module_version": "2.0.0",
       "_model_name": "LayoutModel",
       "_view_count": null,
       "_view_module": "@jupyter-widgets/base",
       "_view_module_version": "2.0.0",
       "_view_name": "LayoutView",
       "align_content": null,
       "align_items": null,
       "align_self": null,
       "border_bottom": null,
       "border_left": null,
       "border_right": null,
       "border_top": null,
       "bottom": null,
       "display": null,
       "flex": null,
       "flex_flow": null,
       "grid_area": null,
       "grid_auto_columns": null,
       "grid_auto_flow": null,
       "grid_auto_rows": null,
       "grid_column": null,
       "grid_gap": null,
       "grid_row": null,
       "grid_template_areas": null,
       "grid_template_columns": null,
       "grid_template_rows": null,
       "height": null,
       "justify_content": null,
       "justify_items": null,
       "left": null,
       "margin": null,
       "max_height": null,
       "max_width": null,
       "min_height": null,
       "min_width": null,
       "object_fit": null,
       "object_position": null,
       "order": null,
       "overflow": null,
       "padding": null,
       "right": null,
       "top": null,
       "visibility": null,
       "width": null
      }
     },
     "bea8d93895fc40debda80c8c2beecb33": {
      "model_module": "@jupyter-widgets/controls",
      "model_module_version": "2.0.0",
      "model_name": "HBoxModel",
      "state": {
       "_dom_classes": [],
       "_model_module": "@jupyter-widgets/controls",
       "_model_module_version": "2.0.0",
       "_model_name": "HBoxModel",
       "_view_count": null,
       "_view_module": "@jupyter-widgets/controls",
       "_view_module_version": "2.0.0",
       "_view_name": "HBoxView",
       "box_style": "",
       "children": [
        "IPY_MODEL_7d8e289e087a4b98bd48f046f7a6c94d",
        "IPY_MODEL_f2c7f958cf33427f9853a83971ae66ab",
        "IPY_MODEL_f3b242caebe24d1ba19f2d607e20a016"
       ],
       "layout": "IPY_MODEL_ef51caddf99248139fb7cc5ed226ddb6",
       "tabbable": null,
       "tooltip": null
      }
     },
     "bfb7e0ace19147179303e987ef55e178": {
      "model_module": "@jupyter-widgets/controls",
      "model_module_version": "2.0.0",
      "model_name": "HBoxModel",
      "state": {
       "_dom_classes": [],
       "_model_module": "@jupyter-widgets/controls",
       "_model_module_version": "2.0.0",
       "_model_name": "HBoxModel",
       "_view_count": null,
       "_view_module": "@jupyter-widgets/controls",
       "_view_module_version": "2.0.0",
       "_view_name": "HBoxView",
       "box_style": "",
       "children": [
        "IPY_MODEL_e5d92d81817f4593a9137e808b50ebe7",
        "IPY_MODEL_3f18c4e401fa4ec7aa6656b9f5b70bc0",
        "IPY_MODEL_cfb5e90fe52a48488c94de1a94a8a793"
       ],
       "layout": "IPY_MODEL_d5bbedb81aa5407dba649736ca0e3d76",
       "tabbable": null,
       "tooltip": null
      }
     },
     "c063fe7ec47041e4bec36cd51ec945a4": {
      "model_module": "@jupyter-widgets/base",
      "model_module_version": "2.0.0",
      "model_name": "LayoutModel",
      "state": {
       "_model_module": "@jupyter-widgets/base",
       "_model_module_version": "2.0.0",
       "_model_name": "LayoutModel",
       "_view_count": null,
       "_view_module": "@jupyter-widgets/base",
       "_view_module_version": "2.0.0",
       "_view_name": "LayoutView",
       "align_content": null,
       "align_items": null,
       "align_self": null,
       "border_bottom": null,
       "border_left": null,
       "border_right": null,
       "border_top": null,
       "bottom": null,
       "display": null,
       "flex": null,
       "flex_flow": null,
       "grid_area": null,
       "grid_auto_columns": null,
       "grid_auto_flow": null,
       "grid_auto_rows": null,
       "grid_column": null,
       "grid_gap": null,
       "grid_row": null,
       "grid_template_areas": null,
       "grid_template_columns": null,
       "grid_template_rows": null,
       "height": null,
       "justify_content": null,
       "justify_items": null,
       "left": null,
       "margin": null,
       "max_height": null,
       "max_width": null,
       "min_height": null,
       "min_width": null,
       "object_fit": null,
       "object_position": null,
       "order": null,
       "overflow": null,
       "padding": null,
       "right": null,
       "top": null,
       "visibility": null,
       "width": null
      }
     },
     "c08a620cf6bf41e4955e1e930bf5f0ce": {
      "model_module": "@jupyter-widgets/controls",
      "model_module_version": "2.0.0",
      "model_name": "HTMLModel",
      "state": {
       "_dom_classes": [],
       "_model_module": "@jupyter-widgets/controls",
       "_model_module_version": "2.0.0",
       "_model_name": "HTMLModel",
       "_view_count": null,
       "_view_module": "@jupyter-widgets/controls",
       "_view_module_version": "2.0.0",
       "_view_name": "HTMLView",
       "description": "",
       "description_allow_html": false,
       "layout": "IPY_MODEL_0d92ef37dd284d5983272c0f2832f4d3",
       "placeholder": "​",
       "style": "IPY_MODEL_f09e576c11434e1cba80f9a7f00edd80",
       "tabbable": null,
       "tooltip": null,
       "value": "special_tokens_map.json: 100%"
      }
     },
     "c4aa14f80da147fdb9535e2e29106a6c": {
      "model_module": "@jupyter-widgets/controls",
      "model_module_version": "2.0.0",
      "model_name": "ProgressStyleModel",
      "state": {
       "_model_module": "@jupyter-widgets/controls",
       "_model_module_version": "2.0.0",
       "_model_name": "ProgressStyleModel",
       "_view_count": null,
       "_view_module": "@jupyter-widgets/base",
       "_view_module_version": "2.0.0",
       "_view_name": "StyleView",
       "bar_color": null,
       "description_width": ""
      }
     },
     "c4dcc950aaf4442f84b373cd9328a07c": {
      "model_module": "@jupyter-widgets/controls",
      "model_module_version": "2.0.0",
      "model_name": "FloatProgressModel",
      "state": {
       "_dom_classes": [],
       "_model_module": "@jupyter-widgets/controls",
       "_model_module_version": "2.0.0",
       "_model_name": "FloatProgressModel",
       "_view_count": null,
       "_view_module": "@jupyter-widgets/controls",
       "_view_module_version": "2.0.0",
       "_view_name": "ProgressView",
       "bar_style": "success",
       "description": "",
       "description_allow_html": false,
       "layout": "IPY_MODEL_7d91ee9db9ed4bc8ab198b3aacb2f286",
       "max": 40925.0,
       "min": 0.0,
       "orientation": "horizontal",
       "style": "IPY_MODEL_86ef82ecc6b04689906b74fd976b19d9",
       "tabbable": null,
       "tooltip": null,
       "value": 40925.0
      }
     },
     "c52c83cd3f554369b8603b4821a742d1": {
      "model_module": "@jupyter-widgets/base",
      "model_module_version": "2.0.0",
      "model_name": "LayoutModel",
      "state": {
       "_model_module": "@jupyter-widgets/base",
       "_model_module_version": "2.0.0",
       "_model_name": "LayoutModel",
       "_view_count": null,
       "_view_module": "@jupyter-widgets/base",
       "_view_module_version": "2.0.0",
       "_view_name": "LayoutView",
       "align_content": null,
       "align_items": null,
       "align_self": null,
       "border_bottom": null,
       "border_left": null,
       "border_right": null,
       "border_top": null,
       "bottom": null,
       "display": null,
       "flex": null,
       "flex_flow": null,
       "grid_area": null,
       "grid_auto_columns": null,
       "grid_auto_flow": null,
       "grid_auto_rows": null,
       "grid_column": null,
       "grid_gap": null,
       "grid_row": null,
       "grid_template_areas": null,
       "grid_template_columns": null,
       "grid_template_rows": null,
       "height": null,
       "justify_content": null,
       "justify_items": null,
       "left": null,
       "margin": null,
       "max_height": null,
       "max_width": null,
       "min_height": null,
       "min_width": null,
       "object_fit": null,
       "object_position": null,
       "order": null,
       "overflow": null,
       "padding": null,
       "right": null,
       "top": null,
       "visibility": null,
       "width": null
      }
     },
     "c558dc7e268f4c29bd524b73453ef7e3": {
      "model_module": "@jupyter-widgets/controls",
      "model_module_version": "2.0.0",
      "model_name": "HTMLModel",
      "state": {
       "_dom_classes": [],
       "_model_module": "@jupyter-widgets/controls",
       "_model_module_version": "2.0.0",
       "_model_name": "HTMLModel",
       "_view_count": null,
       "_view_module": "@jupyter-widgets/controls",
       "_view_module_version": "2.0.0",
       "_view_name": "HTMLView",
       "description": "",
       "description_allow_html": false,
       "layout": "IPY_MODEL_f0d248a695904e2d954e2e7829ce2fe4",
       "placeholder": "​",
       "style": "IPY_MODEL_242810cac86c41bebb68c9f599b81e24",
       "tabbable": null,
       "tooltip": null,
       "value": "Map: 100%"
      }
     },
     "c5d38447d49a451681c597864aff868e": {
      "model_module": "@jupyter-widgets/base",
      "model_module_version": "2.0.0",
      "model_name": "LayoutModel",
      "state": {
       "_model_module": "@jupyter-widgets/base",
       "_model_module_version": "2.0.0",
       "_model_name": "LayoutModel",
       "_view_count": null,
       "_view_module": "@jupyter-widgets/base",
       "_view_module_version": "2.0.0",
       "_view_name": "LayoutView",
       "align_content": null,
       "align_items": null,
       "align_self": null,
       "border_bottom": null,
       "border_left": null,
       "border_right": null,
       "border_top": null,
       "bottom": null,
       "display": null,
       "flex": null,
       "flex_flow": null,
       "grid_area": null,
       "grid_auto_columns": null,
       "grid_auto_flow": null,
       "grid_auto_rows": null,
       "grid_column": null,
       "grid_gap": null,
       "grid_row": null,
       "grid_template_areas": null,
       "grid_template_columns": null,
       "grid_template_rows": null,
       "height": null,
       "justify_content": null,
       "justify_items": null,
       "left": null,
       "margin": null,
       "max_height": null,
       "max_width": null,
       "min_height": null,
       "min_width": null,
       "object_fit": null,
       "object_position": null,
       "order": null,
       "overflow": null,
       "padding": null,
       "right": null,
       "top": null,
       "visibility": null,
       "width": null
      }
     },
     "c9ebe87e135b4727bfbc56d821a2f04a": {
      "model_module": "@jupyter-widgets/controls",
      "model_module_version": "2.0.0",
      "model_name": "HTMLModel",
      "state": {
       "_dom_classes": [],
       "_model_module": "@jupyter-widgets/controls",
       "_model_module_version": "2.0.0",
       "_model_name": "HTMLModel",
       "_view_count": null,
       "_view_module": "@jupyter-widgets/controls",
       "_view_module_version": "2.0.0",
       "_view_name": "HTMLView",
       "description": "",
       "description_allow_html": false,
       "layout": "IPY_MODEL_1a30e4d131aa486c8ef52369cffd15b3",
       "placeholder": "​",
       "style": "IPY_MODEL_d670cea3f9cd4f24ab0229cc6e6d358e",
       "tabbable": null,
       "tooltip": null,
       "value": " 642/642 [00:00&lt;00:00, 59.9kB/s]"
      }
     },
     "cb76cf03dcee45bb9a630c3eafea724e": {
      "model_module": "@jupyter-widgets/controls",
      "model_module_version": "2.0.0",
      "model_name": "HTMLModel",
      "state": {
       "_dom_classes": [],
       "_model_module": "@jupyter-widgets/controls",
       "_model_module_version": "2.0.0",
       "_model_name": "HTMLModel",
       "_view_count": null,
       "_view_module": "@jupyter-widgets/controls",
       "_view_module_version": "2.0.0",
       "_view_name": "HTMLView",
       "description": "",
       "description_allow_html": false,
       "layout": "IPY_MODEL_3799db9658a14937bfb0b56319f3ef68",
       "placeholder": "​",
       "style": "IPY_MODEL_b7ad1945547a41cca138e364bdb85432",
       "tabbable": null,
       "tooltip": null,
       "value": " 182816/182816 [00:25&lt;00:00, 7231.20 examples/s]"
      }
     },
     "cbe1452b5d7b457e8f77c257227f3bde": {
      "model_module": "@jupyter-widgets/controls",
      "model_module_version": "2.0.0",
      "model_name": "FloatProgressModel",
      "state": {
       "_dom_classes": [],
       "_model_module": "@jupyter-widgets/controls",
       "_model_module_version": "2.0.0",
       "_model_name": "FloatProgressModel",
       "_view_count": null,
       "_view_module": "@jupyter-widgets/controls",
       "_view_module_version": "2.0.0",
       "_view_name": "ProgressView",
       "bar_style": "success",
       "description": "",
       "description_allow_html": false,
       "layout": "IPY_MODEL_79a5ce207d5b405aa36e87882222374d",
       "max": 4203.0,
       "min": 0.0,
       "orientation": "horizontal",
       "style": "IPY_MODEL_51059056f001414e80ef354add4f322d",
       "tabbable": null,
       "tooltip": null,
       "value": 4203.0
      }
     },
     "cf5284b52e5c4e64babfce606378ecc7": {
      "model_module": "@jupyter-widgets/controls",
      "model_module_version": "2.0.0",
      "model_name": "HTMLStyleModel",
      "state": {
       "_model_module": "@jupyter-widgets/controls",
       "_model_module_version": "2.0.0",
       "_model_name": "HTMLStyleModel",
       "_view_count": null,
       "_view_module": "@jupyter-widgets/base",
       "_view_module_version": "2.0.0",
       "_view_name": "StyleView",
       "background": null,
       "description_width": "",
       "font_size": null,
       "text_color": null
      }
     },
     "cfb5e90fe52a48488c94de1a94a8a793": {
      "model_module": "@jupyter-widgets/controls",
      "model_module_version": "2.0.0",
      "model_name": "HTMLModel",
      "state": {
       "_dom_classes": [],
       "_model_module": "@jupyter-widgets/controls",
       "_model_module_version": "2.0.0",
       "_model_name": "HTMLModel",
       "_view_count": null,
       "_view_module": "@jupyter-widgets/controls",
       "_view_module_version": "2.0.0",
       "_view_name": "HTMLView",
       "description": "",
       "description_allow_html": false,
       "layout": "IPY_MODEL_236f74f92bca427895c77f3b050f7202",
       "placeholder": "​",
       "style": "IPY_MODEL_e6adbae9ef16460caf02f0fc7d25b125",
       "tabbable": null,
       "tooltip": null,
       "value": " 527/527 [00:00&lt;00:00, 47.6kB/s]"
      }
     },
     "d01dbb5042184247b7d91305127b51ff": {
      "model_module": "@jupyter-widgets/controls",
      "model_module_version": "2.0.0",
      "model_name": "FloatProgressModel",
      "state": {
       "_dom_classes": [],
       "_model_module": "@jupyter-widgets/controls",
       "_model_module_version": "2.0.0",
       "_model_name": "FloatProgressModel",
       "_view_count": null,
       "_view_module": "@jupyter-widgets/controls",
       "_view_module_version": "2.0.0",
       "_view_name": "ProgressView",
       "bar_style": "success",
       "description": "",
       "description_allow_html": false,
       "layout": "IPY_MODEL_c5d38447d49a451681c597864aff868e",
       "max": 5261686.0,
       "min": 0.0,
       "orientation": "horizontal",
       "style": "IPY_MODEL_35d8b5c1cd4a4282a7ac3a47384f63eb",
       "tabbable": null,
       "tooltip": null,
       "value": 5261686.0
      }
     },
     "d5bbedb81aa5407dba649736ca0e3d76": {
      "model_module": "@jupyter-widgets/base",
      "model_module_version": "2.0.0",
      "model_name": "LayoutModel",
      "state": {
       "_model_module": "@jupyter-widgets/base",
       "_model_module_version": "2.0.0",
       "_model_name": "LayoutModel",
       "_view_count": null,
       "_view_module": "@jupyter-widgets/base",
       "_view_module_version": "2.0.0",
       "_view_name": "LayoutView",
       "align_content": null,
       "align_items": null,
       "align_self": null,
       "border_bottom": null,
       "border_left": null,
       "border_right": null,
       "border_top": null,
       "bottom": null,
       "display": null,
       "flex": null,
       "flex_flow": null,
       "grid_area": null,
       "grid_auto_columns": null,
       "grid_auto_flow": null,
       "grid_auto_rows": null,
       "grid_column": null,
       "grid_gap": null,
       "grid_row": null,
       "grid_template_areas": null,
       "grid_template_columns": null,
       "grid_template_rows": null,
       "height": null,
       "justify_content": null,
       "justify_items": null,
       "left": null,
       "margin": null,
       "max_height": null,
       "max_width": null,
       "min_height": null,
       "min_width": null,
       "object_fit": null,
       "object_position": null,
       "order": null,
       "overflow": null,
       "padding": null,
       "right": null,
       "top": null,
       "visibility": null,
       "width": null
      }
     },
     "d670cea3f9cd4f24ab0229cc6e6d358e": {
      "model_module": "@jupyter-widgets/controls",
      "model_module_version": "2.0.0",
      "model_name": "HTMLStyleModel",
      "state": {
       "_model_module": "@jupyter-widgets/controls",
       "_model_module_version": "2.0.0",
       "_model_name": "HTMLStyleModel",
       "_view_count": null,
       "_view_module": "@jupyter-widgets/base",
       "_view_module_version": "2.0.0",
       "_view_name": "StyleView",
       "background": null,
       "description_width": "",
       "font_size": null,
       "text_color": null
      }
     },
     "da109309d7b146249640eb7904f585f6": {
      "model_module": "@jupyter-widgets/controls",
      "model_module_version": "2.0.0",
      "model_name": "HBoxModel",
      "state": {
       "_dom_classes": [],
       "_model_module": "@jupyter-widgets/controls",
       "_model_module_version": "2.0.0",
       "_model_name": "HBoxModel",
       "_view_count": null,
       "_view_module": "@jupyter-widgets/controls",
       "_view_module_version": "2.0.0",
       "_view_name": "HBoxView",
       "box_style": "",
       "children": [
        "IPY_MODEL_c08a620cf6bf41e4955e1e930bf5f0ce",
        "IPY_MODEL_63bde2b40cc442d5adacea341c7a639e",
        "IPY_MODEL_9e467491850146148163f7cea3fbd335"
       ],
       "layout": "IPY_MODEL_df56501ad9a74f568a1b28ba43295f30",
       "tabbable": null,
       "tooltip": null
      }
     },
     "db22dc1471b54d2c86e917aa1983db97": {
      "model_module": "@jupyter-widgets/controls",
      "model_module_version": "2.0.0",
      "model_name": "HBoxModel",
      "state": {
       "_dom_classes": [],
       "_model_module": "@jupyter-widgets/controls",
       "_model_module_version": "2.0.0",
       "_model_name": "HBoxModel",
       "_view_count": null,
       "_view_module": "@jupyter-widgets/controls",
       "_view_module_version": "2.0.0",
       "_view_name": "HBoxView",
       "box_style": "",
       "children": [
        "IPY_MODEL_f7a88de0ca2542f1a8c8ef2e274ad72e",
        "IPY_MODEL_068e9417532e4db39d7c5e3c9b7a289f",
        "IPY_MODEL_9553af8de6eb4bcca08e3ef90b2f4ca4"
       ],
       "layout": "IPY_MODEL_583c80aff5bd4a55917c7f1db4b82ae4",
       "tabbable": null,
       "tooltip": null
      }
     },
     "df56501ad9a74f568a1b28ba43295f30": {
      "model_module": "@jupyter-widgets/base",
      "model_module_version": "2.0.0",
      "model_name": "LayoutModel",
      "state": {
       "_model_module": "@jupyter-widgets/base",
       "_model_module_version": "2.0.0",
       "_model_name": "LayoutModel",
       "_view_count": null,
       "_view_module": "@jupyter-widgets/base",
       "_view_module_version": "2.0.0",
       "_view_name": "LayoutView",
       "align_content": null,
       "align_items": null,
       "align_self": null,
       "border_bottom": null,
       "border_left": null,
       "border_right": null,
       "border_top": null,
       "bottom": null,
       "display": null,
       "flex": null,
       "flex_flow": null,
       "grid_area": null,
       "grid_auto_columns": null,
       "grid_auto_flow": null,
       "grid_auto_rows": null,
       "grid_column": null,
       "grid_gap": null,
       "grid_row": null,
       "grid_template_areas": null,
       "grid_template_columns": null,
       "grid_template_rows": null,
       "height": null,
       "justify_content": null,
       "justify_items": null,
       "left": null,
       "margin": null,
       "max_height": null,
       "max_width": null,
       "min_height": null,
       "min_width": null,
       "object_fit": null,
       "object_position": null,
       "order": null,
       "overflow": null,
       "padding": null,
       "right": null,
       "top": null,
       "visibility": null,
       "width": null
      }
     },
     "e2520a1b02aa4a2e9af6ce092885e7b1": {
      "model_module": "@jupyter-widgets/controls",
      "model_module_version": "2.0.0",
      "model_name": "HTMLStyleModel",
      "state": {
       "_model_module": "@jupyter-widgets/controls",
       "_model_module_version": "2.0.0",
       "_model_name": "HTMLStyleModel",
       "_view_count": null,
       "_view_module": "@jupyter-widgets/base",
       "_view_module_version": "2.0.0",
       "_view_name": "StyleView",
       "background": null,
       "description_width": "",
       "font_size": null,
       "text_color": null
      }
     },
     "e2f0cde7071b4bb194474b80f70f2829": {
      "model_module": "@jupyter-widgets/controls",
      "model_module_version": "2.0.0",
      "model_name": "HBoxModel",
      "state": {
       "_dom_classes": [],
       "_model_module": "@jupyter-widgets/controls",
       "_model_module_version": "2.0.0",
       "_model_name": "HBoxModel",
       "_view_count": null,
       "_view_module": "@jupyter-widgets/controls",
       "_view_module_version": "2.0.0",
       "_view_name": "HBoxView",
       "box_style": "",
       "children": [
        "IPY_MODEL_c558dc7e268f4c29bd524b73453ef7e3",
        "IPY_MODEL_c4dcc950aaf4442f84b373cd9328a07c",
        "IPY_MODEL_34a97b92e9b14412a1211c2010bf3648"
       ],
       "layout": "IPY_MODEL_ea5a520d3c1d48b2b9312d8688849576",
       "tabbable": null,
       "tooltip": null
      }
     },
     "e5d92d81817f4593a9137e808b50ebe7": {
      "model_module": "@jupyter-widgets/controls",
      "model_module_version": "2.0.0",
      "model_name": "HTMLModel",
      "state": {
       "_dom_classes": [],
       "_model_module": "@jupyter-widgets/controls",
       "_model_module_version": "2.0.0",
       "_model_name": "HTMLModel",
       "_view_count": null,
       "_view_module": "@jupyter-widgets/controls",
       "_view_module_version": "2.0.0",
       "_view_name": "HTMLView",
       "description": "",
       "description_allow_html": false,
       "layout": "IPY_MODEL_e98f20ebaba14e5db8a9a5f33dc36bbd",
       "placeholder": "​",
       "style": "IPY_MODEL_3c4da29f40ac479fb7bcc7149c3f510d",
       "tabbable": null,
       "tooltip": null,
       "value": "tokenizer_config.json: 100%"
      }
     },
     "e6adbae9ef16460caf02f0fc7d25b125": {
      "model_module": "@jupyter-widgets/controls",
      "model_module_version": "2.0.0",
      "model_name": "HTMLStyleModel",
      "state": {
       "_model_module": "@jupyter-widgets/controls",
       "_model_module_version": "2.0.0",
       "_model_name": "HTMLStyleModel",
       "_view_count": null,
       "_view_module": "@jupyter-widgets/base",
       "_view_module_version": "2.0.0",
       "_view_name": "StyleView",
       "background": null,
       "description_width": "",
       "font_size": null,
       "text_color": null
      }
     },
     "e7f9373dd4aa461694fa4a595800a4a5": {
      "model_module": "@jupyter-widgets/base",
      "model_module_version": "2.0.0",
      "model_name": "LayoutModel",
      "state": {
       "_model_module": "@jupyter-widgets/base",
       "_model_module_version": "2.0.0",
       "_model_name": "LayoutModel",
       "_view_count": null,
       "_view_module": "@jupyter-widgets/base",
       "_view_module_version": "2.0.0",
       "_view_name": "LayoutView",
       "align_content": null,
       "align_items": null,
       "align_self": null,
       "border_bottom": null,
       "border_left": null,
       "border_right": null,
       "border_top": null,
       "bottom": null,
       "display": null,
       "flex": null,
       "flex_flow": null,
       "grid_area": null,
       "grid_auto_columns": null,
       "grid_auto_flow": null,
       "grid_auto_rows": null,
       "grid_column": null,
       "grid_gap": null,
       "grid_row": null,
       "grid_template_areas": null,
       "grid_template_columns": null,
       "grid_template_rows": null,
       "height": null,
       "justify_content": null,
       "justify_items": null,
       "left": null,
       "margin": null,
       "max_height": null,
       "max_width": null,
       "min_height": null,
       "min_width": null,
       "object_fit": null,
       "object_position": null,
       "order": null,
       "overflow": null,
       "padding": null,
       "right": null,
       "top": null,
       "visibility": null,
       "width": null
      }
     },
     "e98f20ebaba14e5db8a9a5f33dc36bbd": {
      "model_module": "@jupyter-widgets/base",
      "model_module_version": "2.0.0",
      "model_name": "LayoutModel",
      "state": {
       "_model_module": "@jupyter-widgets/base",
       "_model_module_version": "2.0.0",
       "_model_name": "LayoutModel",
       "_view_count": null,
       "_view_module": "@jupyter-widgets/base",
       "_view_module_version": "2.0.0",
       "_view_name": "LayoutView",
       "align_content": null,
       "align_items": null,
       "align_self": null,
       "border_bottom": null,
       "border_left": null,
       "border_right": null,
       "border_top": null,
       "bottom": null,
       "display": null,
       "flex": null,
       "flex_flow": null,
       "grid_area": null,
       "grid_auto_columns": null,
       "grid_auto_flow": null,
       "grid_auto_rows": null,
       "grid_column": null,
       "grid_gap": null,
       "grid_row": null,
       "grid_template_areas": null,
       "grid_template_columns": null,
       "grid_template_rows": null,
       "height": null,
       "justify_content": null,
       "justify_items": null,
       "left": null,
       "margin": null,
       "max_height": null,
       "max_width": null,
       "min_height": null,
       "min_width": null,
       "object_fit": null,
       "object_position": null,
       "order": null,
       "overflow": null,
       "padding": null,
       "right": null,
       "top": null,
       "visibility": null,
       "width": null
      }
     },
     "ea5a520d3c1d48b2b9312d8688849576": {
      "model_module": "@jupyter-widgets/base",
      "model_module_version": "2.0.0",
      "model_name": "LayoutModel",
      "state": {
       "_model_module": "@jupyter-widgets/base",
       "_model_module_version": "2.0.0",
       "_model_name": "LayoutModel",
       "_view_count": null,
       "_view_module": "@jupyter-widgets/base",
       "_view_module_version": "2.0.0",
       "_view_name": "LayoutView",
       "align_content": null,
       "align_items": null,
       "align_self": null,
       "border_bottom": null,
       "border_left": null,
       "border_right": null,
       "border_top": null,
       "bottom": null,
       "display": null,
       "flex": null,
       "flex_flow": null,
       "grid_area": null,
       "grid_auto_columns": null,
       "grid_auto_flow": null,
       "grid_auto_rows": null,
       "grid_column": null,
       "grid_gap": null,
       "grid_row": null,
       "grid_template_areas": null,
       "grid_template_columns": null,
       "grid_template_rows": null,
       "height": null,
       "justify_content": null,
       "justify_items": null,
       "left": null,
       "margin": null,
       "max_height": null,
       "max_width": null,
       "min_height": null,
       "min_width": null,
       "object_fit": null,
       "object_position": null,
       "order": null,
       "overflow": null,
       "padding": null,
       "right": null,
       "top": null,
       "visibility": null,
       "width": null
      }
     },
     "eb7ab5f9ae79488ca01b21b828c31ca3": {
      "model_module": "@jupyter-widgets/controls",
      "model_module_version": "2.0.0",
      "model_name": "HBoxModel",
      "state": {
       "_dom_classes": [],
       "_model_module": "@jupyter-widgets/controls",
       "_model_module_version": "2.0.0",
       "_model_name": "HBoxModel",
       "_view_count": null,
       "_view_module": "@jupyter-widgets/controls",
       "_view_module_version": "2.0.0",
       "_view_name": "HBoxView",
       "box_style": "",
       "children": [
        "IPY_MODEL_4c5db2fb0c1c43a1ad77894a90a45489",
        "IPY_MODEL_cbe1452b5d7b457e8f77c257227f3bde",
        "IPY_MODEL_0f841adcd3a544d3814f142e08d12501"
       ],
       "layout": "IPY_MODEL_5664c6d51916425aaf3d0cfaf947f459",
       "tabbable": null,
       "tooltip": null
      }
     },
     "ed78c4e8bb3b4bc791fb197373945fbb": {
      "model_module": "@jupyter-widgets/controls",
      "model_module_version": "2.0.0",
      "model_name": "HTMLModel",
      "state": {
       "_dom_classes": [],
       "_model_module": "@jupyter-widgets/controls",
       "_model_module_version": "2.0.0",
       "_model_name": "HTMLModel",
       "_view_count": null,
       "_view_module": "@jupyter-widgets/controls",
       "_view_module_version": "2.0.0",
       "_view_name": "HTMLView",
       "description": "",
       "description_allow_html": false,
       "layout": "IPY_MODEL_021d9107403c4a1392ed200a535df604",
       "placeholder": "​",
       "style": "IPY_MODEL_5cbd75d900e647989a60cd2b8ac34ec6",
       "tabbable": null,
       "tooltip": null,
       "value": "added_tokens.json: 100%"
      }
     },
     "ef51caddf99248139fb7cc5ed226ddb6": {
      "model_module": "@jupyter-widgets/base",
      "model_module_version": "2.0.0",
      "model_name": "LayoutModel",
      "state": {
       "_model_module": "@jupyter-widgets/base",
       "_model_module_version": "2.0.0",
       "_model_name": "LayoutModel",
       "_view_count": null,
       "_view_module": "@jupyter-widgets/base",
       "_view_module_version": "2.0.0",
       "_view_name": "LayoutView",
       "align_content": null,
       "align_items": null,
       "align_self": null,
       "border_bottom": null,
       "border_left": null,
       "border_right": null,
       "border_top": null,
       "bottom": null,
       "display": null,
       "flex": null,
       "flex_flow": null,
       "grid_area": null,
       "grid_auto_columns": null,
       "grid_auto_flow": null,
       "grid_auto_rows": null,
       "grid_column": null,
       "grid_gap": null,
       "grid_row": null,
       "grid_template_areas": null,
       "grid_template_columns": null,
       "grid_template_rows": null,
       "height": null,
       "justify_content": null,
       "justify_items": null,
       "left": null,
       "margin": null,
       "max_height": null,
       "max_width": null,
       "min_height": null,
       "min_width": null,
       "object_fit": null,
       "object_position": null,
       "order": null,
       "overflow": null,
       "padding": null,
       "right": null,
       "top": null,
       "visibility": null,
       "width": null
      }
     },
     "f09e576c11434e1cba80f9a7f00edd80": {
      "model_module": "@jupyter-widgets/controls",
      "model_module_version": "2.0.0",
      "model_name": "HTMLStyleModel",
      "state": {
       "_model_module": "@jupyter-widgets/controls",
       "_model_module_version": "2.0.0",
       "_model_name": "HTMLStyleModel",
       "_view_count": null,
       "_view_module": "@jupyter-widgets/base",
       "_view_module_version": "2.0.0",
       "_view_name": "StyleView",
       "background": null,
       "description_width": "",
       "font_size": null,
       "text_color": null
      }
     },
     "f0d248a695904e2d954e2e7829ce2fe4": {
      "model_module": "@jupyter-widgets/base",
      "model_module_version": "2.0.0",
      "model_name": "LayoutModel",
      "state": {
       "_model_module": "@jupyter-widgets/base",
       "_model_module_version": "2.0.0",
       "_model_name": "LayoutModel",
       "_view_count": null,
       "_view_module": "@jupyter-widgets/base",
       "_view_module_version": "2.0.0",
       "_view_name": "LayoutView",
       "align_content": null,
       "align_items": null,
       "align_self": null,
       "border_bottom": null,
       "border_left": null,
       "border_right": null,
       "border_top": null,
       "bottom": null,
       "display": null,
       "flex": null,
       "flex_flow": null,
       "grid_area": null,
       "grid_auto_columns": null,
       "grid_auto_flow": null,
       "grid_auto_rows": null,
       "grid_column": null,
       "grid_gap": null,
       "grid_row": null,
       "grid_template_areas": null,
       "grid_template_columns": null,
       "grid_template_rows": null,
       "height": null,
       "justify_content": null,
       "justify_items": null,
       "left": null,
       "margin": null,
       "max_height": null,
       "max_width": null,
       "min_height": null,
       "min_width": null,
       "object_fit": null,
       "object_position": null,
       "order": null,
       "overflow": null,
       "padding": null,
       "right": null,
       "top": null,
       "visibility": null,
       "width": null
      }
     },
     "f12dafb061884971861d41f05abb130d": {
      "model_module": "@jupyter-widgets/controls",
      "model_module_version": "2.0.0",
      "model_name": "HTMLModel",
      "state": {
       "_dom_classes": [],
       "_model_module": "@jupyter-widgets/controls",
       "_model_module_version": "2.0.0",
       "_model_name": "HTMLModel",
       "_view_count": null,
       "_view_module": "@jupyter-widgets/controls",
       "_view_module_version": "2.0.0",
       "_view_name": "HTMLView",
       "description": "",
       "description_allow_html": false,
       "layout": "IPY_MODEL_31cacee4d8c948aaa090ac71227f54f8",
       "placeholder": "​",
       "style": "IPY_MODEL_942095a4c9a34db1a8d0c08bd858c4ab",
       "tabbable": null,
       "tooltip": null,
       "value": " 15.0k/15.0k [00:00&lt;00:00, 1.59MB/s]"
      }
     },
     "f2c7f958cf33427f9853a83971ae66ab": {
      "model_module": "@jupyter-widgets/controls",
      "model_module_version": "2.0.0",
      "model_name": "FloatProgressModel",
      "state": {
       "_dom_classes": [],
       "_model_module": "@jupyter-widgets/controls",
       "_model_module_version": "2.0.0",
       "_model_name": "FloatProgressModel",
       "_view_count": null,
       "_view_module": "@jupyter-widgets/controls",
       "_view_module_version": "2.0.0",
       "_view_name": "ProgressView",
       "bar_style": "success",
       "description": "",
       "description_allow_html": false,
       "layout": "IPY_MODEL_11a4dd68419242039fe4f3e8ef2ea213",
       "max": 1110926888.0,
       "min": 0.0,
       "orientation": "horizontal",
       "style": "IPY_MODEL_4b267ea8c26c4302a8dd005197d03acf",
       "tabbable": null,
       "tooltip": null,
       "value": 1110926888.0
      }
     },
     "f3b242caebe24d1ba19f2d607e20a016": {
      "model_module": "@jupyter-widgets/controls",
      "model_module_version": "2.0.0",
      "model_name": "HTMLModel",
      "state": {
       "_dom_classes": [],
       "_model_module": "@jupyter-widgets/controls",
       "_model_module_version": "2.0.0",
       "_model_name": "HTMLModel",
       "_view_count": null,
       "_view_module": "@jupyter-widgets/controls",
       "_view_module_version": "2.0.0",
       "_view_name": "HTMLView",
       "description": "",
       "description_allow_html": false,
       "layout": "IPY_MODEL_60ed80be55084f0db81203601a803918",
       "placeholder": "​",
       "style": "IPY_MODEL_420efbe0ea2d45c5ac184b1f07e02a25",
       "tabbable": null,
       "tooltip": null,
       "value": " 1.11G/1.11G [00:04&lt;00:00, 250MB/s]"
      }
     },
     "f3f26d4304a74667bbec6f3934472f66": {
      "model_module": "@jupyter-widgets/base",
      "model_module_version": "2.0.0",
      "model_name": "LayoutModel",
      "state": {
       "_model_module": "@jupyter-widgets/base",
       "_model_module_version": "2.0.0",
       "_model_name": "LayoutModel",
       "_view_count": null,
       "_view_module": "@jupyter-widgets/base",
       "_view_module_version": "2.0.0",
       "_view_name": "LayoutView",
       "align_content": null,
       "align_items": null,
       "align_self": null,
       "border_bottom": null,
       "border_left": null,
       "border_right": null,
       "border_top": null,
       "bottom": null,
       "display": null,
       "flex": null,
       "flex_flow": null,
       "grid_area": null,
       "grid_auto_columns": null,
       "grid_auto_flow": null,
       "grid_auto_rows": null,
       "grid_column": null,
       "grid_gap": null,
       "grid_row": null,
       "grid_template_areas": null,
       "grid_template_columns": null,
       "grid_template_rows": null,
       "height": null,
       "justify_content": null,
       "justify_items": null,
       "left": null,
       "margin": null,
       "max_height": null,
       "max_width": null,
       "min_height": null,
       "min_width": null,
       "object_fit": null,
       "object_position": null,
       "order": null,
       "overflow": null,
       "padding": null,
       "right": null,
       "top": null,
       "visibility": null,
       "width": null
      }
     },
     "f7a88de0ca2542f1a8c8ef2e274ad72e": {
      "model_module": "@jupyter-widgets/controls",
      "model_module_version": "2.0.0",
      "model_name": "HTMLModel",
      "state": {
       "_dom_classes": [],
       "_model_module": "@jupyter-widgets/controls",
       "_model_module_version": "2.0.0",
       "_model_name": "HTMLModel",
       "_view_count": null,
       "_view_module": "@jupyter-widgets/controls",
       "_view_module_version": "2.0.0",
       "_view_name": "HTMLView",
       "description": "",
       "description_allow_html": false,
       "layout": "IPY_MODEL_81a03c5b26c240199a73c8936983b050",
       "placeholder": "​",
       "style": "IPY_MODEL_cf5284b52e5c4e64babfce606378ecc7",
       "tabbable": null,
       "tooltip": null,
       "value": "Map: 100%"
      }
     },
     "fa05c1b3370648349c4a051e2b951a49": {
      "model_module": "@jupyter-widgets/controls",
      "model_module_version": "2.0.0",
      "model_name": "ProgressStyleModel",
      "state": {
       "_model_module": "@jupyter-widgets/controls",
       "_model_module_version": "2.0.0",
       "_model_name": "ProgressStyleModel",
       "_view_count": null,
       "_view_module": "@jupyter-widgets/base",
       "_view_module_version": "2.0.0",
       "_view_name": "StyleView",
       "bar_color": null,
       "description_width": ""
      }
     }
    },
    "version_major": 2,
    "version_minor": 0
   }
  }
 },
 "nbformat": 4,
 "nbformat_minor": 5
}
